{
  "nbformat": 4,
  "nbformat_minor": 0,
  "metadata": {
    "colab": {
      "provenance": [],
      "include_colab_link": true
    },
    "kernelspec": {
      "name": "python3",
      "display_name": "Python 3"
    },
    "language_info": {
      "name": "python"
    },
    "accelerator": "GPU"
  },
  "cells": [
    {
      "cell_type": "markdown",
      "metadata": {
        "id": "view-in-github",
        "colab_type": "text"
      },
      "source": [
        "<a href=\"https://colab.research.google.com/github/Rehajel15/Pytorch-Tutorials/blob/main/01_pytorch_workflow_exercises.ipynb\" target=\"_parent\"><img src=\"https://colab.research.google.com/assets/colab-badge.svg\" alt=\"Open In Colab\"/></a>"
      ]
    },
    {
      "cell_type": "markdown",
      "source": [
        "# 01. PyTorch Workflow Exercise Template\n",
        "\n",
        "The following is a template for the PyTorch workflow exercises.\n",
        "\n",
        "It's only starter code and it's your job to fill in the blanks.\n",
        "\n",
        "Because of the flexibility of PyTorch, there may be more than one way to answer the question.\n",
        "\n",
        "Don't worry about trying to be *right* just try writing code that suffices the question.\n",
        "\n",
        "You can see one form of [solutions on GitHub](https://github.com/mrdbourke/pytorch-deep-learning/tree/main/extras/solutions) (but try the exercises below yourself first!)."
      ],
      "metadata": {
        "id": "N8LsPXZti9Sw"
      }
    },
    {
      "cell_type": "code",
      "source": [
        "# Import necessary libraries\n",
        "import torch\n",
        "from torch import nn\n",
        "import matplotlib.pyplot as plt"
      ],
      "metadata": {
        "id": "Glu2fM4dkNlx"
      },
      "execution_count": null,
      "outputs": []
    },
    {
      "cell_type": "code",
      "source": [
        "# Setup device-agnostic code\n",
        "if torch.cuda.is_available():\n",
        "  device = \"cuda\"\n",
        "else:\n",
        "  device = \"cpu\"\n",
        "device"
      ],
      "metadata": {
        "id": "LqKhXY26m31s",
        "colab": {
          "base_uri": "https://localhost:8080/",
          "height": 35
        },
        "outputId": "c849acc3-d81d-4155-d808-c06cb2ee6bf0"
      },
      "execution_count": null,
      "outputs": [
        {
          "output_type": "execute_result",
          "data": {
            "text/plain": [
              "'cuda'"
            ],
            "application/vnd.google.colaboratory.intrinsic+json": {
              "type": "string"
            }
          },
          "metadata": {},
          "execution_count": 2
        }
      ]
    },
    {
      "cell_type": "markdown",
      "source": [
        "## 1. Create a straight line dataset using the linear regression formula (`weight * X + bias`).\n",
        "  * Set `weight=0.3` and `bias=0.9` there should be at least 100 datapoints total.\n",
        "  * Split the data into 80% training, 20% testing.\n",
        "  * Plot the training and testing data so it becomes visual.\n",
        "\n",
        "Your output of the below cell should look something like:\n",
        "```\n",
        "Number of X samples: 100\n",
        "Number of y samples: 100\n",
        "First 10 X & y samples:\n",
        "X: tensor([0.0000, 0.0100, 0.0200, 0.0300, 0.0400, 0.0500, 0.0600, 0.0700, 0.0800,\n",
        "        0.0900])\n",
        "y: tensor([0.9000, 0.9030, 0.9060, 0.9090, 0.9120, 0.9150, 0.9180, 0.9210, 0.9240,\n",
        "        0.9270])\n",
        "```\n",
        "\n",
        "Of course the numbers in `X` and `y` may be different but ideally they're created using the linear regression formula."
      ],
      "metadata": {
        "id": "g7HUhxCxjeBx"
      }
    },
    {
      "cell_type": "code",
      "source": [
        "# Create the data parameters\n",
        "weight = 0.3\n",
        "bias = 0.9\n",
        "\n",
        "# Make X and y using linear regression feature\n",
        "X = torch.arange(0, 1, 0.01).unsqueeze(dim=1)\n",
        "y = weight * X + bias\n",
        "\n",
        "print(f\"Number of X samples: {len(X)}\")\n",
        "print(f\"Number of y samples: {len(y)}\")\n",
        "print(f\"First 10 X & y samples:\\nX: {X[:10]}\\ny: {y[:10]}\")"
      ],
      "metadata": {
        "id": "KbDG5MV7jhvE",
        "colab": {
          "base_uri": "https://localhost:8080/"
        },
        "outputId": "65703bd2-2541-4c8f-d8cd-e5822e45045d"
      },
      "execution_count": null,
      "outputs": [
        {
          "output_type": "stream",
          "name": "stdout",
          "text": [
            "Number of X samples: 100\n",
            "Number of y samples: 100\n",
            "First 10 X & y samples:\n",
            "X: tensor([[0.0000],\n",
            "        [0.0100],\n",
            "        [0.0200],\n",
            "        [0.0300],\n",
            "        [0.0400],\n",
            "        [0.0500],\n",
            "        [0.0600],\n",
            "        [0.0700],\n",
            "        [0.0800],\n",
            "        [0.0900]])\n",
            "y: tensor([[0.9000],\n",
            "        [0.9030],\n",
            "        [0.9060],\n",
            "        [0.9090],\n",
            "        [0.9120],\n",
            "        [0.9150],\n",
            "        [0.9180],\n",
            "        [0.9210],\n",
            "        [0.9240],\n",
            "        [0.9270]])\n"
          ]
        }
      ]
    },
    {
      "cell_type": "code",
      "source": [
        "# Split the data into training and testing\n",
        "train_split = int(0.8 * len(X))\n",
        "X_train, y_train = X[:train_split], y[:train_split]\n",
        "X_test, y_test = X[train_split:], y[train_split:]"
      ],
      "metadata": {
        "id": "GlwtT1djkmLw"
      },
      "execution_count": null,
      "outputs": []
    },
    {
      "cell_type": "code",
      "source": [
        "# Plot the training and testing data\n",
        "def plot_predictions(train_data=X_train,\n",
        "                     train_labels=y_train,\n",
        "                     test_data=X_test,\n",
        "                     test_labels=y_test,\n",
        "                     predictions=None):\n",
        "  \"\"\"\n",
        "  Plots training data, test data and compares predictions.\n",
        "  \"\"\"\n",
        "\n",
        "  plt.figure(figsize=(10,7))\n",
        "\n",
        "  # Plot training data in blue\n",
        "  plt.scatter(train_data, train_labels, c=\"b\", s=4, label=\"Training data\")\n",
        "\n",
        "  # Plot test data in green\n",
        "  plt.scatter(test_data, test_labels, c=\"g\", s=4, label=\"Testing data\")\n",
        "\n",
        "  # Are there predictions?\n",
        "  if predictions is not None:\n",
        "    # Plot the predictions if they exists\n",
        "    plt.scatter(test_data, predictions, c=\"r\", s=4, label=\"Predictions\")\n",
        "\n",
        "  # Show the legend\n",
        "  plt.legend(prop={\"size\":14})"
      ],
      "metadata": {
        "id": "29iQZFNhlYJ-"
      },
      "execution_count": null,
      "outputs": []
    },
    {
      "cell_type": "code",
      "source": [
        "plot_predictions()"
      ],
      "metadata": {
        "colab": {
          "base_uri": "https://localhost:8080/",
          "height": 599
        },
        "id": "ycirKQiOIvD1",
        "outputId": "bd314a8f-5884-4baa-937d-9869af46ca09"
      },
      "execution_count": null,
      "outputs": [
        {
          "output_type": "display_data",
          "data": {
            "text/plain": [
              "<Figure size 1000x700 with 1 Axes>"
            ],
            "image/png": "[encoded data removed]"
          },
          "metadata": {}
        }
      ]
    },
    {
      "cell_type": "markdown",
      "source": [
        "## 2. Build a PyTorch model by subclassing `nn.Module`.\n",
        "  * Inside should be a randomly initialized `nn.Parameter()` with `requires_grad=True`, one for `weights` and one for `bias`.\n",
        "  * Implement the `forward()` method to compute the linear regression function you used to create the dataset in 1.\n",
        "  * Once you've constructed the model, make an instance of it and check its `state_dict()`.\n",
        "  * **Note:** If you'd like to use `nn.Linear()` instead of `nn.Parameter()` you can."
      ],
      "metadata": {
        "id": "ImZoe3v8jif8"
      }
    },
    {
      "cell_type": "code",
      "source": [
        "# Create PyTorch linear regression model by subclassing nn.Module\n",
        "class LinearRegressionModel(nn.Module):\n",
        "  def __init__(self):\n",
        "    super().__init__()\n",
        "    self.mlayer = nn.Linear(in_features=1, out_features=1)\n",
        "\n",
        "  def forward(self, x: torch.Tensor) -> torch.Tensor:\n",
        "    return self.mlayer(x)"
      ],
      "metadata": {
        "id": "qzd__Y5rjtB8"
      },
      "execution_count": null,
      "outputs": []
    },
    {
      "cell_type": "code",
      "source": [
        "# Instantiate the model and put it to the target device\n",
        "model_0 = LinearRegressionModel()\n",
        "model_0.to(device)\n",
        "model_0.state_dict()"
      ],
      "metadata": {
        "id": "5LdcDnmOmyQ2",
        "colab": {
          "base_uri": "https://localhost:8080/"
        },
        "outputId": "070a640d-eb09-4396-d066-3cdc55811e3a"
      },
      "execution_count": null,
      "outputs": [
        {
          "output_type": "execute_result",
          "data": {
            "text/plain": [
              "OrderedDict([('mlayer.weight', tensor([[-0.6697]], device='cuda:0')),\n",
              "             ('mlayer.bias', tensor([-0.2308], device='cuda:0'))])"
            ]
          },
          "metadata": {},
          "execution_count": 14
        }
      ]
    },
    {
      "cell_type": "markdown",
      "source": [
        "## 3. Create a loss function and optimizer using `nn.L1Loss()` and `torch.optim.SGD(params, lr)` respectively.\n",
        "  * Set the learning rate of the optimizer to be 0.01 and the parameters to optimize should be the model parameters from the model you created in 2.\n",
        "  * Write a training loop to perform the appropriate training steps for 300 epochs.\n",
        "  * The training loop should test the model on the test dataset every 20 epochs."
      ],
      "metadata": {
        "id": "G6nYOrJhjtfu"
      }
    },
    {
      "cell_type": "code",
      "source": [
        "# Create the loss function and optimizer\n",
        "loss_fn = nn.L1Loss()\n",
        "optimizer = torch.optim.SGD(params=model_0.parameters(), lr=0.0001)"
      ],
      "metadata": {
        "id": "ltvoZ-FWjv1j"
      },
      "execution_count": 45,
      "outputs": []
    },
    {
      "cell_type": "code",
      "source": [
        "# Training loop\n",
        "torch.manual_seed(42)\n",
        "\n",
        "# Train model for 300 epochs\n",
        "\n",
        "epochs = 3000\n",
        "\n",
        "# Send data to target device\n",
        "y_test = y_test.to(device)\n",
        "y_train = y_train.to(device)\n",
        "X_test = X_test.to(device)\n",
        "X_train = X_train.to(device)\n",
        "\n",
        "\n",
        "for epoch in range(epochs):\n",
        "  ### Training\n",
        "\n",
        "  model_0.train()\n",
        "\n",
        "  y_pred = model_0(X_train)\n",
        "\n",
        "  loss = loss_fn(y_pred, y_train)\n",
        "\n",
        "  optimizer.zero_grad()\n",
        "\n",
        "  loss.backward()\n",
        "\n",
        "  optimizer.step()\n",
        "\n",
        "  ### Perform testing every 20 epochs\n",
        "  if epoch % 20 == 0:\n",
        "\n",
        "    # Put model in evaluation mode and setup inference context\n",
        "    model_0.eval()\n",
        "    with torch.inference_mode():\n",
        "      y_test_pred = model_0(X_test)\n",
        "\n",
        "      test_loss = loss_fn(y_test_pred, y_test)\n",
        "\n",
        "      # Print out what's happening\n",
        "      print(f\"Epoch: {epoch} | Train loss: {loss:.3f} | Test loss: {test_loss:.3f}\")"
      ],
      "metadata": {
        "id": "xpE83NvNnkdV",
        "colab": {
          "base_uri": "https://localhost:8080/"
        },
        "outputId": "f4169a5b-50d5-4251-be49-8c34e4de4a2c"
      },
      "execution_count": 46,
      "outputs": [
        {
          "output_type": "stream",
          "name": "stdout",
          "text": [
            "Epoch: 0 | Train loss: 0.008 | Test loss: 0.006\n",
            "Epoch: 20 | Train loss: 0.006 | Test loss: 0.004\n",
            "Epoch: 40 | Train loss: 0.004 | Test loss: 0.001\n",
            "Epoch: 60 | Train loss: 0.002 | Test loss: 0.002\n",
            "Epoch: 80 | Train loss: 0.001 | Test loss: 0.002\n",
            "Epoch: 100 | Train loss: 0.001 | Test loss: 0.003\n",
            "Epoch: 120 | Train loss: 0.001 | Test loss: 0.003\n",
            "Epoch: 140 | Train loss: 0.001 | Test loss: 0.003\n",
            "Epoch: 160 | Train loss: 0.001 | Test loss: 0.002\n",
            "Epoch: 180 | Train loss: 0.001 | Test loss: 0.002\n",
            "Epoch: 200 | Train loss: 0.001 | Test loss: 0.002\n",
            "Epoch: 220 | Train loss: 0.001 | Test loss: 0.002\n",
            "Epoch: 240 | Train loss: 0.001 | Test loss: 0.002\n",
            "Epoch: 260 | Train loss: 0.001 | Test loss: 0.002\n",
            "Epoch: 280 | Train loss: 0.001 | Test loss: 0.001\n",
            "Epoch: 300 | Train loss: 0.001 | Test loss: 0.001\n",
            "Epoch: 320 | Train loss: 0.000 | Test loss: 0.001\n",
            "Epoch: 340 | Train loss: 0.000 | Test loss: 0.001\n",
            "Epoch: 360 | Train loss: 0.000 | Test loss: 0.001\n",
            "Epoch: 380 | Train loss: 0.000 | Test loss: 0.001\n",
            "Epoch: 400 | Train loss: 0.000 | Test loss: 0.000\n",
            "Epoch: 420 | Train loss: 0.000 | Test loss: 0.000\n",
            "Epoch: 440 | Train loss: 0.000 | Test loss: 0.000\n",
            "Epoch: 460 | Train loss: 0.000 | Test loss: 0.000\n",
            "Epoch: 480 | Train loss: 0.000 | Test loss: 0.000\n",
            "Epoch: 500 | Train loss: 0.000 | Test loss: 0.000\n",
            "Epoch: 520 | Train loss: 0.000 | Test loss: 0.000\n",
            "Epoch: 540 | Train loss: 0.000 | Test loss: 0.000\n",
            "Epoch: 560 | Train loss: 0.000 | Test loss: 0.000\n",
            "Epoch: 580 | Train loss: 0.000 | Test loss: 0.000\n",
            "Epoch: 600 | Train loss: 0.000 | Test loss: 0.000\n",
            "Epoch: 620 | Train loss: 0.000 | Test loss: 0.000\n",
            "Epoch: 640 | Train loss: 0.000 | Test loss: 0.000\n",
            "Epoch: 660 | Train loss: 0.000 | Test loss: 0.000\n",
            "Epoch: 680 | Train loss: 0.000 | Test loss: 0.000\n",
            "Epoch: 700 | Train loss: 0.000 | Test loss: 0.000\n",
            "Epoch: 720 | Train loss: 0.000 | Test loss: 0.000\n",
            "Epoch: 740 | Train loss: 0.000 | Test loss: 0.000\n",
            "Epoch: 760 | Train loss: 0.000 | Test loss: 0.000\n",
            "Epoch: 780 | Train loss: 0.000 | Test loss: 0.000\n",
            "Epoch: 800 | Train loss: 0.000 | Test loss: 0.000\n",
            "Epoch: 820 | Train loss: 0.000 | Test loss: 0.000\n",
            "Epoch: 840 | Train loss: 0.000 | Test loss: 0.000\n",
            "Epoch: 860 | Train loss: 0.000 | Test loss: 0.000\n",
            "Epoch: 880 | Train loss: 0.000 | Test loss: 0.000\n",
            "Epoch: 900 | Train loss: 0.000 | Test loss: 0.000\n",
            "Epoch: 920 | Train loss: 0.000 | Test loss: 0.000\n",
            "Epoch: 940 | Train loss: 0.000 | Test loss: 0.000\n",
            "Epoch: 960 | Train loss: 0.000 | Test loss: 0.000\n",
            "Epoch: 980 | Train loss: 0.000 | Test loss: 0.000\n",
            "Epoch: 1000 | Train loss: 0.000 | Test loss: 0.000\n",
            "Epoch: 1020 | Train loss: 0.000 | Test loss: 0.000\n",
            "Epoch: 1040 | Train loss: 0.000 | Test loss: 0.000\n",
            "Epoch: 1060 | Train loss: 0.000 | Test loss: 0.000\n",
            "Epoch: 1080 | Train loss: 0.000 | Test loss: 0.000\n",
            "Epoch: 1100 | Train loss: 0.000 | Test loss: 0.000\n",
            "Epoch: 1120 | Train loss: 0.000 | Test loss: 0.000\n",
            "Epoch: 1140 | Train loss: 0.000 | Test loss: 0.000\n",
            "Epoch: 1160 | Train loss: 0.000 | Test loss: 0.000\n",
            "Epoch: 1180 | Train loss: 0.000 | Test loss: 0.000\n",
            "Epoch: 1200 | Train loss: 0.000 | Test loss: 0.000\n",
            "Epoch: 1220 | Train loss: 0.000 | Test loss: 0.000\n",
            "Epoch: 1240 | Train loss: 0.000 | Test loss: 0.000\n",
            "Epoch: 1260 | Train loss: 0.000 | Test loss: 0.000\n",
            "Epoch: 1280 | Train loss: 0.000 | Test loss: 0.000\n",
            "Epoch: 1300 | Train loss: 0.000 | Test loss: 0.000\n",
            "Epoch: 1320 | Train loss: 0.000 | Test loss: 0.000\n",
            "Epoch: 1340 | Train loss: 0.000 | Test loss: 0.000\n",
            "Epoch: 1360 | Train loss: 0.000 | Test loss: 0.000\n",
            "Epoch: 1380 | Train loss: 0.000 | Test loss: 0.000\n",
            "Epoch: 1400 | Train loss: 0.000 | Test loss: 0.000\n",
            "Epoch: 1420 | Train loss: 0.000 | Test loss: 0.000\n",
            "Epoch: 1440 | Train loss: 0.000 | Test loss: 0.000\n",
            "Epoch: 1460 | Train loss: 0.000 | Test loss: 0.000\n",
            "Epoch: 1480 | Train loss: 0.000 | Test loss: 0.000\n",
            "Epoch: 1500 | Train loss: 0.000 | Test loss: 0.000\n",
            "Epoch: 1520 | Train loss: 0.000 | Test loss: 0.000\n",
            "Epoch: 1540 | Train loss: 0.000 | Test loss: 0.000\n",
            "Epoch: 1560 | Train loss: 0.000 | Test loss: 0.000\n",
            "Epoch: 1580 | Train loss: 0.000 | Test loss: 0.000\n",
            "Epoch: 1600 | Train loss: 0.000 | Test loss: 0.000\n",
            "Epoch: 1620 | Train loss: 0.000 | Test loss: 0.000\n",
            "Epoch: 1640 | Train loss: 0.000 | Test loss: 0.000\n",
            "Epoch: 1660 | Train loss: 0.000 | Test loss: 0.000\n",
            "Epoch: 1680 | Train loss: 0.000 | Test loss: 0.000\n",
            "Epoch: 1700 | Train loss: 0.000 | Test loss: 0.000\n",
            "Epoch: 1720 | Train loss: 0.000 | Test loss: 0.000\n",
            "Epoch: 1740 | Train loss: 0.000 | Test loss: 0.000\n",
            "Epoch: 1760 | Train loss: 0.000 | Test loss: 0.000\n",
            "Epoch: 1780 | Train loss: 0.000 | Test loss: 0.000\n",
            "Epoch: 1800 | Train loss: 0.000 | Test loss: 0.000\n",
            "Epoch: 1820 | Train loss: 0.000 | Test loss: 0.000\n",
            "Epoch: 1840 | Train loss: 0.000 | Test loss: 0.000\n",
            "Epoch: 1860 | Train loss: 0.000 | Test loss: 0.000\n",
            "Epoch: 1880 | Train loss: 0.000 | Test loss: 0.000\n",
            "Epoch: 1900 | Train loss: 0.000 | Test loss: 0.000\n",
            "Epoch: 1920 | Train loss: 0.000 | Test loss: 0.000\n",
            "Epoch: 1940 | Train loss: 0.000 | Test loss: 0.000\n",
            "Epoch: 1960 | Train loss: 0.000 | Test loss: 0.000\n",
            "Epoch: 1980 | Train loss: 0.000 | Test loss: 0.000\n",
            "Epoch: 2000 | Train loss: 0.000 | Test loss: 0.000\n",
            "Epoch: 2020 | Train loss: 0.000 | Test loss: 0.000\n",
            "Epoch: 2040 | Train loss: 0.000 | Test loss: 0.000\n",
            "Epoch: 2060 | Train loss: 0.000 | Test loss: 0.000\n",
            "Epoch: 2080 | Train loss: 0.000 | Test loss: 0.000\n",
            "Epoch: 2100 | Train loss: 0.000 | Test loss: 0.000\n",
            "Epoch: 2120 | Train loss: 0.000 | Test loss: 0.000\n",
            "Epoch: 2140 | Train loss: 0.000 | Test loss: 0.000\n",
            "Epoch: 2160 | Train loss: 0.000 | Test loss: 0.000\n",
            "Epoch: 2180 | Train loss: 0.000 | Test loss: 0.000\n",
            "Epoch: 2200 | Train loss: 0.000 | Test loss: 0.000\n",
            "Epoch: 2220 | Train loss: 0.000 | Test loss: 0.000\n",
            "Epoch: 2240 | Train loss: 0.000 | Test loss: 0.000\n",
            "Epoch: 2260 | Train loss: 0.000 | Test loss: 0.000\n",
            "Epoch: 2280 | Train loss: 0.000 | Test loss: 0.000\n",
            "Epoch: 2300 | Train loss: 0.000 | Test loss: 0.000\n",
            "Epoch: 2320 | Train loss: 0.000 | Test loss: 0.000\n",
            "Epoch: 2340 | Train loss: 0.000 | Test loss: 0.000\n",
            "Epoch: 2360 | Train loss: 0.000 | Test loss: 0.000\n",
            "Epoch: 2380 | Train loss: 0.000 | Test loss: 0.000\n",
            "Epoch: 2400 | Train loss: 0.000 | Test loss: 0.000\n",
            "Epoch: 2420 | Train loss: 0.000 | Test loss: 0.000\n",
            "Epoch: 2440 | Train loss: 0.000 | Test loss: 0.000\n",
            "Epoch: 2460 | Train loss: 0.000 | Test loss: 0.000\n",
            "Epoch: 2480 | Train loss: 0.000 | Test loss: 0.000\n",
            "Epoch: 2500 | Train loss: 0.000 | Test loss: 0.000\n",
            "Epoch: 2520 | Train loss: 0.000 | Test loss: 0.000\n",
            "Epoch: 2540 | Train loss: 0.000 | Test loss: 0.000\n",
            "Epoch: 2560 | Train loss: 0.000 | Test loss: 0.000\n",
            "Epoch: 2580 | Train loss: 0.000 | Test loss: 0.000\n",
            "Epoch: 2600 | Train loss: 0.000 | Test loss: 0.000\n",
            "Epoch: 2620 | Train loss: 0.000 | Test loss: 0.000\n",
            "Epoch: 2640 | Train loss: 0.000 | Test loss: 0.000\n",
            "Epoch: 2660 | Train loss: 0.000 | Test loss: 0.000\n",
            "Epoch: 2680 | Train loss: 0.000 | Test loss: 0.000\n",
            "Epoch: 2700 | Train loss: 0.000 | Test loss: 0.000\n",
            "Epoch: 2720 | Train loss: 0.000 | Test loss: 0.000\n",
            "Epoch: 2740 | Train loss: 0.000 | Test loss: 0.000\n",
            "Epoch: 2760 | Train loss: 0.000 | Test loss: 0.000\n",
            "Epoch: 2780 | Train loss: 0.000 | Test loss: 0.000\n",
            "Epoch: 2800 | Train loss: 0.000 | Test loss: 0.000\n",
            "Epoch: 2820 | Train loss: 0.000 | Test loss: 0.000\n",
            "Epoch: 2840 | Train loss: 0.000 | Test loss: 0.000\n",
            "Epoch: 2860 | Train loss: 0.000 | Test loss: 0.000\n",
            "Epoch: 2880 | Train loss: 0.000 | Test loss: 0.000\n",
            "Epoch: 2900 | Train loss: 0.000 | Test loss: 0.000\n",
            "Epoch: 2920 | Train loss: 0.000 | Test loss: 0.000\n",
            "Epoch: 2940 | Train loss: 0.000 | Test loss: 0.000\n",
            "Epoch: 2960 | Train loss: 0.000 | Test loss: 0.000\n",
            "Epoch: 2980 | Train loss: 0.000 | Test loss: 0.000\n"
          ]
        }
      ]
    },
    {
      "cell_type": "markdown",
      "source": [
        "## 4. Make predictions with the trained model on the test data.\n",
        "  * Visualize these predictions against the original training and testing data (**note:** you may need to make sure the predictions are *not* on the GPU if you want to use non-CUDA-enabled libraries such as matplotlib to plot)."
      ],
      "metadata": {
        "id": "x4j4TM18jwa7"
      }
    },
    {
      "cell_type": "code",
      "source": [
        "# Make predictions with the model\n",
        "model_0.eval()\n",
        "with torch.inference_mode():\n",
        "  preds = model_0(X_test)"
      ],
      "metadata": {
        "id": "bbMPK5Qjjyx_"
      },
      "execution_count": 47,
      "outputs": []
    },
    {
      "cell_type": "code",
      "source": [
        "# Plot the predictions (these may need to be on a specific device)\n",
        "preds = preds.cpu()\n",
        "plot_predictions(predictions=preds)"
      ],
      "metadata": {
        "id": "K3BdmQaDpFo8",
        "colab": {
          "base_uri": "https://localhost:8080/",
          "height": 599
        },
        "outputId": "619e95d9-0a6c-49c8-dbae-ff78dccb5ef1"
      },
      "execution_count": 48,
      "outputs": [
        {
          "output_type": "display_data",
          "data": {
            "text/plain": [
              "<Figure size 1000x700 with 1 Axes>"
            ],
            "image/png": "[encoded data removed]"
          },
          "metadata": {}
        }
      ]
    },
    {
      "cell_type": "markdown",
      "source": [
        "## 5. Save your trained model's `state_dict()` to file.\n",
        "  * Create a new instance of your model class you made in 2. and load in the `state_dict()` you just saved to it.\n",
        "  * Perform predictions on your test data with the loaded model and confirm they match the original model predictions from 4."
      ],
      "metadata": {
        "id": "s2OnlMWKjzX8"
      }
    },
    {
      "cell_type": "code",
      "source": [
        "from pathlib import Path\n",
        "\n",
        "# 1. Create models directory\n",
        "MODEL_PATH = Path(\"models\")\n",
        "MODEL_PATH.mkdir(parents=True, exist_ok=True)\n",
        "\n",
        "# 2. Create model save path\n",
        "MODEL_NAME = \"01_pytorch_workflow_exercises_model_1.pth\"\n",
        "MODEL_SAVE_PATH = MODEL_PATH / MODEL_NAME\n",
        "\n",
        "# 3. Save the model state dict\n",
        "print(f\"Saving model to: {MODEL_SAVE_PATH}\")\n",
        "torch.save(obj=model_0.state_dict(), f=MODEL_SAVE_PATH)\n"
      ],
      "metadata": {
        "id": "hgxhgD14qr-i",
        "colab": {
          "base_uri": "https://localhost:8080/"
        },
        "outputId": "3a89644d-7331-48db-a57e-a345e756ca0b"
      },
      "execution_count": 49,
      "outputs": [
        {
          "output_type": "stream",
          "name": "stdout",
          "text": [
            "Saving model to: models/01_pytorch_workflow_exercises_model_1.pth\n"
          ]
        }
      ]
    },
    {
      "cell_type": "code",
      "source": [
        "# Create new instance of model and load saved state dict (make sure to put it on the target device)\n",
        "loaded_model_0 = LinearRegressionModel()\n",
        "loaded_model_0.load_state_dict(torch.load(f=MODEL_SAVE_PATH))\n",
        "\n",
        "loaded_model_0.to(device)"
      ],
      "metadata": {
        "id": "P9vTgiLRrJ7T",
        "colab": {
          "base_uri": "https://localhost:8080/"
        },
        "outputId": "af4e1340-8bb6-4a44-d50d-fbc964874cd6"
      },
      "execution_count": 50,
      "outputs": [
        {
          "output_type": "stream",
          "name": "stderr",
          "text": [
            "<ipython-input-50-e169329e426a>:3: FutureWarning: You are using `torch.load` with `weights_only=False` (the current default value), which uses the default pickle module implicitly. It is possible to construct malicious pickle data which will execute arbitrary code during unpickling (See https://github.com/pytorch/pytorch/blob/main/SECURITY.md#untrusted-models for more details). In a future release, the default value for `weights_only` will be flipped to `True`. This limits the functions that could be executed during unpickling. Arbitrary objects will no longer be allowed to be loaded via this mode unless they are explicitly allowlisted by the user via `torch.serialization.add_safe_globals`. We recommend you start setting `weights_only=True` for any use case where you don't have full control of the loaded file. Please open an issue on GitHub for any issues related to this experimental feature.\n",
            "  loaded_model_0.load_state_dict(torch.load(f=MODEL_SAVE_PATH))\n"
          ]
        },
        {
          "output_type": "execute_result",
          "data": {
            "text/plain": [
              "LinearRegressionModel(\n",
              "  (mlayer): Linear(in_features=1, out_features=1, bias=True)\n",
              ")"
            ]
          },
          "metadata": {},
          "execution_count": 50
        }
      ]
    },
    {
      "cell_type": "code",
      "source": [
        "# Make predictions with loaded model and compare them to the previous\n",
        "loaded_model_0.eval()\n",
        "with torch.inference_mode():\n",
        "  y_loaded_preds = loaded_model_0(X_test)\n",
        "\n",
        "y_loaded_preds = y_loaded_preds.cpu()\n",
        "plot_predictions(predictions=y_loaded_preds)"
      ],
      "metadata": {
        "id": "8UGX3VebrVtI",
        "colab": {
          "base_uri": "https://localhost:8080/",
          "height": 599
        },
        "outputId": "c96d98d0-572f-4caa-8cd7-fbeec0dd07c7"
      },
      "execution_count": 51,
      "outputs": [
        {
          "output_type": "display_data",
          "data": {
            "text/plain": [
              "<Figure size 1000x700 with 1 Axes>"
            ],
            "image/png": "[encoded data removed]"
          },
          "metadata": {}
        }
      ]
    },
    {
      "cell_type": "code",
      "source": [
        "model_0.state_dict(), loaded_model_0.state_dict()"
      ],
      "metadata": {
        "id": "SvXH1OIrNgUo",
        "colab": {
          "base_uri": "https://localhost:8080/"
        },
        "outputId": "1fb76572-56b0-4c36-938c-d34acd547f75"
      },
      "execution_count": 52,
      "outputs": [
        {
          "output_type": "execute_result",
          "data": {
            "text/plain": [
              "(OrderedDict([('mlayer.weight', tensor([[0.2999]], device='cuda:0')),\n",
              "              ('mlayer.bias', tensor([0.9000], device='cuda:0'))]),\n",
              " OrderedDict([('mlayer.weight', tensor([[0.2999]], device='cuda:0')),\n",
              "              ('mlayer.bias', tensor([0.9000], device='cuda:0'))]))"
            ]
          },
          "metadata": {},
          "execution_count": 52
        }
      ]
    },
    {
      "cell_type": "code",
      "source": [
        "preds == y_loaded_preds"
      ],
      "metadata": {
        "colab": {
          "base_uri": "https://localhost:8080/"
        },
        "id": "tTtv0IsyOr8e",
        "outputId": "fbbac1c2-dc5a-498a-d52c-2820365150aa"
      },
      "execution_count": 53,
      "outputs": [
        {
          "output_type": "execute_result",
          "data": {
            "text/plain": [
              "tensor([[True],\n",
              "        [True],\n",
              "        [True],\n",
              "        [True],\n",
              "        [True],\n",
              "        [True],\n",
              "        [True],\n",
              "        [True],\n",
              "        [True],\n",
              "        [True],\n",
              "        [True],\n",
              "        [True],\n",
              "        [True],\n",
              "        [True],\n",
              "        [True],\n",
              "        [True],\n",
              "        [True],\n",
              "        [True],\n",
              "        [True],\n",
              "        [True]])"
            ]
          },
          "metadata": {},
          "execution_count": 53
        }
      ]
    }
  ]
}