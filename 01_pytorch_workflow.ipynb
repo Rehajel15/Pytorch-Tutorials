{
  "nbformat": 4,
  "nbformat_minor": 0,
  "metadata": {
    "colab": {
      "provenance": [],
      "gpuType": "T4",
      "toc_visible": true,
      "authorship_tag": "ABX9TyMgVG91KXP/TvKuV7xeGNn5",
      "include_colab_link": true
    },
    "kernelspec": {
      "name": "python3",
      "display_name": "Python 3"
    },
    "language_info": {
      "name": "python"
    },
    "accelerator": "GPU"
  },
  "cells": [
    {
      "cell_type": "markdown",
      "metadata": {
        "id": "view-in-github",
        "colab_type": "text"
      },
      "source": [
        "<a href=\"https://colab.research.google.com/github/Rehajel15/Pytorch-Tutorials/blob/main/01_pytorch_workflow.ipynb\" target=\"_parent\"><img src=\"https://colab.research.google.com/assets/colab-badge.svg\" alt=\"Open In Colab\"/></a>"
      ]
    },
    {
      "cell_type": "markdown",
      "source": [
        "# Pytorch Workflow\n",
        "\n",
        "Let's explore an example PyTorch end-to-end workflow\n",
        "\n",
        "Resources:\n",
        "* Ground truth notebook - https://github.com/mrdbourke/pytorch-deep-learning/blob/main/01_pytorch_workflow.ipynb\n",
        "* Book version of notebook - https://www.learnpytorch.io/01_pytorch_workflow/\n",
        "* Ask a question - https://github.com/mrdbourke/pytorch-deep-learning/discussions"
      ],
      "metadata": {
        "id": "LmLDcLS4_f7C"
      }
    },
    {
      "cell_type": "code",
      "source": [
        "what_were_covering = {1: \"data (prepare and load)\",\n",
        "                      2: \"build model\",\n",
        "                      3: \"fitting model to data (training)\",\n",
        "                      4: \"making predictions and evaluting a model (inference)\",\n",
        "                      5: \"saving and loading a model\",\n",
        "                      6: \"putting it all together\"}\n",
        "\n",
        "what_were_covering"
      ],
      "metadata": {
        "colab": {
          "base_uri": "https://localhost:8080/"
        },
        "id": "c_LFGruOAeA-",
        "outputId": "5d9683a4-4dda-4c70-a982-4880527570b3"
      },
      "execution_count": null,
      "outputs": [
        {
          "output_type": "execute_result",
          "data": {
            "text/plain": [
              "{1: 'data (prepare and load)',\n",
              " 2: 'build model',\n",
              " 3: 'fitting model to data (training)',\n",
              " 4: 'making predictions and evaluting a model (inference)',\n",
              " 5: 'saving and loading a model',\n",
              " 6: 'putting it all together'}"
            ]
          },
          "metadata": {},
          "execution_count": 1
        }
      ]
    },
    {
      "cell_type": "code",
      "source": [
        "import torch\n",
        "from torch import nn # nn contains all of PyTorch's building blocks for neural networks\n",
        "import matplotlib.pyplot as plt\n",
        "\n",
        "# Check PyTorch version\n",
        "torch.__version__"
      ],
      "metadata": {
        "colab": {
          "base_uri": "https://localhost:8080/",
          "height": 35
        },
        "id": "RGbKfCdIBJEO",
        "outputId": "f432b5f3-59d6-46f5-ee53-ceeb9e153a04"
      },
      "execution_count": null,
      "outputs": [
        {
          "output_type": "execute_result",
          "data": {
            "text/plain": [
              "'2.5.1+cu124'"
            ],
            "application/vnd.google.colaboratory.intrinsic+json": {
              "type": "string"
            }
          },
          "metadata": {},
          "execution_count": 2
        }
      ]
    },
    {
      "cell_type": "markdown",
      "source": [
        "## 1. Data (preparing and loading)\n",
        "\n",
        "Data can be almost anything in machine learning\n",
        "* Excel spreadsheet\n",
        "* Images of any kind\n",
        "* Videos (YouTube has lots of data...)\n",
        "* Audio like songs or podcast\n",
        "* DNA\n",
        "* Text\n",
        "\n",
        "Machne learning is a game of two parts:\n",
        "1. Get data into a numerical representation.\n",
        "2. Build a model to learn patterns in that numerical representation.\n",
        "\n",
        "To showcase this, let's create some *known* data using the linear regression formula.\n",
        "\n",
        "We'll use a linear regression formula to make a straight line with *known* **parameters**."
      ],
      "metadata": {
        "id": "Z_2L1yBTBvPM"
      }
    },
    {
      "cell_type": "code",
      "source": [
        "# Create *known* parameters\n",
        "weight = 0.7\n",
        "bias = 0.3\n",
        "\n",
        "# Create\n",
        "start = 0\n",
        "end = 1\n",
        "step = 0.02\n",
        "X = torch.arange(start, end, step).unsqueeze(dim=1)\n",
        "y = weight * X + bias\n",
        "\n",
        "X[:10], y[:10]"
      ],
      "metadata": {
        "colab": {
          "base_uri": "https://localhost:8080/"
        },
        "id": "zgOEHyxYCuF4",
        "outputId": "104f4930-6afa-4534-9317-a1bdf2257fdd"
      },
      "execution_count": null,
      "outputs": [
        {
          "output_type": "execute_result",
          "data": {
            "text/plain": [
              "(tensor([[0.0000],\n",
              "         [0.0200],\n",
              "         [0.0400],\n",
              "         [0.0600],\n",
              "         [0.0800],\n",
              "         [0.1000],\n",
              "         [0.1200],\n",
              "         [0.1400],\n",
              "         [0.1600],\n",
              "         [0.1800]]),\n",
              " tensor([[0.3000],\n",
              "         [0.3140],\n",
              "         [0.3280],\n",
              "         [0.3420],\n",
              "         [0.3560],\n",
              "         [0.3700],\n",
              "         [0.3840],\n",
              "         [0.3980],\n",
              "         [0.4120],\n",
              "         [0.4260]]))"
            ]
          },
          "metadata": {},
          "execution_count": 3
        }
      ]
    },
    {
      "cell_type": "code",
      "source": [
        "len(X), len(y)"
      ],
      "metadata": {
        "colab": {
          "base_uri": "https://localhost:8080/"
        },
        "id": "AQpIDp24EIRf",
        "outputId": "ff3c20ce-44ac-4a7d-f99c-ef643268baaa"
      },
      "execution_count": null,
      "outputs": [
        {
          "output_type": "execute_result",
          "data": {
            "text/plain": [
              "(50, 50)"
            ]
          },
          "metadata": {},
          "execution_count": 4
        }
      ]
    },
    {
      "cell_type": "markdown",
      "source": [
        "### Splitting data into training and test sets (one of the most important concepts in machine learning in general)\n",
        "\n",
        "Let's create a training and a test set with our data"
      ],
      "metadata": {
        "id": "0jS6LQOLEU_E"
      }
    },
    {
      "cell_type": "code",
      "source": [
        "# Create a train/test split\n",
        "train_split = int(0.8 * len(X))\n",
        "X_train, y_train = X[:train_split], y[:train_split]\n",
        "X_test, y_test = X[train_split:], y[train_split:]\n",
        "\n",
        "len(X_train), len(y_train), len(X_test), len(y_test)"
      ],
      "metadata": {
        "colab": {
          "base_uri": "https://localhost:8080/"
        },
        "id": "hgFwNbTyh57p",
        "outputId": "1a8bfadb-de94-4923-f80b-1765e4390302"
      },
      "execution_count": null,
      "outputs": [
        {
          "output_type": "execute_result",
          "data": {
            "text/plain": [
              "(40, 40, 10, 10)"
            ]
          },
          "metadata": {},
          "execution_count": 5
        }
      ]
    },
    {
      "cell_type": "markdown",
      "source": [
        "How might we better visualize our data?\n",
        "\n",
        "This is where the data explorer's motto comes in!\n",
        "\n",
        "\"Visualize, visualize, visualize!\""
      ],
      "metadata": {
        "id": "371OXBI5lDhQ"
      }
    },
    {
      "cell_type": "code",
      "source": [
        "def plot_predictions(train_data=X_train,\n",
        "                     train_labels=y_train,\n",
        "                     test_data=X_test,\n",
        "                     test_labels=y_test,\n",
        "                     predictions=None):\n",
        "  \"\"\"\n",
        "  Plots training data, test data and compares predictions.\n",
        "  \"\"\"\n",
        "\n",
        "  plt.figure(figsize=(10,7))\n",
        "\n",
        "  # Plot training data in blue\n",
        "  plt.scatter(train_data, train_labels, c=\"b\", s=4, label=\"Training data\")\n",
        "\n",
        "  # Plot test data in green\n",
        "  plt.scatter(test_data, test_labels, c=\"g\", s=4, label=\"Testing data\")\n",
        "\n",
        "  # Are there predictions?\n",
        "  if predictions is not None:\n",
        "    # Plot the predictions if they exists\n",
        "    plt.scatter(test_data, predictions, c=\"r\", s=4, label=\"Predictions\")\n",
        "\n",
        "  # Show the legend\n",
        "  plt.legend(prop={\"size\":14})"
      ],
      "metadata": {
        "id": "sookKaYvlz12"
      },
      "execution_count": null,
      "outputs": []
    },
    {
      "cell_type": "code",
      "source": [
        "plot_predictions()"
      ],
      "metadata": {
        "colab": {
          "base_uri": "https://localhost:8080/",
          "height": 599
        },
        "id": "NpNtEN2GoPXH",
        "outputId": "c8eb4721-07b7-49de-8597-7bf09d7cb3a7"
      },
      "execution_count": null,
      "outputs": [
        {
          "output_type": "display_data",
          "data": {
            "text/plain": [
              "<Figure size 1000x700 with 1 Axes>"
            ],
            "image/png": "[encoded data removed]"
          },
          "metadata": {}
        }
      ]
    },
    {
      "cell_type": "markdown",
      "source": [
        "## 2. Build model\n",
        "\n",
        "Our first PyTorch model!\n",
        "\n",
        "This is very exciting... let's do it!\n",
        "\n",
        "Because we're going to be building classes throughout the course, I'd recommend getting familiar with OOP in Python, to do so you can use the following resource from Real Python: https://realpython.com/python3-object-oriented-programming/\n",
        "\n",
        "What our model does:\n",
        "* Start with random values (weight & bias)\n",
        "* Look at training data and adjust the random values to better represent (or get closer to) the ideal values (the weight & bias values we used to create the data)\n",
        "\n",
        "How does it do so?\n",
        "\n",
        "Through two main algorithms:\n",
        "1. Gradient descent - https://youtu.be/IHZwWFHWa-w\n",
        "2. Backpropagation - https://youtu.be/Ilg3gGewQ5U\n",
        "\n"
      ],
      "metadata": {
        "id": "TyPI_DhYoSCN"
      }
    },
    {
      "cell_type": "code",
      "source": [
        "# Create a linear regression model class\n",
        "class LinearRegressionModel(nn.Module): # <- almost everything in PyTorch inherhits from nn.Module\n",
        "  def __init__(self):\n",
        "    super().__init__()\n",
        "\n",
        "    # Initialize model parameters\n",
        "    self.weights = nn.Parameter(torch.randn(1, requires_grad=True, dtype=torch.float))\n",
        "    self.bias = nn.Parameter(torch.randn(1, requires_grad=True, dtype=torch.float))\n",
        "\n",
        "  # Forward method to define the computation in the model\n",
        "  def forward(self, x:torch.Tensor) -> torch.Tensor: # <- x is the input data\n",
        "    return self.weights * x + self.bias # This is the linear regression formula\n"
      ],
      "metadata": {
        "id": "eE81kfK8qVOt"
      },
      "execution_count": null,
      "outputs": []
    },
    {
      "cell_type": "markdown",
      "source": [
        "### PyTorch model building essentials\n",
        "\n",
        "* torch.nn - contains all of the buildings for computational graphs (a neural network can be considered a computational graph)\n",
        "* torch.nn.Parameter - what parameters should our model try and learn, often a PyTorch layer from torch.nn will set these for us\n",
        "* torch.nn.Module - The base class for all neural network modules, if you subclass it, you should overwrite forward()\n",
        "* torch.optim - this is where the optimizers in PyTorch live, they will help with gradient descent\n",
        "* def forward() - All nn.Module subclasses require you to overwrite forward(), this method defines what happens in the forward computation\n",
        "\n",
        "See more of these essential modules via the PyTorch cheatsheet - https://pytorch.org/tutorials/beginner/ptcheat.html"
      ],
      "metadata": {
        "id": "TpJfQl08LgI_"
      }
    },
    {
      "cell_type": "markdown",
      "source": [
        "### Checking the contents of our PyTorch model\n",
        "\n",
        "Now we've created a model, let's see what's inside...\n",
        "\n",
        "So we can checkout our model parameters or what's inside our model using `.paramters()`."
      ],
      "metadata": {
        "id": "9biDMylYCAh4"
      }
    },
    {
      "cell_type": "code",
      "source": [
        "# Create a random seed\n",
        "torch.manual_seed(42)\n",
        "\n",
        "# Create an instance of the model (this is a subclass of nn.Module)\n",
        "model_0 = LinearRegressionModel()\n",
        "\n",
        "# Check out the parameters\n",
        "list(model_0.parameters())"
      ],
      "metadata": {
        "colab": {
          "base_uri": "https://localhost:8080/"
        },
        "id": "lFj21XD3Cm-F",
        "outputId": "49b22479-1e57-4cb0-ec52-eb429a1023a2"
      },
      "execution_count": null,
      "outputs": [
        {
          "output_type": "execute_result",
          "data": {
            "text/plain": [
              "[Parameter containing:\n",
              " tensor([0.3367], requires_grad=True),\n",
              " Parameter containing:\n",
              " tensor([0.1288], requires_grad=True)]"
            ]
          },
          "metadata": {},
          "execution_count": 9
        }
      ]
    },
    {
      "cell_type": "code",
      "source": [
        "# List named parameters\n",
        "model_0.state_dict()"
      ],
      "metadata": {
        "colab": {
          "base_uri": "https://localhost:8080/"
        },
        "id": "DPia4CjJDDyO",
        "outputId": "9549fe1d-7d93-43d3-8a84-bb4bc0d705e4"
      },
      "execution_count": null,
      "outputs": [
        {
          "output_type": "execute_result",
          "data": {
            "text/plain": [
              "OrderedDict([('weights', tensor([0.3367])), ('bias', tensor([0.1288]))])"
            ]
          },
          "metadata": {},
          "execution_count": 10
        }
      ]
    },
    {
      "cell_type": "markdown",
      "source": [
        "### Making preditctions using `torch.inference_model()`\n",
        "To check our model's preditctive ower, let's see how well it predicts `y_test` based on `X_test`.\n",
        "\n",
        "When we pass data through our model, it's going to run it through the `forward()` method.\n"
      ],
      "metadata": {
        "id": "lVDyLvqMEBil"
      }
    },
    {
      "cell_type": "code",
      "source": [
        "X_test,y_test"
      ],
      "metadata": {
        "colab": {
          "base_uri": "https://localhost:8080/"
        },
        "id": "QveV6FqVFpqT",
        "outputId": "d58b06bf-499d-49d8-d756-7109f98765f7"
      },
      "execution_count": null,
      "outputs": [
        {
          "output_type": "execute_result",
          "data": {
            "text/plain": [
              "(tensor([[0.8000],\n",
              "         [0.8200],\n",
              "         [0.8400],\n",
              "         [0.8600],\n",
              "         [0.8800],\n",
              "         [0.9000],\n",
              "         [0.9200],\n",
              "         [0.9400],\n",
              "         [0.9600],\n",
              "         [0.9800]]),\n",
              " tensor([[0.8600],\n",
              "         [0.8740],\n",
              "         [0.8880],\n",
              "         [0.9020],\n",
              "         [0.9160],\n",
              "         [0.9300],\n",
              "         [0.9440],\n",
              "         [0.9580],\n",
              "         [0.9720],\n",
              "         [0.9860]]))"
            ]
          },
          "metadata": {},
          "execution_count": 11
        }
      ]
    },
    {
      "cell_type": "code",
      "source": [
        "# Make predicitons with model\n",
        "with torch.inference_mode():\n",
        "  y_preds = model_0(X_test)\n",
        "\n",
        "# You can also do something similar with torch.no_grad(), however, torch.inference_mode() is preferred\n",
        "# with torch.no_grad():\n",
        "#   y_preds = model_0(X_test)\n",
        "\n",
        "y_preds"
      ],
      "metadata": {
        "colab": {
          "base_uri": "https://localhost:8080/"
        },
        "id": "2iMgmG1-FRdb",
        "outputId": "bfae8b8e-b900-4dc2-c55f-eb3226365aad"
      },
      "execution_count": null,
      "outputs": [
        {
          "output_type": "execute_result",
          "data": {
            "text/plain": [
              "tensor([[0.3982],\n",
              "        [0.4049],\n",
              "        [0.4116],\n",
              "        [0.4184],\n",
              "        [0.4251],\n",
              "        [0.4318],\n",
              "        [0.4386],\n",
              "        [0.4453],\n",
              "        [0.4520],\n",
              "        [0.4588]])"
            ]
          },
          "metadata": {},
          "execution_count": 12
        }
      ]
    },
    {
      "cell_type": "markdown",
      "source": [
        "See more on inference mode here - https://twitter.com/PyTorch/status/1437838231505096708?s=20&t=cnKav09iTgwQ-rfri6u7PQ"
      ],
      "metadata": {
        "id": "iwRrRCTzHlPl"
      }
    },
    {
      "cell_type": "code",
      "source": [
        "y_test"
      ],
      "metadata": {
        "colab": {
          "base_uri": "https://localhost:8080/"
        },
        "id": "ZR5Y6pxYFfXl",
        "outputId": "347dd1a7-ec94-40da-f38c-86044ab0e326"
      },
      "execution_count": null,
      "outputs": [
        {
          "output_type": "execute_result",
          "data": {
            "text/plain": [
              "tensor([[0.8600],\n",
              "        [0.8740],\n",
              "        [0.8880],\n",
              "        [0.9020],\n",
              "        [0.9160],\n",
              "        [0.9300],\n",
              "        [0.9440],\n",
              "        [0.9580],\n",
              "        [0.9720],\n",
              "        [0.9860]])"
            ]
          },
          "metadata": {},
          "execution_count": 13
        }
      ]
    },
    {
      "cell_type": "code",
      "source": [
        "plot_predictions(predictions=y_preds)"
      ],
      "metadata": {
        "colab": {
          "base_uri": "https://localhost:8080/",
          "height": 599
        },
        "id": "v96uGSisGceI",
        "outputId": "725d7252-d62d-4f2e-c970-2d7c90932200"
      },
      "execution_count": null,
      "outputs": [
        {
          "output_type": "display_data",
          "data": {
            "text/plain": [
              "<Figure size 1000x700 with 1 Axes>"
            ],
            "image/png": "[encoded data removed]"
          },
          "metadata": {}
        }
      ]
    },
    {
      "cell_type": "markdown",
      "source": [
        "## 3. Train model\n",
        "\n",
        "The whole idea of training is for a model to move from some *unknown* parameters (these may be random) to some *known* parameters.\n",
        "\n",
        "Or in other words from a poor representation of the data to a better representation of the data.\n",
        "\n",
        "One way to measure how poor or how wrong your models predictions are is to use a loss function.\n",
        "\n",
        "* Note: Loss function may also be called cost function or criterion in different areas. For our case, we'Re going to refer to it as a loss function.\n",
        "\n",
        "Things we need to train:\n",
        "\n",
        "* **Loss function:** A function to measure how wrong your model predictions are to the ideal outputs, lower is better.\n",
        "* **Optimizer:** Takes into account the loss and adjust the model's parameters (e.g. weight & bias in our case) to improve the loss function.\n",
        "\n",
        "And specificallly for PyTorch, we need:\n",
        "* A training loop\n",
        "* A testing loop"
      ],
      "metadata": {
        "id": "8taoRmLkGsc7"
      }
    },
    {
      "cell_type": "code",
      "source": [
        "list(model_0.parameters())"
      ],
      "metadata": {
        "colab": {
          "base_uri": "https://localhost:8080/"
        },
        "id": "H59w-zResfiS",
        "outputId": "183f848f-e834-4bc7-c29d-fd6c6ba91272"
      },
      "execution_count": null,
      "outputs": [
        {
          "output_type": "execute_result",
          "data": {
            "text/plain": [
              "[Parameter containing:\n",
              " tensor([0.3367], requires_grad=True),\n",
              " Parameter containing:\n",
              " tensor([0.1288], requires_grad=True)]"
            ]
          },
          "metadata": {},
          "execution_count": 15
        }
      ]
    },
    {
      "cell_type": "code",
      "source": [
        "# Check out our model's parameters (a parameter is a value that the model sets itself)\n",
        "model_0.state_dict()"
      ],
      "metadata": {
        "colab": {
          "base_uri": "https://localhost:8080/"
        },
        "id": "7p5rHcDZsmXd",
        "outputId": "31925d88-b95d-4ba8-9523-858601d56c4a"
      },
      "execution_count": null,
      "outputs": [
        {
          "output_type": "execute_result",
          "data": {
            "text/plain": [
              "OrderedDict([('weights', tensor([0.3367])), ('bias', tensor([0.1288]))])"
            ]
          },
          "metadata": {},
          "execution_count": 16
        }
      ]
    },
    {
      "cell_type": "code",
      "source": [
        "# Setup a loss function\n",
        "loss_fn = nn.L1Loss()\n",
        "\n",
        "# Setup an optimizer (stochastic gradient descent)\n",
        "optimizer = torch.optim.SGD(params=model_0.parameters(), lr=0.001) # lr = learning rate = possibly the most important hyperparameter you can set\n"
      ],
      "metadata": {
        "id": "hHgupGH8spDU"
      },
      "execution_count": null,
      "outputs": []
    },
    {
      "cell_type": "markdown",
      "source": [
        "### Building a training loop (and a testing loop) in PyTorch\n",
        "\n",
        "A couple of things we need in a training loop:\n",
        "0. Loop through the data and do...\n",
        "1. Forward pass (this envolves data moving through our model's `forward()` functions) to make predictions on data - also called forward propagation\n",
        "2. Calculate the loss (compare forward pass predictions to ground truth labels)\n",
        "3. Optimizer zero grad\n",
        "4. Loss backward - move backwards through the network to calculate the gradients of each of the parameters of our model with respect to the loss (**backpropagation**)\n",
        "5. Optimizer step - use the optimizer to adjust our model's parameters to try and improve the loss (**gradient descent**)"
      ],
      "metadata": {
        "id": "JkhJ5Cm1szah"
      }
    },
    {
      "cell_type": "code",
      "source": [
        "# An epoch is one loop through the data... (this is a hyperparameter because we've set it ourselves)\n",
        "epochs = 10000\n",
        "\n",
        "# Track different values\n",
        "epoch_count = []\n",
        "loss_values = []\n",
        "test_loss_values = []\n",
        "\n",
        "### Training\n",
        "# 0. Loop through the data\n",
        "for epoch in range(epochs):\n",
        "  # Set the model to training mode\n",
        "  model_0.train() # train mode in PyTorch sets all parameters that require gradients to require gradients\n",
        "\n",
        "  # 1. Forward pass\n",
        "  y_pred = model_0(X_train)\n",
        "\n",
        "  # 2. Calculate the loss\n",
        "  loss = loss_fn(y_pred, y_train)\n",
        "\n",
        "  # 3. Optimize zero grad\n",
        "  optimizer.zero_grad()\n",
        "\n",
        "  # 4. Perform backpropagation on the loss with respect to the parameters of the model\n",
        "  loss.backward()\n",
        "\n",
        "  # 5. Step the optimizer (perform gradient descent)\n",
        "  optimizer.step() # by default how the optimizer changes will acculumate through the loop so... we have to zero them above in step 3 for the next iteration of the loop\n",
        "\n",
        "  ###Testing\n",
        "  model_0.eval() # turns off different settings in the model not needed for evaluation/testing (dropout/batch norm layers)\n",
        "  with torch.inference_mode(): # turns off gradient tracking & a couple of more things behind the scenes\n",
        "    # 1. Do the forward pass\n",
        "    test_pred = model_0(X_test)\n",
        "\n",
        "    # 2. Calculate the loss\n",
        "    test_loss = loss_fn(test_pred, y_test)\n",
        "\n",
        "  # Print out what's happening\n",
        "  if epoch % 100 == 0:\n",
        "    epoch_count.append(epoch)\n",
        "    loss_values.append(loss)\n",
        "    test_loss_values.append(test_loss)\n",
        "\n",
        "    print(f\"Epoch: {epoch} | Loss: {loss} | Test loss: {test_loss}\")\n",
        "\n",
        "    # Print out model state_dict()\n",
        "    print(f\"Model state_dict(): {model_0.state_dict()}\")\n"
      ],
      "metadata": {
        "id": "p9mH0IJWxkaL",
        "colab": {
          "base_uri": "https://localhost:8080/"
        },
        "outputId": "173f13d3-8340-472c-ac5e-3b1e636413b8"
      },
      "execution_count": null,
      "outputs": [
        {
          "output_type": "stream",
          "name": "stdout",
          "text": [
            "Epoch: 0 | Loss: 0.31288138031959534 | Test loss: 0.4931890368461609\n",
            "Model state_dict(): OrderedDict([('weights', tensor([0.3371])), ('bias', tensor([0.1298]))])\n",
            "Epoch: 100 | Loss: 0.19767141342163086 | Test loss: 0.35847947001457214\n",
            "Model state_dict(): OrderedDict([('weights', tensor([0.3761])), ('bias', tensor([0.2298]))])\n",
            "Epoch: 200 | Loss: 0.08973254263401031 | Test loss: 0.22795839607715607\n",
            "Model state_dict(): OrderedDict([('weights', tensor([0.4150])), ('bias', tensor([0.3257]))])\n",
            "Epoch: 300 | Loss: 0.05357731133699417 | Test loss: 0.15086300671100616\n",
            "Model state_dict(): OrderedDict([('weights', tensor([0.4485])), ('bias', tensor([0.3730]))])\n",
            "Epoch: 400 | Loss: 0.04549176245927811 | Test loss: 0.11657620966434479\n",
            "Model state_dict(): OrderedDict([('weights', tensor([0.4730])), ('bias', tensor([0.3855]))])\n",
            "Epoch: 500 | Loss: 0.04160415381193161 | Test loss: 0.10088418424129486\n",
            "Model state_dict(): OrderedDict([('weights', tensor([0.4924])), ('bias', tensor([0.3839]))])\n",
            "Epoch: 600 | Loss: 0.03811401128768921 | Test loss: 0.08986451476812363\n",
            "Model state_dict(): OrderedDict([('weights', tensor([0.5104])), ('bias', tensor([0.3789]))])\n",
            "Epoch: 700 | Loss: 0.03466346859931946 | Test loss: 0.08097299933433533\n",
            "Model state_dict(): OrderedDict([('weights', tensor([0.5277])), ('bias', tensor([0.3724]))])\n",
            "Epoch: 800 | Loss: 0.03122851625084877 | Test loss: 0.07297395914793015\n",
            "Model state_dict(): OrderedDict([('weights', tensor([0.5448])), ('bias', tensor([0.3652]))])\n",
            "Epoch: 900 | Loss: 0.027794325724244118 | Test loss: 0.06490625441074371\n",
            "Model state_dict(): OrderedDict([('weights', tensor([0.5619])), ('bias', tensor([0.3580]))])\n",
            "Epoch: 1000 | Loss: 0.02435956709086895 | Test loss: 0.05690721794962883\n",
            "Model state_dict(): OrderedDict([('weights', tensor([0.5790])), ('bias', tensor([0.3508]))])\n",
            "Epoch: 1100 | Loss: 0.02092517353594303 | Test loss: 0.0488395169377327\n",
            "Model state_dict(): OrderedDict([('weights', tensor([0.5961])), ('bias', tensor([0.3437]))])\n",
            "Epoch: 1200 | Loss: 0.017490629106760025 | Test loss: 0.04084048420190811\n",
            "Model state_dict(): OrderedDict([('weights', tensor([0.6131])), ('bias', tensor([0.3365]))])\n",
            "Epoch: 1300 | Loss: 0.014056024141609669 | Test loss: 0.03277278691530228\n",
            "Model state_dict(): OrderedDict([('weights', tensor([0.6302])), ('bias', tensor([0.3293]))])\n",
            "Epoch: 1400 | Loss: 0.010621682740747929 | Test loss: 0.0247737355530262\n",
            "Model state_dict(): OrderedDict([('weights', tensor([0.6473])), ('bias', tensor([0.3221]))])\n",
            "Epoch: 1500 | Loss: 0.007186878472566605 | Test loss: 0.01670604944229126\n",
            "Model state_dict(): OrderedDict([('weights', tensor([0.6644])), ('bias', tensor([0.3150]))])\n",
            "Epoch: 1600 | Loss: 0.003752306802198291 | Test loss: 0.008672690019011497\n",
            "Model state_dict(): OrderedDict([('weights', tensor([0.6815])), ('bias', tensor([0.3078]))])\n",
            "Epoch: 1700 | Loss: 0.0003177322505507618 | Test loss: 0.0006393313524313271\n",
            "Model state_dict(): OrderedDict([('weights', tensor([0.6986])), ('bias', tensor([0.3006]))])\n",
            "Epoch: 1800 | Loss: 0.0004444979131221771 | Test loss: 0.0005780101055279374\n",
            "Model state_dict(): OrderedDict([('weights', tensor([0.6997])), ('bias', tensor([0.3008]))])\n",
            "Epoch: 1900 | Loss: 0.0004444979131221771 | Test loss: 0.0005780101055279374\n",
            "Model state_dict(): OrderedDict([('weights', tensor([0.6997])), ('bias', tensor([0.3008]))])\n",
            "Epoch: 2000 | Loss: 0.0004444979131221771 | Test loss: 0.0005780101055279374\n",
            "Model state_dict(): OrderedDict([('weights', tensor([0.6997])), ('bias', tensor([0.3008]))])\n",
            "Epoch: 2100 | Loss: 0.0004444979131221771 | Test loss: 0.0005780101055279374\n",
            "Model state_dict(): OrderedDict([('weights', tensor([0.6997])), ('bias', tensor([0.3008]))])\n",
            "Epoch: 2200 | Loss: 0.0004444979131221771 | Test loss: 0.0005780101055279374\n",
            "Model state_dict(): OrderedDict([('weights', tensor([0.6997])), ('bias', tensor([0.3008]))])\n",
            "Epoch: 2300 | Loss: 0.0004444979131221771 | Test loss: 0.0005780101055279374\n",
            "Model state_dict(): OrderedDict([('weights', tensor([0.6997])), ('bias', tensor([0.3008]))])\n",
            "Epoch: 2400 | Loss: 0.0004444979131221771 | Test loss: 0.0005780101055279374\n",
            "Model state_dict(): OrderedDict([('weights', tensor([0.6997])), ('bias', tensor([0.3008]))])\n",
            "Epoch: 2500 | Loss: 0.0004444979131221771 | Test loss: 0.0005780101055279374\n",
            "Model state_dict(): OrderedDict([('weights', tensor([0.6997])), ('bias', tensor([0.3008]))])\n",
            "Epoch: 2600 | Loss: 0.0004444979131221771 | Test loss: 0.0005780101055279374\n",
            "Model state_dict(): OrderedDict([('weights', tensor([0.6997])), ('bias', tensor([0.3008]))])\n",
            "Epoch: 2700 | Loss: 0.0004444979131221771 | Test loss: 0.0005780101055279374\n",
            "Model state_dict(): OrderedDict([('weights', tensor([0.6997])), ('bias', tensor([0.3008]))])\n",
            "Epoch: 2800 | Loss: 0.0004444979131221771 | Test loss: 0.0005780101055279374\n",
            "Model state_dict(): OrderedDict([('weights', tensor([0.6997])), ('bias', tensor([0.3008]))])\n",
            "Epoch: 2900 | Loss: 0.0004444979131221771 | Test loss: 0.0005780101055279374\n",
            "Model state_dict(): OrderedDict([('weights', tensor([0.6997])), ('bias', tensor([0.3008]))])\n",
            "Epoch: 3000 | Loss: 0.0004444979131221771 | Test loss: 0.0005780101055279374\n",
            "Model state_dict(): OrderedDict([('weights', tensor([0.6997])), ('bias', tensor([0.3008]))])\n",
            "Epoch: 3100 | Loss: 0.0004444979131221771 | Test loss: 0.0005780101055279374\n",
            "Model state_dict(): OrderedDict([('weights', tensor([0.6997])), ('bias', tensor([0.3008]))])\n",
            "Epoch: 3200 | Loss: 0.0004444979131221771 | Test loss: 0.0005780101055279374\n",
            "Model state_dict(): OrderedDict([('weights', tensor([0.6997])), ('bias', tensor([0.3008]))])\n",
            "Epoch: 3300 | Loss: 0.0004444979131221771 | Test loss: 0.0005780101055279374\n",
            "Model state_dict(): OrderedDict([('weights', tensor([0.6997])), ('bias', tensor([0.3008]))])\n",
            "Epoch: 3400 | Loss: 0.0004444979131221771 | Test loss: 0.0005780101055279374\n",
            "Model state_dict(): OrderedDict([('weights', tensor([0.6997])), ('bias', tensor([0.3008]))])\n",
            "Epoch: 3500 | Loss: 0.0004444979131221771 | Test loss: 0.0005780101055279374\n",
            "Model state_dict(): OrderedDict([('weights', tensor([0.6997])), ('bias', tensor([0.3008]))])\n",
            "Epoch: 3600 | Loss: 0.0004444979131221771 | Test loss: 0.0005780101055279374\n",
            "Model state_dict(): OrderedDict([('weights', tensor([0.6997])), ('bias', tensor([0.3008]))])\n",
            "Epoch: 3700 | Loss: 0.0004444979131221771 | Test loss: 0.0005780101055279374\n",
            "Model state_dict(): OrderedDict([('weights', tensor([0.6997])), ('bias', tensor([0.3008]))])\n",
            "Epoch: 3800 | Loss: 0.0004444979131221771 | Test loss: 0.0005780101055279374\n",
            "Model state_dict(): OrderedDict([('weights', tensor([0.6997])), ('bias', tensor([0.3008]))])\n",
            "Epoch: 3900 | Loss: 0.0004444979131221771 | Test loss: 0.0005780101055279374\n",
            "Model state_dict(): OrderedDict([('weights', tensor([0.6997])), ('bias', tensor([0.3008]))])\n",
            "Epoch: 4000 | Loss: 0.0004444979131221771 | Test loss: 0.0005780101055279374\n",
            "Model state_dict(): OrderedDict([('weights', tensor([0.6997])), ('bias', tensor([0.3008]))])\n",
            "Epoch: 4100 | Loss: 0.0004444979131221771 | Test loss: 0.0005780101055279374\n",
            "Model state_dict(): OrderedDict([('weights', tensor([0.6997])), ('bias', tensor([0.3008]))])\n",
            "Epoch: 4200 | Loss: 0.0004444979131221771 | Test loss: 0.0005780101055279374\n",
            "Model state_dict(): OrderedDict([('weights', tensor([0.6997])), ('bias', tensor([0.3008]))])\n",
            "Epoch: 4300 | Loss: 0.0004444979131221771 | Test loss: 0.0005780101055279374\n",
            "Model state_dict(): OrderedDict([('weights', tensor([0.6997])), ('bias', tensor([0.3008]))])\n",
            "Epoch: 4400 | Loss: 0.0004444979131221771 | Test loss: 0.0005780101055279374\n",
            "Model state_dict(): OrderedDict([('weights', tensor([0.6997])), ('bias', tensor([0.3008]))])\n",
            "Epoch: 4500 | Loss: 0.0004444979131221771 | Test loss: 0.0005780101055279374\n",
            "Model state_dict(): OrderedDict([('weights', tensor([0.6997])), ('bias', tensor([0.3008]))])\n",
            "Epoch: 4600 | Loss: 0.0004444979131221771 | Test loss: 0.0005780101055279374\n",
            "Model state_dict(): OrderedDict([('weights', tensor([0.6997])), ('bias', tensor([0.3008]))])\n",
            "Epoch: 4700 | Loss: 0.0004444979131221771 | Test loss: 0.0005780101055279374\n",
            "Model state_dict(): OrderedDict([('weights', tensor([0.6997])), ('bias', tensor([0.3008]))])\n",
            "Epoch: 4800 | Loss: 0.0004444979131221771 | Test loss: 0.0005780101055279374\n",
            "Model state_dict(): OrderedDict([('weights', tensor([0.6997])), ('bias', tensor([0.3008]))])\n",
            "Epoch: 4900 | Loss: 0.0004444979131221771 | Test loss: 0.0005780101055279374\n",
            "Model state_dict(): OrderedDict([('weights', tensor([0.6997])), ('bias', tensor([0.3008]))])\n",
            "Epoch: 5000 | Loss: 0.0004444979131221771 | Test loss: 0.0005780101055279374\n",
            "Model state_dict(): OrderedDict([('weights', tensor([0.6997])), ('bias', tensor([0.3008]))])\n",
            "Epoch: 5100 | Loss: 0.0004444979131221771 | Test loss: 0.0005780101055279374\n",
            "Model state_dict(): OrderedDict([('weights', tensor([0.6997])), ('bias', tensor([0.3008]))])\n",
            "Epoch: 5200 | Loss: 0.0004444979131221771 | Test loss: 0.0005780101055279374\n",
            "Model state_dict(): OrderedDict([('weights', tensor([0.6997])), ('bias', tensor([0.3008]))])\n",
            "Epoch: 5300 | Loss: 0.0004444979131221771 | Test loss: 0.0005780101055279374\n",
            "Model state_dict(): OrderedDict([('weights', tensor([0.6997])), ('bias', tensor([0.3008]))])\n",
            "Epoch: 5400 | Loss: 0.0004444979131221771 | Test loss: 0.0005780101055279374\n",
            "Model state_dict(): OrderedDict([('weights', tensor([0.6997])), ('bias', tensor([0.3008]))])\n",
            "Epoch: 5500 | Loss: 0.0004444979131221771 | Test loss: 0.0005780101055279374\n",
            "Model state_dict(): OrderedDict([('weights', tensor([0.6997])), ('bias', tensor([0.3008]))])\n",
            "Epoch: 5600 | Loss: 0.0004444979131221771 | Test loss: 0.0005780101055279374\n",
            "Model state_dict(): OrderedDict([('weights', tensor([0.6997])), ('bias', tensor([0.3008]))])\n",
            "Epoch: 5700 | Loss: 0.0004444979131221771 | Test loss: 0.0005780101055279374\n",
            "Model state_dict(): OrderedDict([('weights', tensor([0.6997])), ('bias', tensor([0.3008]))])\n",
            "Epoch: 5800 | Loss: 0.0004444979131221771 | Test loss: 0.0005780101055279374\n",
            "Model state_dict(): OrderedDict([('weights', tensor([0.6997])), ('bias', tensor([0.3008]))])\n",
            "Epoch: 5900 | Loss: 0.0004444979131221771 | Test loss: 0.0005780101055279374\n",
            "Model state_dict(): OrderedDict([('weights', tensor([0.6997])), ('bias', tensor([0.3008]))])\n",
            "Epoch: 6000 | Loss: 0.0004444979131221771 | Test loss: 0.0005780101055279374\n",
            "Model state_dict(): OrderedDict([('weights', tensor([0.6997])), ('bias', tensor([0.3008]))])\n",
            "Epoch: 6100 | Loss: 0.0004444979131221771 | Test loss: 0.0005780101055279374\n",
            "Model state_dict(): OrderedDict([('weights', tensor([0.6997])), ('bias', tensor([0.3008]))])\n",
            "Epoch: 6200 | Loss: 0.0004444979131221771 | Test loss: 0.0005780101055279374\n",
            "Model state_dict(): OrderedDict([('weights', tensor([0.6997])), ('bias', tensor([0.3008]))])\n",
            "Epoch: 6300 | Loss: 0.0004444979131221771 | Test loss: 0.0005780101055279374\n",
            "Model state_dict(): OrderedDict([('weights', tensor([0.6997])), ('bias', tensor([0.3008]))])\n",
            "Epoch: 6400 | Loss: 0.0004444979131221771 | Test loss: 0.0005780101055279374\n",
            "Model state_dict(): OrderedDict([('weights', tensor([0.6997])), ('bias', tensor([0.3008]))])\n",
            "Epoch: 6500 | Loss: 0.0004444979131221771 | Test loss: 0.0005780101055279374\n",
            "Model state_dict(): OrderedDict([('weights', tensor([0.6997])), ('bias', tensor([0.3008]))])\n",
            "Epoch: 6600 | Loss: 0.0004444979131221771 | Test loss: 0.0005780101055279374\n",
            "Model state_dict(): OrderedDict([('weights', tensor([0.6997])), ('bias', tensor([0.3008]))])\n",
            "Epoch: 6700 | Loss: 0.0004444979131221771 | Test loss: 0.0005780101055279374\n",
            "Model state_dict(): OrderedDict([('weights', tensor([0.6997])), ('bias', tensor([0.3008]))])\n",
            "Epoch: 6800 | Loss: 0.0004444979131221771 | Test loss: 0.0005780101055279374\n",
            "Model state_dict(): OrderedDict([('weights', tensor([0.6997])), ('bias', tensor([0.3008]))])\n",
            "Epoch: 6900 | Loss: 0.0004444979131221771 | Test loss: 0.0005780101055279374\n",
            "Model state_dict(): OrderedDict([('weights', tensor([0.6997])), ('bias', tensor([0.3008]))])\n",
            "Epoch: 7000 | Loss: 0.0004444979131221771 | Test loss: 0.0005780101055279374\n",
            "Model state_dict(): OrderedDict([('weights', tensor([0.6997])), ('bias', tensor([0.3008]))])\n",
            "Epoch: 7100 | Loss: 0.0004444979131221771 | Test loss: 0.0005780101055279374\n",
            "Model state_dict(): OrderedDict([('weights', tensor([0.6997])), ('bias', tensor([0.3008]))])\n",
            "Epoch: 7200 | Loss: 0.0004444979131221771 | Test loss: 0.0005780101055279374\n",
            "Model state_dict(): OrderedDict([('weights', tensor([0.6997])), ('bias', tensor([0.3008]))])\n",
            "Epoch: 7300 | Loss: 0.0004444979131221771 | Test loss: 0.0005780101055279374\n",
            "Model state_dict(): OrderedDict([('weights', tensor([0.6997])), ('bias', tensor([0.3008]))])\n",
            "Epoch: 7400 | Loss: 0.0004444979131221771 | Test loss: 0.0005780101055279374\n",
            "Model state_dict(): OrderedDict([('weights', tensor([0.6997])), ('bias', tensor([0.3008]))])\n",
            "Epoch: 7500 | Loss: 0.0004444979131221771 | Test loss: 0.0005780101055279374\n",
            "Model state_dict(): OrderedDict([('weights', tensor([0.6997])), ('bias', tensor([0.3008]))])\n",
            "Epoch: 7600 | Loss: 0.0004444979131221771 | Test loss: 0.0005780101055279374\n",
            "Model state_dict(): OrderedDict([('weights', tensor([0.6997])), ('bias', tensor([0.3008]))])\n",
            "Epoch: 7700 | Loss: 0.0004444979131221771 | Test loss: 0.0005780101055279374\n",
            "Model state_dict(): OrderedDict([('weights', tensor([0.6997])), ('bias', tensor([0.3008]))])\n",
            "Epoch: 7800 | Loss: 0.0004444979131221771 | Test loss: 0.0005780101055279374\n",
            "Model state_dict(): OrderedDict([('weights', tensor([0.6997])), ('bias', tensor([0.3008]))])\n",
            "Epoch: 7900 | Loss: 0.0004444979131221771 | Test loss: 0.0005780101055279374\n",
            "Model state_dict(): OrderedDict([('weights', tensor([0.6997])), ('bias', tensor([0.3008]))])\n",
            "Epoch: 8000 | Loss: 0.0004444979131221771 | Test loss: 0.0005780101055279374\n",
            "Model state_dict(): OrderedDict([('weights', tensor([0.6997])), ('bias', tensor([0.3008]))])\n",
            "Epoch: 8100 | Loss: 0.0004444979131221771 | Test loss: 0.0005780101055279374\n",
            "Model state_dict(): OrderedDict([('weights', tensor([0.6997])), ('bias', tensor([0.3008]))])\n",
            "Epoch: 8200 | Loss: 0.0004444979131221771 | Test loss: 0.0005780101055279374\n",
            "Model state_dict(): OrderedDict([('weights', tensor([0.6997])), ('bias', tensor([0.3008]))])\n",
            "Epoch: 8300 | Loss: 0.0004444979131221771 | Test loss: 0.0005780101055279374\n",
            "Model state_dict(): OrderedDict([('weights', tensor([0.6997])), ('bias', tensor([0.3008]))])\n",
            "Epoch: 8400 | Loss: 0.0004444979131221771 | Test loss: 0.0005780101055279374\n",
            "Model state_dict(): OrderedDict([('weights', tensor([0.6997])), ('bias', tensor([0.3008]))])\n",
            "Epoch: 8500 | Loss: 0.0004444979131221771 | Test loss: 0.0005780101055279374\n",
            "Model state_dict(): OrderedDict([('weights', tensor([0.6997])), ('bias', tensor([0.3008]))])\n",
            "Epoch: 8600 | Loss: 0.0004444979131221771 | Test loss: 0.0005780101055279374\n",
            "Model state_dict(): OrderedDict([('weights', tensor([0.6997])), ('bias', tensor([0.3008]))])\n",
            "Epoch: 8700 | Loss: 0.0004444979131221771 | Test loss: 0.0005780101055279374\n",
            "Model state_dict(): OrderedDict([('weights', tensor([0.6997])), ('bias', tensor([0.3008]))])\n",
            "Epoch: 8800 | Loss: 0.0004444979131221771 | Test loss: 0.0005780101055279374\n",
            "Model state_dict(): OrderedDict([('weights', tensor([0.6997])), ('bias', tensor([0.3008]))])\n",
            "Epoch: 8900 | Loss: 0.0004444979131221771 | Test loss: 0.0005780101055279374\n",
            "Model state_dict(): OrderedDict([('weights', tensor([0.6997])), ('bias', tensor([0.3008]))])\n",
            "Epoch: 9000 | Loss: 0.0004444979131221771 | Test loss: 0.0005780101055279374\n",
            "Model state_dict(): OrderedDict([('weights', tensor([0.6997])), ('bias', tensor([0.3008]))])\n",
            "Epoch: 9100 | Loss: 0.0004444979131221771 | Test loss: 0.0005780101055279374\n",
            "Model state_dict(): OrderedDict([('weights', tensor([0.6997])), ('bias', tensor([0.3008]))])\n",
            "Epoch: 9200 | Loss: 0.0004444979131221771 | Test loss: 0.0005780101055279374\n",
            "Model state_dict(): OrderedDict([('weights', tensor([0.6997])), ('bias', tensor([0.3008]))])\n",
            "Epoch: 9300 | Loss: 0.0004444979131221771 | Test loss: 0.0005780101055279374\n",
            "Model state_dict(): OrderedDict([('weights', tensor([0.6997])), ('bias', tensor([0.3008]))])\n",
            "Epoch: 9400 | Loss: 0.0004444979131221771 | Test loss: 0.0005780101055279374\n",
            "Model state_dict(): OrderedDict([('weights', tensor([0.6997])), ('bias', tensor([0.3008]))])\n",
            "Epoch: 9500 | Loss: 0.0004444979131221771 | Test loss: 0.0005780101055279374\n",
            "Model state_dict(): OrderedDict([('weights', tensor([0.6997])), ('bias', tensor([0.3008]))])\n",
            "Epoch: 9600 | Loss: 0.0004444979131221771 | Test loss: 0.0005780101055279374\n",
            "Model state_dict(): OrderedDict([('weights', tensor([0.6997])), ('bias', tensor([0.3008]))])\n",
            "Epoch: 9700 | Loss: 0.0004444979131221771 | Test loss: 0.0005780101055279374\n",
            "Model state_dict(): OrderedDict([('weights', tensor([0.6997])), ('bias', tensor([0.3008]))])\n",
            "Epoch: 9800 | Loss: 0.0004444979131221771 | Test loss: 0.0005780101055279374\n",
            "Model state_dict(): OrderedDict([('weights', tensor([0.6997])), ('bias', tensor([0.3008]))])\n",
            "Epoch: 9900 | Loss: 0.0004444979131221771 | Test loss: 0.0005780101055279374\n",
            "Model state_dict(): OrderedDict([('weights', tensor([0.6997])), ('bias', tensor([0.3008]))])\n"
          ]
        }
      ]
    },
    {
      "cell_type": "code",
      "source": [
        "model_0.state_dict()"
      ],
      "metadata": {
        "colab": {
          "base_uri": "https://localhost:8080/"
        },
        "id": "EseGTz0d3qyB",
        "outputId": "bc472bca-2ff0-40ec-8831-9c560dae0440"
      },
      "execution_count": null,
      "outputs": [
        {
          "output_type": "execute_result",
          "data": {
            "text/plain": [
              "OrderedDict([('weights', tensor([0.6994])), ('bias', tensor([0.2998]))])"
            ]
          },
          "metadata": {},
          "execution_count": 19
        }
      ]
    },
    {
      "cell_type": "code",
      "source": [
        "weight, bias"
      ],
      "metadata": {
        "colab": {
          "base_uri": "https://localhost:8080/"
        },
        "id": "E3YHdJki3vz-",
        "outputId": "8cad5e7b-c493-4ec1-e677-b2d8bc63d1a5"
      },
      "execution_count": null,
      "outputs": [
        {
          "output_type": "execute_result",
          "data": {
            "text/plain": [
              "(0.7, 0.3)"
            ]
          },
          "metadata": {},
          "execution_count": 20
        }
      ]
    },
    {
      "cell_type": "code",
      "source": [
        "import numpy as np\n",
        "\n",
        "# Plot the loss curves\n",
        "plt.plot(epoch_count, np.array(torch.tensor(loss_values).cpu().numpy()), label=\"Train loss\")\n",
        "plt.plot(epoch_count, np.array(torch.tensor(test_loss_values).cpu().numpy()), label=\"Test loss\")\n",
        "plt.title(\"Training and test loss curves\")\n",
        "plt.ylabel(\"Loss\")\n",
        "plt.xlabel(\"Epochs\")\n",
        "plt.legend()"
      ],
      "metadata": {
        "colab": {
          "base_uri": "https://localhost:8080/",
          "height": 489
        },
        "id": "7d9vnPgzmfVO",
        "outputId": "0ba8bfde-cf3c-43cc-ac02-827be3d6c75a"
      },
      "execution_count": null,
      "outputs": [
        {
          "output_type": "execute_result",
          "data": {
            "text/plain": [
              "<matplotlib.legend.Legend at 0x7b5facd3ccd0>"
            ]
          },
          "metadata": {},
          "execution_count": 21
        },
        {
          "output_type": "display_data",
          "data": {
            "text/plain": [
              "<Figure size 640x480 with 1 Axes>"
            ],
            "image/png": "[encoded data removed]"
          },
          "metadata": {}
        }
      ]
    },
    {
      "cell_type": "code",
      "source": [
        "with torch.inference_mode():\n",
        "  y_pred = model_0(X_test[3])\n",
        "\n",
        "print(y_pred)\n",
        "print(y_test[3])\n",
        "\n"
      ],
      "metadata": {
        "colab": {
          "base_uri": "https://localhost:8080/"
        },
        "id": "kZeDNyEgXEkF",
        "outputId": "f40315cf-74eb-4c48-d091-7c8f84116cc1"
      },
      "execution_count": null,
      "outputs": [
        {
          "output_type": "stream",
          "name": "stdout",
          "text": [
            "tensor([0.9013])\n",
            "tensor([0.9020])\n"
          ]
        }
      ]
    },
    {
      "cell_type": "code",
      "source": [
        "with torch.inference_mode():\n",
        "  y_preds_new = model_0(X_test)\n"
      ],
      "metadata": {
        "id": "ww2qcui6dcXZ"
      },
      "execution_count": null,
      "outputs": []
    },
    {
      "cell_type": "code",
      "source": [
        "plot_predictions(predictions=y_preds_new)"
      ],
      "metadata": {
        "colab": {
          "base_uri": "https://localhost:8080/",
          "height": 599
        },
        "id": "byEt1AYWfHzH",
        "outputId": "76107208-c3db-4746-8975-b4af9a14faa6"
      },
      "execution_count": null,
      "outputs": [
        {
          "output_type": "display_data",
          "data": {
            "text/plain": [
              "<Figure size 1000x700 with 1 Axes>"
            ],
            "image/png": "[encoded data removed]"
          },
          "metadata": {}
        }
      ]
    },
    {
      "cell_type": "markdown",
      "source": [
        "## Saving a model in PyTorch\n",
        "\n",
        "There are 3 main methods you should know about for saving and loading models in Pytorch.\n",
        "\n",
        "1. `torch.save()` - allows you to save a Pytorch object in Python's pickle format\n",
        "2. `torch.load()` - allows you to load a saved PyTorch object\n",
        "3. `torch.nn.Module.load_state_dict()` - allows you to load a model's saved state dictionary\n",
        "\n",
        "PyTorch save and load code tutorial: https://pytorch.org/tutorials/beginner/saving_loading_models.html#saving-loading-model-for-inference"
      ],
      "metadata": {
        "id": "YQDYXNRBfKFo"
      }
    },
    {
      "cell_type": "code",
      "source": [
        "# Saving our PyTorch model\n",
        "from pathlib import Path\n",
        "\n",
        "# 1. Create models directory\n",
        "MODEL_PATH = Path(\"models\")\n",
        "MODEL_PATH.mkdir(parents=True, exist_ok=True)\n",
        "\n",
        "# 2. Create model save path\n",
        "MODEL_NAME = \"01_pytorch_workflow_model_0.pth\"\n",
        "MODEL_SAVE_PATH = MODEL_PATH / MODEL_NAME\n",
        "\n",
        "# 3. Save the model state_dict\n",
        "torch.save(obj=model_0.state_dict(), f=MODEL_SAVE_PATH)"
      ],
      "metadata": {
        "id": "3PTHR18mkzjz"
      },
      "execution_count": null,
      "outputs": []
    },
    {
      "cell_type": "code",
      "source": [
        "!ls -l models"
      ],
      "metadata": {
        "colab": {
          "base_uri": "https://localhost:8080/"
        },
        "id": "_w6mh0zNnafm",
        "outputId": "22dbb71a-5275-4125-fa7b-af42a2bc3744"
      },
      "execution_count": null,
      "outputs": [
        {
          "output_type": "stream",
          "name": "stdout",
          "text": [
            "total 4\n",
            "-rw-r--r-- 1 root root 1680 Feb 26 17:47 01_pytorch_workflow_model_0.pth\n"
          ]
        }
      ]
    },
    {
      "cell_type": "markdown",
      "source": [
        "## Loading a PyTorch model\n",
        "\n",
        "Since we saved our model's `state-dict` rather the entire model, we'll create a new instance of our model class und load the saved `state_dict()` into that."
      ],
      "metadata": {
        "id": "SM_0aWI3ohYz"
      }
    },
    {
      "cell_type": "code",
      "source": [
        "model_0.state_dict()"
      ],
      "metadata": {
        "colab": {
          "base_uri": "https://localhost:8080/"
        },
        "id": "M2bdW3288PPn",
        "outputId": "f828af05-6ef2-46b5-ac01-b8f24dd17e38"
      },
      "execution_count": null,
      "outputs": [
        {
          "output_type": "execute_result",
          "data": {
            "text/plain": [
              "OrderedDict([('weights', tensor([0.6994])), ('bias', tensor([0.2998]))])"
            ]
          },
          "metadata": {},
          "execution_count": 27
        }
      ]
    },
    {
      "cell_type": "code",
      "source": [
        "# To load in a saved state-dict we have to instantiate a new instance of our model class\n",
        "loaded_model_0 = LinearRegressionModel()\n",
        "\n",
        "# Load the saved state_dict of model_0 (this will update the new instance with updated parameters)\n",
        "loaded_model_0.load_state_dict(torch.load(f=MODEL_SAVE_PATH))"
      ],
      "metadata": {
        "colab": {
          "base_uri": "https://localhost:8080/"
        },
        "id": "IVb4WM4L8TvT",
        "outputId": "c0db1a07-1077-4d0e-f10a-0b646b5ae5ef"
      },
      "execution_count": null,
      "outputs": [
        {
          "output_type": "stream",
          "name": "stderr",
          "text": [
            "<ipython-input-28-81172f6489a5>:5: FutureWarning: You are using `torch.load` with `weights_only=False` (the current default value), which uses the default pickle module implicitly. It is possible to construct malicious pickle data which will execute arbitrary code during unpickling (See https://github.com/pytorch/pytorch/blob/main/SECURITY.md#untrusted-models for more details). In a future release, the default value for `weights_only` will be flipped to `True`. This limits the functions that could be executed during unpickling. Arbitrary objects will no longer be allowed to be loaded via this mode unless they are explicitly allowlisted by the user via `torch.serialization.add_safe_globals`. We recommend you start setting `weights_only=True` for any use case where you don't have full control of the loaded file. Please open an issue on GitHub for any issues related to this experimental feature.\n",
            "  loaded_model_0.load_state_dict(torch.load(f=MODEL_SAVE_PATH))\n"
          ]
        },
        {
          "output_type": "execute_result",
          "data": {
            "text/plain": [
              "<All keys matched successfully>"
            ]
          },
          "metadata": {},
          "execution_count": 28
        }
      ]
    },
    {
      "cell_type": "code",
      "source": [
        "loaded_model_0.state_dict()"
      ],
      "metadata": {
        "colab": {
          "base_uri": "https://localhost:8080/"
        },
        "id": "EkGEm_xA8sci",
        "outputId": "ecc6f35c-8988-4464-a4ff-f336a75fbafc"
      },
      "execution_count": null,
      "outputs": [
        {
          "output_type": "execute_result",
          "data": {
            "text/plain": [
              "OrderedDict([('weights', tensor([0.6994])), ('bias', tensor([0.2998]))])"
            ]
          },
          "metadata": {},
          "execution_count": 29
        }
      ]
    },
    {
      "cell_type": "code",
      "source": [
        "# Make some predictions with our loaded model\n",
        "loaded_model_0.eval()\n",
        "with torch.inference_mode():\n",
        "  loaded_model_preds = loaded_model_0(X_test)\n",
        "\n",
        "loaded_model_preds"
      ],
      "metadata": {
        "colab": {
          "base_uri": "https://localhost:8080/"
        },
        "id": "yDBF_qOH9dom",
        "outputId": "3060f948-8fc5-4547-da6b-f43989eb5bd3"
      },
      "execution_count": null,
      "outputs": [
        {
          "output_type": "execute_result",
          "data": {
            "text/plain": [
              "tensor([[0.8593],\n",
              "        [0.8733],\n",
              "        [0.8873],\n",
              "        [0.9013],\n",
              "        [0.9152],\n",
              "        [0.9292],\n",
              "        [0.9432],\n",
              "        [0.9572],\n",
              "        [0.9712],\n",
              "        [0.9852]])"
            ]
          },
          "metadata": {},
          "execution_count": 30
        }
      ]
    },
    {
      "cell_type": "code",
      "source": [
        "# Make some models preds\n",
        "model_0.eval()\n",
        "with torch.inference_mode():\n",
        "  model_0_preds = model_0(X_test)\n",
        "\n",
        "model_0_preds"
      ],
      "metadata": {
        "colab": {
          "base_uri": "https://localhost:8080/"
        },
        "id": "AFQUCivF9yEq",
        "outputId": "56db808a-6061-4bcf-b05e-34776c7b0b2e"
      },
      "execution_count": null,
      "outputs": [
        {
          "output_type": "execute_result",
          "data": {
            "text/plain": [
              "tensor([[0.8593],\n",
              "        [0.8733],\n",
              "        [0.8873],\n",
              "        [0.9013],\n",
              "        [0.9152],\n",
              "        [0.9292],\n",
              "        [0.9432],\n",
              "        [0.9572],\n",
              "        [0.9712],\n",
              "        [0.9852]])"
            ]
          },
          "metadata": {},
          "execution_count": 31
        }
      ]
    },
    {
      "cell_type": "code",
      "source": [
        "# Compare loaded model preds with original model preds\n",
        "model_0_preds == loaded_model_preds"
      ],
      "metadata": {
        "colab": {
          "base_uri": "https://localhost:8080/"
        },
        "id": "Clujk3vJ98yk",
        "outputId": "f287d865-f3b2-4594-ca5e-15dc7c5b04b5"
      },
      "execution_count": null,
      "outputs": [
        {
          "output_type": "execute_result",
          "data": {
            "text/plain": [
              "tensor([[True],\n",
              "        [True],\n",
              "        [True],\n",
              "        [True],\n",
              "        [True],\n",
              "        [True],\n",
              "        [True],\n",
              "        [True],\n",
              "        [True],\n",
              "        [True]])"
            ]
          },
          "metadata": {},
          "execution_count": 32
        }
      ]
    },
    {
      "cell_type": "markdown",
      "source": [
        "## 6. Putting it all together\n",
        "\n",
        "Let's go back through the steps above and see it all in one place."
      ],
      "metadata": {
        "id": "NyggJjNq-I52"
      }
    },
    {
      "cell_type": "code",
      "source": [
        "# Import PyTorch and matplotlib\n",
        "import torch\n",
        "from torch import nn\n",
        "import matplotlib.pyplot as plt\n",
        "\n",
        "# Check PyTorch version\n",
        "torch.__version__"
      ],
      "metadata": {
        "id": "Ry86oHdo-9Gc",
        "colab": {
          "base_uri": "https://localhost:8080/",
          "height": 35
        },
        "outputId": "90d51919-fe8e-4ddc-c95b-6b5d6fc6e65b"
      },
      "execution_count": null,
      "outputs": [
        {
          "output_type": "execute_result",
          "data": {
            "text/plain": [
              "'2.5.1+cu124'"
            ],
            "application/vnd.google.colaboratory.intrinsic+json": {
              "type": "string"
            }
          },
          "metadata": {},
          "execution_count": 1
        }
      ]
    },
    {
      "cell_type": "markdown",
      "source": [
        "Create device-agnostic code.\n",
        "\n",
        "This means if we've got access to a GPU, our code will use it (for potentially faster computing).\n",
        "\n",
        "If no GPU is available, the code will deafult to using CPU."
      ],
      "metadata": {
        "id": "hstlWxHHYMLD"
      }
    },
    {
      "cell_type": "code",
      "source": [
        "# Setup device agnostic code\n",
        "device = \"cuda\" if torch.cuda.is_available() else \"cpu\"\n",
        "device"
      ],
      "metadata": {
        "colab": {
          "base_uri": "https://localhost:8080/",
          "height": 35
        },
        "id": "0ztKflFAYrjv",
        "outputId": "31190c91-bc18-422d-e4c0-8f1501b38819"
      },
      "execution_count": null,
      "outputs": [
        {
          "output_type": "execute_result",
          "data": {
            "text/plain": [
              "'cuda'"
            ],
            "application/vnd.google.colaboratory.intrinsic+json": {
              "type": "string"
            }
          },
          "metadata": {},
          "execution_count": 2
        }
      ]
    },
    {
      "cell_type": "code",
      "source": [
        "!nvidia-smi"
      ],
      "metadata": {
        "colab": {
          "base_uri": "https://localhost:8080/"
        },
        "id": "xOmThP1CaqKq",
        "outputId": "4399d7bf-033e-4017-d0a5-00154cd3d045"
      },
      "execution_count": null,
      "outputs": [
        {
          "output_type": "stream",
          "name": "stdout",
          "text": [
            "Thu Feb 27 22:07:03 2025       \n",
            "+-----------------------------------------------------------------------------------------+\n",
            "| NVIDIA-SMI 550.54.15              Driver Version: 550.54.15      CUDA Version: 12.4     |\n",
            "|-----------------------------------------+------------------------+----------------------+\n",
            "| GPU  Name                 Persistence-M | Bus-Id          Disp.A | Volatile Uncorr. ECC |\n",
            "| Fan  Temp   Perf          Pwr:Usage/Cap |           Memory-Usage | GPU-Util  Compute M. |\n",
            "|                                         |                        |               MIG M. |\n",
            "|=========================================+========================+======================|\n",
            "|   0  Tesla T4                       Off |   00000000:00:04.0 Off |                    0 |\n",
            "| N/A   46C    P8             10W /   70W |       2MiB /  15360MiB |      0%      Default |\n",
            "|                                         |                        |                  N/A |\n",
            "+-----------------------------------------+------------------------+----------------------+\n",
            "                                                                                         \n",
            "+-----------------------------------------------------------------------------------------+\n",
            "| Processes:                                                                              |\n",
            "|  GPU   GI   CI        PID   Type   Process name                              GPU Memory |\n",
            "|        ID   ID                                                               Usage      |\n",
            "|=========================================================================================|\n",
            "|  No running processes found                                                             |\n",
            "+-----------------------------------------------------------------------------------------+\n"
          ]
        }
      ]
    },
    {
      "cell_type": "markdown",
      "source": [
        "### 6.1 Data"
      ],
      "metadata": {
        "id": "LdWs1tEj-57v"
      }
    },
    {
      "cell_type": "code",
      "source": [
        "# Create some data using the linear regression formula of y= weight * X + bias\n",
        "weight = 0.7\n",
        "bias = 0.3\n",
        "\n",
        "# Create range values\n",
        "start = 0\n",
        "end = 1\n",
        "step = 0.02\n",
        "\n",
        "# Create X and y (features and labels)\n",
        "X = torch.arange(start, end, step).unsqueeze(dim=1) # Without unsqueeze, errors will pop up\n",
        "y = weight * X + bias\n",
        "\n",
        "X[:10], y[:10]"
      ],
      "metadata": {
        "colab": {
          "base_uri": "https://localhost:8080/"
        },
        "id": "kL5f4o3KazW_",
        "outputId": "3396a793-f968-44f4-a360-b590cff7f9b5"
      },
      "execution_count": null,
      "outputs": [
        {
          "output_type": "execute_result",
          "data": {
            "text/plain": [
              "(tensor([[0.0000],\n",
              "         [0.0200],\n",
              "         [0.0400],\n",
              "         [0.0600],\n",
              "         [0.0800],\n",
              "         [0.1000],\n",
              "         [0.1200],\n",
              "         [0.1400],\n",
              "         [0.1600],\n",
              "         [0.1800]]),\n",
              " tensor([[0.3000],\n",
              "         [0.3140],\n",
              "         [0.3280],\n",
              "         [0.3420],\n",
              "         [0.3560],\n",
              "         [0.3700],\n",
              "         [0.3840],\n",
              "         [0.3980],\n",
              "         [0.4120],\n",
              "         [0.4260]]))"
            ]
          },
          "metadata": {},
          "execution_count": 4
        }
      ]
    },
    {
      "cell_type": "code",
      "source": [
        "# Split data\n",
        "train_split = int(0.8 * len(X))\n",
        "X_train, y_train = X[:train_split], y[:train_split]\n",
        "X_test, y_test = X[train_split:], y[train_split:]\n",
        "\n",
        "len(X_train), len(y_train), len(X_test), len(y_test)"
      ],
      "metadata": {
        "colab": {
          "base_uri": "https://localhost:8080/"
        },
        "id": "PlhApnNqbq2n",
        "outputId": "2e5f16f3-d39f-4a43-8c34-0055552662d0"
      },
      "execution_count": null,
      "outputs": [
        {
          "output_type": "execute_result",
          "data": {
            "text/plain": [
              "(40, 40, 10, 10)"
            ]
          },
          "metadata": {},
          "execution_count": 5
        }
      ]
    },
    {
      "cell_type": "code",
      "source": [
        "# Plot the data\n",
        "# Note: If you don't have the plot_predictions() function loaded, this will error\n",
        "plot_predictions(X_train, y_train, X_test, y_test)"
      ],
      "metadata": {
        "colab": {
          "base_uri": "https://localhost:8080/",
          "height": 599
        },
        "id": "uPUej13scKEL",
        "outputId": "96361814-2320-4e5e-99cc-275b0afbf212"
      },
      "execution_count": null,
      "outputs": [
        {
          "output_type": "display_data",
          "data": {
            "text/plain": [
              "<Figure size 1000x700 with 1 Axes>"
            ],
            "image/png": "[encoded data removed]"
          },
          "metadata": {}
        }
      ]
    },
    {
      "cell_type": "markdown",
      "source": [
        "### 6.2 Building a PyTorch Linear model"
      ],
      "metadata": {
        "id": "ekkql5vKch2l"
      }
    },
    {
      "cell_type": "code",
      "source": [
        "# Create a linear model by subclassing nn.Module"
      ],
      "metadata": {
        "id": "5G1EifUfdhh0"
      },
      "execution_count": null,
      "outputs": []
    },
    {
      "cell_type": "code",
      "source": [
        "class LinearRegressionModelV2(nn.Module):\n",
        "  def __init__(self):\n",
        "    super().__init__()\n",
        "\n",
        "    # Use nn.Linear() for creating the model parameters / also called: linear transform, probing layer, fully connected layer, dense layer\n",
        "    self.linear_layer = nn.Linear(in_features=1, out_features=1, bias=True)\n",
        "\n",
        "  def forward(self, x:torch.Tensor) -> torch.Tensor:\n",
        "    return self.linear_layer(x)\n",
        "\n",
        "# Set the manual seed\n",
        "torch.manual_seed(42)\n",
        "model_1 = LinearRegressionModelV2()\n",
        "model_1, model_1.state_dict()"
      ],
      "metadata": {
        "colab": {
          "base_uri": "https://localhost:8080/"
        },
        "id": "iDByMWcEc1Uy",
        "outputId": "d146ebaa-65ce-4031-9b2d-e5c0a80d4f40"
      },
      "execution_count": null,
      "outputs": [
        {
          "output_type": "execute_result",
          "data": {
            "text/plain": [
              "(LinearRegressionModelV2(\n",
              "   (linear_layer): Linear(in_features=1, out_features=1, bias=True)\n",
              " ),\n",
              " OrderedDict([('linear_layer.weight', tensor([[0.7645]])),\n",
              "              ('linear_layer.bias', tensor([0.8300]))]))"
            ]
          },
          "metadata": {},
          "execution_count": 10
        }
      ]
    },
    {
      "cell_type": "code",
      "source": [
        "# check the model current device\n",
        "next(model_1.parameters()).device"
      ],
      "metadata": {
        "colab": {
          "base_uri": "https://localhost:8080/"
        },
        "id": "hOPeQ5u5ghDP",
        "outputId": "ea2bc259-5edd-4dbb-e749-155020b8e04d"
      },
      "execution_count": null,
      "outputs": [
        {
          "output_type": "execute_result",
          "data": {
            "text/plain": [
              "device(type='cpu')"
            ]
          },
          "metadata": {},
          "execution_count": 11
        }
      ]
    },
    {
      "cell_type": "code",
      "source": [
        "# Set the model to use the target device\n",
        "model_1.to(device)\n",
        "next(model_1.parameters()).device"
      ],
      "metadata": {
        "colab": {
          "base_uri": "https://localhost:8080/"
        },
        "id": "P_6vrJtLfU0W",
        "outputId": "eac2a5e3-7a59-4414-b113-49a3c794b6d0"
      },
      "execution_count": null,
      "outputs": [
        {
          "output_type": "execute_result",
          "data": {
            "text/plain": [
              "device(type='cuda', index=0)"
            ]
          },
          "metadata": {},
          "execution_count": 12
        }
      ]
    },
    {
      "cell_type": "markdown",
      "source": [
        "### 6.3 Training\n",
        "\n",
        "For training we need:\n",
        "* Loss function\n",
        "* Optimizer\n",
        "* Training loop\n",
        "* Testing loop"
      ],
      "metadata": {
        "id": "shWw0oUlgoOn"
      }
    },
    {
      "cell_type": "code",
      "source": [
        "# Setup the loss function\n",
        "loss_fn = nn.L1Loss() # same as MAE\n",
        "\n",
        "# Setup the optimizer\n",
        "optimizer = torch.optim.SGD(params=model_1.parameters(), lr=0.0001)\n"
      ],
      "metadata": {
        "id": "PTXK5moThC2e"
      },
      "execution_count": null,
      "outputs": []
    },
    {
      "cell_type": "code",
      "source": [
        "# Let's write a training loop\n",
        "torch.manual_seed(42)\n",
        "\n",
        "epochs = 20000\n",
        "\n",
        "# Put data on the target device (device agnostic code for data)\n",
        "X_train = X_train.to(device)\n",
        "y_train = y_train.to(device)\n",
        "X_test = X_test.to(device)\n",
        "y_test = y_test.to(device)\n",
        "\n",
        "for epoch in range(epochs):\n",
        "  model_1.train()\n",
        "\n",
        "  # 1. Forward pass\n",
        "  y_pred = model_1(X_train)\n",
        "\n",
        "  # 2. Calculate the loss\n",
        "  loss = loss_fn(y_pred, y_train)\n",
        "\n",
        "  # 3. Optimizer zero grad\n",
        "  optimizer.zero_grad()\n",
        "\n",
        "  # 4. Perform backporpagation\n",
        "  loss.backward()\n",
        "\n",
        "  # 5. Optimizer step\n",
        "  optimizer.step()\n",
        "\n",
        "  ### Testing\n",
        "  model_1.eval()\n",
        "  with torch.inference_mode():\n",
        "    test_pred = model_1(X_test)\n",
        "\n",
        "    test_loss = loss_fn(test_pred, y_test)\n",
        "\n",
        "  # Print out what's happening\n",
        "\n",
        "  if epoch % 10 == 0:\n",
        "    print(f\"Epoch: {epoch} | Loss: {loss} | Test loss: {test_loss}\")"
      ],
      "metadata": {
        "colab": {
          "base_uri": "https://localhost:8080/"
        },
        "id": "n-EYCnEgc8Cf",
        "outputId": "08013955-1e61-450d-a014-7c604e7cd28e"
      },
      "execution_count": null,
      "outputs": [
        {
          "output_type": "stream",
          "name": "stdout",
          "text": [
            "Epoch: 0 | Loss: 0.0012645035749301314 | Test loss: 0.0004654884396586567\n",
            "Epoch: 10 | Loss: 0.0007776893908157945 | Test loss: 0.001172184944152832\n",
            "Epoch: 20 | Loss: 0.000683495425619185 | Test loss: 0.0013786613708361983\n",
            "Epoch: 30 | Loss: 0.0006389491609297693 | Test loss: 0.0014137625694274902\n",
            "Epoch: 40 | Loss: 0.0006036348640918732 | Test loss: 0.0013722599251195788\n",
            "Epoch: 50 | Loss: 0.0005684852949343622 | Test loss: 0.0013238966930657625\n",
            "Epoch: 60 | Loss: 0.0005341582000255585 | Test loss: 0.0012412130599841475\n",
            "Epoch: 70 | Loss: 0.0004997484502382576 | Test loss: 0.0011585295433178544\n",
            "Epoch: 80 | Loss: 0.00046540648327209055 | Test loss: 0.0010827064979821444\n",
            "Epoch: 90 | Loss: 0.0004310697258915752 | Test loss: 0.0010000228649005294\n",
            "Epoch: 100 | Loss: 0.00039666518568992615 | Test loss: 0.0009173393482342362\n",
            "Epoch: 110 | Loss: 0.0003623247321229428 | Test loss: 0.0008415222400799394\n",
            "Epoch: 120 | Loss: 0.00032798349275253713 | Test loss: 0.0007588386652059853\n",
            "Epoch: 130 | Loss: 0.00029357895255088806 | Test loss: 0.0006761550903320312\n",
            "Epoch: 140 | Loss: 0.00025924594956450164 | Test loss: 0.0006003320449963212\n",
            "Epoch: 150 | Loss: 0.00022489727416541427 | Test loss: 0.0005176484701223671\n",
            "Epoch: 160 | Loss: 0.00019049123511649668 | Test loss: 0.0004349648952484131\n",
            "Epoch: 170 | Loss: 0.00015616566815879196 | Test loss: 0.0003591477870941162\n",
            "Epoch: 180 | Loss: 0.00012181401689304039 | Test loss: 0.0002764642413239926\n",
            "Epoch: 190 | Loss: 8.74094694154337e-05 | Test loss: 0.00019378066645003855\n",
            "Epoch: 200 | Loss: 5.308315303409472e-05 | Test loss: 0.00011795759201049805\n",
            "Epoch: 210 | Loss: 1.8744171029538848e-05 | Test loss: 2.8461217880249023e-05\n",
            "Epoch: 220 | Loss: 4.9667061830405146e-05 | Test loss: 5.067586971563287e-05\n",
            "Epoch: 230 | Loss: 4.9667061830405146e-05 | Test loss: 5.067586971563287e-05\n",
            "Epoch: 240 | Loss: 4.9667061830405146e-05 | Test loss: 5.067586971563287e-05\n",
            "Epoch: 250 | Loss: 4.9667061830405146e-05 | Test loss: 5.067586971563287e-05\n",
            "Epoch: 260 | Loss: 4.9667061830405146e-05 | Test loss: 5.067586971563287e-05\n",
            "Epoch: 270 | Loss: 4.9667061830405146e-05 | Test loss: 5.067586971563287e-05\n",
            "Epoch: 280 | Loss: 4.9667061830405146e-05 | Test loss: 5.067586971563287e-05\n",
            "Epoch: 290 | Loss: 4.9667061830405146e-05 | Test loss: 5.067586971563287e-05\n",
            "Epoch: 300 | Loss: 4.9667061830405146e-05 | Test loss: 5.067586971563287e-05\n",
            "Epoch: 310 | Loss: 4.9667061830405146e-05 | Test loss: 5.067586971563287e-05\n",
            "Epoch: 320 | Loss: 4.9667061830405146e-05 | Test loss: 5.067586971563287e-05\n",
            "Epoch: 330 | Loss: 4.9667061830405146e-05 | Test loss: 5.067586971563287e-05\n",
            "Epoch: 340 | Loss: 4.9667061830405146e-05 | Test loss: 5.067586971563287e-05\n",
            "Epoch: 350 | Loss: 4.9667061830405146e-05 | Test loss: 5.067586971563287e-05\n",
            "Epoch: 360 | Loss: 4.9667061830405146e-05 | Test loss: 5.067586971563287e-05\n",
            "Epoch: 370 | Loss: 4.9667061830405146e-05 | Test loss: 5.067586971563287e-05\n",
            "Epoch: 380 | Loss: 4.9667061830405146e-05 | Test loss: 5.067586971563287e-05\n",
            "Epoch: 390 | Loss: 4.9667061830405146e-05 | Test loss: 5.067586971563287e-05\n",
            "Epoch: 400 | Loss: 4.9667061830405146e-05 | Test loss: 5.067586971563287e-05\n",
            "Epoch: 410 | Loss: 4.9667061830405146e-05 | Test loss: 5.067586971563287e-05\n",
            "Epoch: 420 | Loss: 4.9667061830405146e-05 | Test loss: 5.067586971563287e-05\n",
            "Epoch: 430 | Loss: 4.9667061830405146e-05 | Test loss: 5.067586971563287e-05\n",
            "Epoch: 440 | Loss: 4.9667061830405146e-05 | Test loss: 5.067586971563287e-05\n",
            "Epoch: 450 | Loss: 4.9667061830405146e-05 | Test loss: 5.067586971563287e-05\n",
            "Epoch: 460 | Loss: 4.9667061830405146e-05 | Test loss: 5.067586971563287e-05\n",
            "Epoch: 470 | Loss: 4.9667061830405146e-05 | Test loss: 5.067586971563287e-05\n",
            "Epoch: 480 | Loss: 4.9667061830405146e-05 | Test loss: 5.067586971563287e-05\n",
            "Epoch: 490 | Loss: 4.9667061830405146e-05 | Test loss: 5.067586971563287e-05\n",
            "Epoch: 500 | Loss: 4.9667061830405146e-05 | Test loss: 5.067586971563287e-05\n",
            "Epoch: 510 | Loss: 4.9667061830405146e-05 | Test loss: 5.067586971563287e-05\n",
            "Epoch: 520 | Loss: 4.9667061830405146e-05 | Test loss: 5.067586971563287e-05\n",
            "Epoch: 530 | Loss: 4.9667061830405146e-05 | Test loss: 5.067586971563287e-05\n",
            "Epoch: 540 | Loss: 4.9667061830405146e-05 | Test loss: 5.067586971563287e-05\n",
            "Epoch: 550 | Loss: 4.9667061830405146e-05 | Test loss: 5.067586971563287e-05\n",
            "Epoch: 560 | Loss: 4.9667061830405146e-05 | Test loss: 5.067586971563287e-05\n",
            "Epoch: 570 | Loss: 4.9667061830405146e-05 | Test loss: 5.067586971563287e-05\n",
            "Epoch: 580 | Loss: 4.9667061830405146e-05 | Test loss: 5.067586971563287e-05\n",
            "Epoch: 590 | Loss: 4.9667061830405146e-05 | Test loss: 5.067586971563287e-05\n",
            "Epoch: 600 | Loss: 4.9667061830405146e-05 | Test loss: 5.067586971563287e-05\n",
            "Epoch: 610 | Loss: 4.9667061830405146e-05 | Test loss: 5.067586971563287e-05\n",
            "Epoch: 620 | Loss: 4.9667061830405146e-05 | Test loss: 5.067586971563287e-05\n",
            "Epoch: 630 | Loss: 4.9667061830405146e-05 | Test loss: 5.067586971563287e-05\n",
            "Epoch: 640 | Loss: 4.9667061830405146e-05 | Test loss: 5.067586971563287e-05\n",
            "Epoch: 650 | Loss: 4.9667061830405146e-05 | Test loss: 5.067586971563287e-05\n",
            "Epoch: 660 | Loss: 4.9667061830405146e-05 | Test loss: 5.067586971563287e-05\n",
            "Epoch: 670 | Loss: 4.9667061830405146e-05 | Test loss: 5.067586971563287e-05\n",
            "Epoch: 680 | Loss: 4.9667061830405146e-05 | Test loss: 5.067586971563287e-05\n",
            "Epoch: 690 | Loss: 4.9667061830405146e-05 | Test loss: 5.067586971563287e-05\n",
            "Epoch: 700 | Loss: 4.9667061830405146e-05 | Test loss: 5.067586971563287e-05\n",
            "Epoch: 710 | Loss: 4.9667061830405146e-05 | Test loss: 5.067586971563287e-05\n",
            "Epoch: 720 | Loss: 4.9667061830405146e-05 | Test loss: 5.067586971563287e-05\n",
            "Epoch: 730 | Loss: 4.9667061830405146e-05 | Test loss: 5.067586971563287e-05\n",
            "Epoch: 740 | Loss: 4.9667061830405146e-05 | Test loss: 5.067586971563287e-05\n",
            "Epoch: 750 | Loss: 4.9667061830405146e-05 | Test loss: 5.067586971563287e-05\n",
            "Epoch: 760 | Loss: 4.9667061830405146e-05 | Test loss: 5.067586971563287e-05\n",
            "Epoch: 770 | Loss: 4.9667061830405146e-05 | Test loss: 5.067586971563287e-05\n",
            "Epoch: 780 | Loss: 4.9667061830405146e-05 | Test loss: 5.067586971563287e-05\n",
            "Epoch: 790 | Loss: 4.9667061830405146e-05 | Test loss: 5.067586971563287e-05\n",
            "Epoch: 800 | Loss: 4.9667061830405146e-05 | Test loss: 5.067586971563287e-05\n",
            "Epoch: 810 | Loss: 4.9667061830405146e-05 | Test loss: 5.067586971563287e-05\n",
            "Epoch: 820 | Loss: 4.9667061830405146e-05 | Test loss: 5.067586971563287e-05\n",
            "Epoch: 830 | Loss: 4.9667061830405146e-05 | Test loss: 5.067586971563287e-05\n",
            "Epoch: 840 | Loss: 4.9667061830405146e-05 | Test loss: 5.067586971563287e-05\n",
            "Epoch: 850 | Loss: 4.9667061830405146e-05 | Test loss: 5.067586971563287e-05\n",
            "Epoch: 860 | Loss: 4.9667061830405146e-05 | Test loss: 5.067586971563287e-05\n",
            "Epoch: 870 | Loss: 4.9667061830405146e-05 | Test loss: 5.067586971563287e-05\n",
            "Epoch: 880 | Loss: 4.9667061830405146e-05 | Test loss: 5.067586971563287e-05\n",
            "Epoch: 890 | Loss: 4.9667061830405146e-05 | Test loss: 5.067586971563287e-05\n",
            "Epoch: 900 | Loss: 4.9667061830405146e-05 | Test loss: 5.067586971563287e-05\n",
            "Epoch: 910 | Loss: 4.9667061830405146e-05 | Test loss: 5.067586971563287e-05\n",
            "Epoch: 920 | Loss: 4.9667061830405146e-05 | Test loss: 5.067586971563287e-05\n",
            "Epoch: 930 | Loss: 4.9667061830405146e-05 | Test loss: 5.067586971563287e-05\n",
            "Epoch: 940 | Loss: 4.9667061830405146e-05 | Test loss: 5.067586971563287e-05\n",
            "Epoch: 950 | Loss: 4.9667061830405146e-05 | Test loss: 5.067586971563287e-05\n",
            "Epoch: 960 | Loss: 4.9667061830405146e-05 | Test loss: 5.067586971563287e-05\n",
            "Epoch: 970 | Loss: 4.9667061830405146e-05 | Test loss: 5.067586971563287e-05\n",
            "Epoch: 980 | Loss: 4.9667061830405146e-05 | Test loss: 5.067586971563287e-05\n",
            "Epoch: 990 | Loss: 4.9667061830405146e-05 | Test loss: 5.067586971563287e-05\n",
            "Epoch: 1000 | Loss: 4.9667061830405146e-05 | Test loss: 5.067586971563287e-05\n",
            "Epoch: 1010 | Loss: 4.9667061830405146e-05 | Test loss: 5.067586971563287e-05\n",
            "Epoch: 1020 | Loss: 4.9667061830405146e-05 | Test loss: 5.067586971563287e-05\n",
            "Epoch: 1030 | Loss: 4.9667061830405146e-05 | Test loss: 5.067586971563287e-05\n",
            "Epoch: 1040 | Loss: 4.9667061830405146e-05 | Test loss: 5.067586971563287e-05\n",
            "Epoch: 1050 | Loss: 4.9667061830405146e-05 | Test loss: 5.067586971563287e-05\n",
            "Epoch: 1060 | Loss: 4.9667061830405146e-05 | Test loss: 5.067586971563287e-05\n",
            "Epoch: 1070 | Loss: 4.9667061830405146e-05 | Test loss: 5.067586971563287e-05\n",
            "Epoch: 1080 | Loss: 4.9667061830405146e-05 | Test loss: 5.067586971563287e-05\n",
            "Epoch: 1090 | Loss: 4.9667061830405146e-05 | Test loss: 5.067586971563287e-05\n",
            "Epoch: 1100 | Loss: 4.9667061830405146e-05 | Test loss: 5.067586971563287e-05\n",
            "Epoch: 1110 | Loss: 4.9667061830405146e-05 | Test loss: 5.067586971563287e-05\n",
            "Epoch: 1120 | Loss: 4.9667061830405146e-05 | Test loss: 5.067586971563287e-05\n",
            "Epoch: 1130 | Loss: 4.9667061830405146e-05 | Test loss: 5.067586971563287e-05\n",
            "Epoch: 1140 | Loss: 4.9667061830405146e-05 | Test loss: 5.067586971563287e-05\n",
            "Epoch: 1150 | Loss: 4.9667061830405146e-05 | Test loss: 5.067586971563287e-05\n",
            "Epoch: 1160 | Loss: 4.9667061830405146e-05 | Test loss: 5.067586971563287e-05\n",
            "Epoch: 1170 | Loss: 4.9667061830405146e-05 | Test loss: 5.067586971563287e-05\n",
            "Epoch: 1180 | Loss: 4.9667061830405146e-05 | Test loss: 5.067586971563287e-05\n",
            "Epoch: 1190 | Loss: 4.9667061830405146e-05 | Test loss: 5.067586971563287e-05\n",
            "Epoch: 1200 | Loss: 4.9667061830405146e-05 | Test loss: 5.067586971563287e-05\n",
            "Epoch: 1210 | Loss: 4.9667061830405146e-05 | Test loss: 5.067586971563287e-05\n",
            "Epoch: 1220 | Loss: 4.9667061830405146e-05 | Test loss: 5.067586971563287e-05\n",
            "Epoch: 1230 | Loss: 4.9667061830405146e-05 | Test loss: 5.067586971563287e-05\n",
            "Epoch: 1240 | Loss: 4.9667061830405146e-05 | Test loss: 5.067586971563287e-05\n",
            "Epoch: 1250 | Loss: 4.9667061830405146e-05 | Test loss: 5.067586971563287e-05\n",
            "Epoch: 1260 | Loss: 4.9667061830405146e-05 | Test loss: 5.067586971563287e-05\n",
            "Epoch: 1270 | Loss: 4.9667061830405146e-05 | Test loss: 5.067586971563287e-05\n",
            "Epoch: 1280 | Loss: 4.9667061830405146e-05 | Test loss: 5.067586971563287e-05\n",
            "Epoch: 1290 | Loss: 4.9667061830405146e-05 | Test loss: 5.067586971563287e-05\n",
            "Epoch: 1300 | Loss: 4.9667061830405146e-05 | Test loss: 5.067586971563287e-05\n",
            "Epoch: 1310 | Loss: 4.9667061830405146e-05 | Test loss: 5.067586971563287e-05\n",
            "Epoch: 1320 | Loss: 4.9667061830405146e-05 | Test loss: 5.067586971563287e-05\n",
            "Epoch: 1330 | Loss: 4.9667061830405146e-05 | Test loss: 5.067586971563287e-05\n",
            "Epoch: 1340 | Loss: 4.9667061830405146e-05 | Test loss: 5.067586971563287e-05\n",
            "Epoch: 1350 | Loss: 4.9667061830405146e-05 | Test loss: 5.067586971563287e-05\n",
            "Epoch: 1360 | Loss: 4.9667061830405146e-05 | Test loss: 5.067586971563287e-05\n",
            "Epoch: 1370 | Loss: 4.9667061830405146e-05 | Test loss: 5.067586971563287e-05\n",
            "Epoch: 1380 | Loss: 4.9667061830405146e-05 | Test loss: 5.067586971563287e-05\n",
            "Epoch: 1390 | Loss: 4.9667061830405146e-05 | Test loss: 5.067586971563287e-05\n",
            "Epoch: 1400 | Loss: 4.9667061830405146e-05 | Test loss: 5.067586971563287e-05\n",
            "Epoch: 1410 | Loss: 4.9667061830405146e-05 | Test loss: 5.067586971563287e-05\n",
            "Epoch: 1420 | Loss: 4.9667061830405146e-05 | Test loss: 5.067586971563287e-05\n",
            "Epoch: 1430 | Loss: 4.9667061830405146e-05 | Test loss: 5.067586971563287e-05\n",
            "Epoch: 1440 | Loss: 4.9667061830405146e-05 | Test loss: 5.067586971563287e-05\n",
            "Epoch: 1450 | Loss: 4.9667061830405146e-05 | Test loss: 5.067586971563287e-05\n",
            "Epoch: 1460 | Loss: 4.9667061830405146e-05 | Test loss: 5.067586971563287e-05\n",
            "Epoch: 1470 | Loss: 4.9667061830405146e-05 | Test loss: 5.067586971563287e-05\n",
            "Epoch: 1480 | Loss: 4.9667061830405146e-05 | Test loss: 5.067586971563287e-05\n",
            "Epoch: 1490 | Loss: 4.9667061830405146e-05 | Test loss: 5.067586971563287e-05\n",
            "Epoch: 1500 | Loss: 4.9667061830405146e-05 | Test loss: 5.067586971563287e-05\n",
            "Epoch: 1510 | Loss: 4.9667061830405146e-05 | Test loss: 5.067586971563287e-05\n",
            "Epoch: 1520 | Loss: 4.9667061830405146e-05 | Test loss: 5.067586971563287e-05\n",
            "Epoch: 1530 | Loss: 4.9667061830405146e-05 | Test loss: 5.067586971563287e-05\n",
            "Epoch: 1540 | Loss: 4.9667061830405146e-05 | Test loss: 5.067586971563287e-05\n",
            "Epoch: 1550 | Loss: 4.9667061830405146e-05 | Test loss: 5.067586971563287e-05\n",
            "Epoch: 1560 | Loss: 4.9667061830405146e-05 | Test loss: 5.067586971563287e-05\n",
            "Epoch: 1570 | Loss: 4.9667061830405146e-05 | Test loss: 5.067586971563287e-05\n",
            "Epoch: 1580 | Loss: 4.9667061830405146e-05 | Test loss: 5.067586971563287e-05\n",
            "Epoch: 1590 | Loss: 4.9667061830405146e-05 | Test loss: 5.067586971563287e-05\n",
            "Epoch: 1600 | Loss: 4.9667061830405146e-05 | Test loss: 5.067586971563287e-05\n",
            "Epoch: 1610 | Loss: 4.9667061830405146e-05 | Test loss: 5.067586971563287e-05\n",
            "Epoch: 1620 | Loss: 4.9667061830405146e-05 | Test loss: 5.067586971563287e-05\n",
            "Epoch: 1630 | Loss: 4.9667061830405146e-05 | Test loss: 5.067586971563287e-05\n",
            "Epoch: 1640 | Loss: 4.9667061830405146e-05 | Test loss: 5.067586971563287e-05\n",
            "Epoch: 1650 | Loss: 4.9667061830405146e-05 | Test loss: 5.067586971563287e-05\n",
            "Epoch: 1660 | Loss: 4.9667061830405146e-05 | Test loss: 5.067586971563287e-05\n",
            "Epoch: 1670 | Loss: 4.9667061830405146e-05 | Test loss: 5.067586971563287e-05\n",
            "Epoch: 1680 | Loss: 4.9667061830405146e-05 | Test loss: 5.067586971563287e-05\n",
            "Epoch: 1690 | Loss: 4.9667061830405146e-05 | Test loss: 5.067586971563287e-05\n",
            "Epoch: 1700 | Loss: 4.9667061830405146e-05 | Test loss: 5.067586971563287e-05\n",
            "Epoch: 1710 | Loss: 4.9667061830405146e-05 | Test loss: 5.067586971563287e-05\n",
            "Epoch: 1720 | Loss: 4.9667061830405146e-05 | Test loss: 5.067586971563287e-05\n",
            "Epoch: 1730 | Loss: 4.9667061830405146e-05 | Test loss: 5.067586971563287e-05\n",
            "Epoch: 1740 | Loss: 4.9667061830405146e-05 | Test loss: 5.067586971563287e-05\n",
            "Epoch: 1750 | Loss: 4.9667061830405146e-05 | Test loss: 5.067586971563287e-05\n",
            "Epoch: 1760 | Loss: 4.9667061830405146e-05 | Test loss: 5.067586971563287e-05\n",
            "Epoch: 1770 | Loss: 4.9667061830405146e-05 | Test loss: 5.067586971563287e-05\n",
            "Epoch: 1780 | Loss: 4.9667061830405146e-05 | Test loss: 5.067586971563287e-05\n",
            "Epoch: 1790 | Loss: 4.9667061830405146e-05 | Test loss: 5.067586971563287e-05\n",
            "Epoch: 1800 | Loss: 4.9667061830405146e-05 | Test loss: 5.067586971563287e-05\n",
            "Epoch: 1810 | Loss: 4.9667061830405146e-05 | Test loss: 5.067586971563287e-05\n",
            "Epoch: 1820 | Loss: 4.9667061830405146e-05 | Test loss: 5.067586971563287e-05\n",
            "Epoch: 1830 | Loss: 4.9667061830405146e-05 | Test loss: 5.067586971563287e-05\n",
            "Epoch: 1840 | Loss: 4.9667061830405146e-05 | Test loss: 5.067586971563287e-05\n",
            "Epoch: 1850 | Loss: 4.9667061830405146e-05 | Test loss: 5.067586971563287e-05\n",
            "Epoch: 1860 | Loss: 4.9667061830405146e-05 | Test loss: 5.067586971563287e-05\n",
            "Epoch: 1870 | Loss: 4.9667061830405146e-05 | Test loss: 5.067586971563287e-05\n",
            "Epoch: 1880 | Loss: 4.9667061830405146e-05 | Test loss: 5.067586971563287e-05\n",
            "Epoch: 1890 | Loss: 4.9667061830405146e-05 | Test loss: 5.067586971563287e-05\n",
            "Epoch: 1900 | Loss: 4.9667061830405146e-05 | Test loss: 5.067586971563287e-05\n",
            "Epoch: 1910 | Loss: 4.9667061830405146e-05 | Test loss: 5.067586971563287e-05\n",
            "Epoch: 1920 | Loss: 4.9667061830405146e-05 | Test loss: 5.067586971563287e-05\n",
            "Epoch: 1930 | Loss: 4.9667061830405146e-05 | Test loss: 5.067586971563287e-05\n",
            "Epoch: 1940 | Loss: 4.9667061830405146e-05 | Test loss: 5.067586971563287e-05\n",
            "Epoch: 1950 | Loss: 4.9667061830405146e-05 | Test loss: 5.067586971563287e-05\n",
            "Epoch: 1960 | Loss: 4.9667061830405146e-05 | Test loss: 5.067586971563287e-05\n",
            "Epoch: 1970 | Loss: 4.9667061830405146e-05 | Test loss: 5.067586971563287e-05\n",
            "Epoch: 1980 | Loss: 4.9667061830405146e-05 | Test loss: 5.067586971563287e-05\n",
            "Epoch: 1990 | Loss: 4.9667061830405146e-05 | Test loss: 5.067586971563287e-05\n",
            "Epoch: 2000 | Loss: 4.9667061830405146e-05 | Test loss: 5.067586971563287e-05\n",
            "Epoch: 2010 | Loss: 4.9667061830405146e-05 | Test loss: 5.067586971563287e-05\n",
            "Epoch: 2020 | Loss: 4.9667061830405146e-05 | Test loss: 5.067586971563287e-05\n",
            "Epoch: 2030 | Loss: 4.9667061830405146e-05 | Test loss: 5.067586971563287e-05\n",
            "Epoch: 2040 | Loss: 4.9667061830405146e-05 | Test loss: 5.067586971563287e-05\n",
            "Epoch: 2050 | Loss: 4.9667061830405146e-05 | Test loss: 5.067586971563287e-05\n",
            "Epoch: 2060 | Loss: 4.9667061830405146e-05 | Test loss: 5.067586971563287e-05\n",
            "Epoch: 2070 | Loss: 4.9667061830405146e-05 | Test loss: 5.067586971563287e-05\n",
            "Epoch: 2080 | Loss: 4.9667061830405146e-05 | Test loss: 5.067586971563287e-05\n",
            "Epoch: 2090 | Loss: 4.9667061830405146e-05 | Test loss: 5.067586971563287e-05\n",
            "Epoch: 2100 | Loss: 4.9667061830405146e-05 | Test loss: 5.067586971563287e-05\n",
            "Epoch: 2110 | Loss: 4.9667061830405146e-05 | Test loss: 5.067586971563287e-05\n",
            "Epoch: 2120 | Loss: 4.9667061830405146e-05 | Test loss: 5.067586971563287e-05\n",
            "Epoch: 2130 | Loss: 4.9667061830405146e-05 | Test loss: 5.067586971563287e-05\n",
            "Epoch: 2140 | Loss: 4.9667061830405146e-05 | Test loss: 5.067586971563287e-05\n",
            "Epoch: 2150 | Loss: 4.9667061830405146e-05 | Test loss: 5.067586971563287e-05\n",
            "Epoch: 2160 | Loss: 4.9667061830405146e-05 | Test loss: 5.067586971563287e-05\n",
            "Epoch: 2170 | Loss: 4.9667061830405146e-05 | Test loss: 5.067586971563287e-05\n",
            "Epoch: 2180 | Loss: 4.9667061830405146e-05 | Test loss: 5.067586971563287e-05\n",
            "Epoch: 2190 | Loss: 4.9667061830405146e-05 | Test loss: 5.067586971563287e-05\n",
            "Epoch: 2200 | Loss: 4.9667061830405146e-05 | Test loss: 5.067586971563287e-05\n",
            "Epoch: 2210 | Loss: 4.9667061830405146e-05 | Test loss: 5.067586971563287e-05\n",
            "Epoch: 2220 | Loss: 4.9667061830405146e-05 | Test loss: 5.067586971563287e-05\n",
            "Epoch: 2230 | Loss: 4.9667061830405146e-05 | Test loss: 5.067586971563287e-05\n",
            "Epoch: 2240 | Loss: 4.9667061830405146e-05 | Test loss: 5.067586971563287e-05\n",
            "Epoch: 2250 | Loss: 4.9667061830405146e-05 | Test loss: 5.067586971563287e-05\n",
            "Epoch: 2260 | Loss: 4.9667061830405146e-05 | Test loss: 5.067586971563287e-05\n",
            "Epoch: 2270 | Loss: 4.9667061830405146e-05 | Test loss: 5.067586971563287e-05\n",
            "Epoch: 2280 | Loss: 4.9667061830405146e-05 | Test loss: 5.067586971563287e-05\n",
            "Epoch: 2290 | Loss: 4.9667061830405146e-05 | Test loss: 5.067586971563287e-05\n",
            "Epoch: 2300 | Loss: 4.9667061830405146e-05 | Test loss: 5.067586971563287e-05\n",
            "Epoch: 2310 | Loss: 4.9667061830405146e-05 | Test loss: 5.067586971563287e-05\n",
            "Epoch: 2320 | Loss: 4.9667061830405146e-05 | Test loss: 5.067586971563287e-05\n",
            "Epoch: 2330 | Loss: 4.9667061830405146e-05 | Test loss: 5.067586971563287e-05\n",
            "Epoch: 2340 | Loss: 4.9667061830405146e-05 | Test loss: 5.067586971563287e-05\n",
            "Epoch: 2350 | Loss: 4.9667061830405146e-05 | Test loss: 5.067586971563287e-05\n",
            "Epoch: 2360 | Loss: 4.9667061830405146e-05 | Test loss: 5.067586971563287e-05\n",
            "Epoch: 2370 | Loss: 4.9667061830405146e-05 | Test loss: 5.067586971563287e-05\n",
            "Epoch: 2380 | Loss: 4.9667061830405146e-05 | Test loss: 5.067586971563287e-05\n",
            "Epoch: 2390 | Loss: 4.9667061830405146e-05 | Test loss: 5.067586971563287e-05\n",
            "Epoch: 2400 | Loss: 4.9667061830405146e-05 | Test loss: 5.067586971563287e-05\n",
            "Epoch: 2410 | Loss: 4.9667061830405146e-05 | Test loss: 5.067586971563287e-05\n",
            "Epoch: 2420 | Loss: 4.9667061830405146e-05 | Test loss: 5.067586971563287e-05\n",
            "Epoch: 2430 | Loss: 4.9667061830405146e-05 | Test loss: 5.067586971563287e-05\n",
            "Epoch: 2440 | Loss: 4.9667061830405146e-05 | Test loss: 5.067586971563287e-05\n",
            "Epoch: 2450 | Loss: 4.9667061830405146e-05 | Test loss: 5.067586971563287e-05\n",
            "Epoch: 2460 | Loss: 4.9667061830405146e-05 | Test loss: 5.067586971563287e-05\n",
            "Epoch: 2470 | Loss: 4.9667061830405146e-05 | Test loss: 5.067586971563287e-05\n",
            "Epoch: 2480 | Loss: 4.9667061830405146e-05 | Test loss: 5.067586971563287e-05\n",
            "Epoch: 2490 | Loss: 4.9667061830405146e-05 | Test loss: 5.067586971563287e-05\n",
            "Epoch: 2500 | Loss: 4.9667061830405146e-05 | Test loss: 5.067586971563287e-05\n",
            "Epoch: 2510 | Loss: 4.9667061830405146e-05 | Test loss: 5.067586971563287e-05\n",
            "Epoch: 2520 | Loss: 4.9667061830405146e-05 | Test loss: 5.067586971563287e-05\n",
            "Epoch: 2530 | Loss: 4.9667061830405146e-05 | Test loss: 5.067586971563287e-05\n",
            "Epoch: 2540 | Loss: 4.9667061830405146e-05 | Test loss: 5.067586971563287e-05\n",
            "Epoch: 2550 | Loss: 4.9667061830405146e-05 | Test loss: 5.067586971563287e-05\n",
            "Epoch: 2560 | Loss: 4.9667061830405146e-05 | Test loss: 5.067586971563287e-05\n",
            "Epoch: 2570 | Loss: 4.9667061830405146e-05 | Test loss: 5.067586971563287e-05\n",
            "Epoch: 2580 | Loss: 4.9667061830405146e-05 | Test loss: 5.067586971563287e-05\n",
            "Epoch: 2590 | Loss: 4.9667061830405146e-05 | Test loss: 5.067586971563287e-05\n",
            "Epoch: 2600 | Loss: 4.9667061830405146e-05 | Test loss: 5.067586971563287e-05\n",
            "Epoch: 2610 | Loss: 4.9667061830405146e-05 | Test loss: 5.067586971563287e-05\n",
            "Epoch: 2620 | Loss: 4.9667061830405146e-05 | Test loss: 5.067586971563287e-05\n",
            "Epoch: 2630 | Loss: 4.9667061830405146e-05 | Test loss: 5.067586971563287e-05\n",
            "Epoch: 2640 | Loss: 4.9667061830405146e-05 | Test loss: 5.067586971563287e-05\n",
            "Epoch: 2650 | Loss: 4.9667061830405146e-05 | Test loss: 5.067586971563287e-05\n",
            "Epoch: 2660 | Loss: 4.9667061830405146e-05 | Test loss: 5.067586971563287e-05\n",
            "Epoch: 2670 | Loss: 4.9667061830405146e-05 | Test loss: 5.067586971563287e-05\n",
            "Epoch: 2680 | Loss: 4.9667061830405146e-05 | Test loss: 5.067586971563287e-05\n",
            "Epoch: 2690 | Loss: 4.9667061830405146e-05 | Test loss: 5.067586971563287e-05\n",
            "Epoch: 2700 | Loss: 4.9667061830405146e-05 | Test loss: 5.067586971563287e-05\n",
            "Epoch: 2710 | Loss: 4.9667061830405146e-05 | Test loss: 5.067586971563287e-05\n",
            "Epoch: 2720 | Loss: 4.9667061830405146e-05 | Test loss: 5.067586971563287e-05\n",
            "Epoch: 2730 | Loss: 4.9667061830405146e-05 | Test loss: 5.067586971563287e-05\n",
            "Epoch: 2740 | Loss: 4.9667061830405146e-05 | Test loss: 5.067586971563287e-05\n",
            "Epoch: 2750 | Loss: 4.9667061830405146e-05 | Test loss: 5.067586971563287e-05\n",
            "Epoch: 2760 | Loss: 4.9667061830405146e-05 | Test loss: 5.067586971563287e-05\n",
            "Epoch: 2770 | Loss: 4.9667061830405146e-05 | Test loss: 5.067586971563287e-05\n",
            "Epoch: 2780 | Loss: 4.9667061830405146e-05 | Test loss: 5.067586971563287e-05\n",
            "Epoch: 2790 | Loss: 4.9667061830405146e-05 | Test loss: 5.067586971563287e-05\n",
            "Epoch: 2800 | Loss: 4.9667061830405146e-05 | Test loss: 5.067586971563287e-05\n",
            "Epoch: 2810 | Loss: 4.9667061830405146e-05 | Test loss: 5.067586971563287e-05\n",
            "Epoch: 2820 | Loss: 4.9667061830405146e-05 | Test loss: 5.067586971563287e-05\n",
            "Epoch: 2830 | Loss: 4.9667061830405146e-05 | Test loss: 5.067586971563287e-05\n",
            "Epoch: 2840 | Loss: 4.9667061830405146e-05 | Test loss: 5.067586971563287e-05\n",
            "Epoch: 2850 | Loss: 4.9667061830405146e-05 | Test loss: 5.067586971563287e-05\n",
            "Epoch: 2860 | Loss: 4.9667061830405146e-05 | Test loss: 5.067586971563287e-05\n",
            "Epoch: 2870 | Loss: 4.9667061830405146e-05 | Test loss: 5.067586971563287e-05\n",
            "Epoch: 2880 | Loss: 4.9667061830405146e-05 | Test loss: 5.067586971563287e-05\n",
            "Epoch: 2890 | Loss: 4.9667061830405146e-05 | Test loss: 5.067586971563287e-05\n",
            "Epoch: 2900 | Loss: 4.9667061830405146e-05 | Test loss: 5.067586971563287e-05\n",
            "Epoch: 2910 | Loss: 4.9667061830405146e-05 | Test loss: 5.067586971563287e-05\n",
            "Epoch: 2920 | Loss: 4.9667061830405146e-05 | Test loss: 5.067586971563287e-05\n",
            "Epoch: 2930 | Loss: 4.9667061830405146e-05 | Test loss: 5.067586971563287e-05\n",
            "Epoch: 2940 | Loss: 4.9667061830405146e-05 | Test loss: 5.067586971563287e-05\n",
            "Epoch: 2950 | Loss: 4.9667061830405146e-05 | Test loss: 5.067586971563287e-05\n",
            "Epoch: 2960 | Loss: 4.9667061830405146e-05 | Test loss: 5.067586971563287e-05\n",
            "Epoch: 2970 | Loss: 4.9667061830405146e-05 | Test loss: 5.067586971563287e-05\n",
            "Epoch: 2980 | Loss: 4.9667061830405146e-05 | Test loss: 5.067586971563287e-05\n",
            "Epoch: 2990 | Loss: 4.9667061830405146e-05 | Test loss: 5.067586971563287e-05\n",
            "Epoch: 3000 | Loss: 4.9667061830405146e-05 | Test loss: 5.067586971563287e-05\n",
            "Epoch: 3010 | Loss: 4.9667061830405146e-05 | Test loss: 5.067586971563287e-05\n",
            "Epoch: 3020 | Loss: 4.9667061830405146e-05 | Test loss: 5.067586971563287e-05\n",
            "Epoch: 3030 | Loss: 4.9667061830405146e-05 | Test loss: 5.067586971563287e-05\n",
            "Epoch: 3040 | Loss: 4.9667061830405146e-05 | Test loss: 5.067586971563287e-05\n",
            "Epoch: 3050 | Loss: 4.9667061830405146e-05 | Test loss: 5.067586971563287e-05\n",
            "Epoch: 3060 | Loss: 4.9667061830405146e-05 | Test loss: 5.067586971563287e-05\n",
            "Epoch: 3070 | Loss: 4.9667061830405146e-05 | Test loss: 5.067586971563287e-05\n",
            "Epoch: 3080 | Loss: 4.9667061830405146e-05 | Test loss: 5.067586971563287e-05\n",
            "Epoch: 3090 | Loss: 4.9667061830405146e-05 | Test loss: 5.067586971563287e-05\n",
            "Epoch: 3100 | Loss: 4.9667061830405146e-05 | Test loss: 5.067586971563287e-05\n",
            "Epoch: 3110 | Loss: 4.9667061830405146e-05 | Test loss: 5.067586971563287e-05\n",
            "Epoch: 3120 | Loss: 4.9667061830405146e-05 | Test loss: 5.067586971563287e-05\n",
            "Epoch: 3130 | Loss: 4.9667061830405146e-05 | Test loss: 5.067586971563287e-05\n",
            "Epoch: 3140 | Loss: 4.9667061830405146e-05 | Test loss: 5.067586971563287e-05\n",
            "Epoch: 3150 | Loss: 4.9667061830405146e-05 | Test loss: 5.067586971563287e-05\n",
            "Epoch: 3160 | Loss: 4.9667061830405146e-05 | Test loss: 5.067586971563287e-05\n",
            "Epoch: 3170 | Loss: 4.9667061830405146e-05 | Test loss: 5.067586971563287e-05\n",
            "Epoch: 3180 | Loss: 4.9667061830405146e-05 | Test loss: 5.067586971563287e-05\n",
            "Epoch: 3190 | Loss: 4.9667061830405146e-05 | Test loss: 5.067586971563287e-05\n",
            "Epoch: 3200 | Loss: 4.9667061830405146e-05 | Test loss: 5.067586971563287e-05\n",
            "Epoch: 3210 | Loss: 4.9667061830405146e-05 | Test loss: 5.067586971563287e-05\n",
            "Epoch: 3220 | Loss: 4.9667061830405146e-05 | Test loss: 5.067586971563287e-05\n",
            "Epoch: 3230 | Loss: 4.9667061830405146e-05 | Test loss: 5.067586971563287e-05\n",
            "Epoch: 3240 | Loss: 4.9667061830405146e-05 | Test loss: 5.067586971563287e-05\n",
            "Epoch: 3250 | Loss: 4.9667061830405146e-05 | Test loss: 5.067586971563287e-05\n",
            "Epoch: 3260 | Loss: 4.9667061830405146e-05 | Test loss: 5.067586971563287e-05\n",
            "Epoch: 3270 | Loss: 4.9667061830405146e-05 | Test loss: 5.067586971563287e-05\n",
            "Epoch: 3280 | Loss: 4.9667061830405146e-05 | Test loss: 5.067586971563287e-05\n",
            "Epoch: 3290 | Loss: 4.9667061830405146e-05 | Test loss: 5.067586971563287e-05\n",
            "Epoch: 3300 | Loss: 4.9667061830405146e-05 | Test loss: 5.067586971563287e-05\n",
            "Epoch: 3310 | Loss: 4.9667061830405146e-05 | Test loss: 5.067586971563287e-05\n",
            "Epoch: 3320 | Loss: 4.9667061830405146e-05 | Test loss: 5.067586971563287e-05\n",
            "Epoch: 3330 | Loss: 4.9667061830405146e-05 | Test loss: 5.067586971563287e-05\n",
            "Epoch: 3340 | Loss: 4.9667061830405146e-05 | Test loss: 5.067586971563287e-05\n",
            "Epoch: 3350 | Loss: 4.9667061830405146e-05 | Test loss: 5.067586971563287e-05\n",
            "Epoch: 3360 | Loss: 4.9667061830405146e-05 | Test loss: 5.067586971563287e-05\n",
            "Epoch: 3370 | Loss: 4.9667061830405146e-05 | Test loss: 5.067586971563287e-05\n",
            "Epoch: 3380 | Loss: 4.9667061830405146e-05 | Test loss: 5.067586971563287e-05\n",
            "Epoch: 3390 | Loss: 4.9667061830405146e-05 | Test loss: 5.067586971563287e-05\n",
            "Epoch: 3400 | Loss: 4.9667061830405146e-05 | Test loss: 5.067586971563287e-05\n",
            "Epoch: 3410 | Loss: 4.9667061830405146e-05 | Test loss: 5.067586971563287e-05\n",
            "Epoch: 3420 | Loss: 4.9667061830405146e-05 | Test loss: 5.067586971563287e-05\n",
            "Epoch: 3430 | Loss: 4.9667061830405146e-05 | Test loss: 5.067586971563287e-05\n",
            "Epoch: 3440 | Loss: 4.9667061830405146e-05 | Test loss: 5.067586971563287e-05\n",
            "Epoch: 3450 | Loss: 4.9667061830405146e-05 | Test loss: 5.067586971563287e-05\n",
            "Epoch: 3460 | Loss: 4.9667061830405146e-05 | Test loss: 5.067586971563287e-05\n",
            "Epoch: 3470 | Loss: 4.9667061830405146e-05 | Test loss: 5.067586971563287e-05\n",
            "Epoch: 3480 | Loss: 4.9667061830405146e-05 | Test loss: 5.067586971563287e-05\n",
            "Epoch: 3490 | Loss: 4.9667061830405146e-05 | Test loss: 5.067586971563287e-05\n",
            "Epoch: 3500 | Loss: 4.9667061830405146e-05 | Test loss: 5.067586971563287e-05\n",
            "Epoch: 3510 | Loss: 4.9667061830405146e-05 | Test loss: 5.067586971563287e-05\n",
            "Epoch: 3520 | Loss: 4.9667061830405146e-05 | Test loss: 5.067586971563287e-05\n",
            "Epoch: 3530 | Loss: 4.9667061830405146e-05 | Test loss: 5.067586971563287e-05\n",
            "Epoch: 3540 | Loss: 4.9667061830405146e-05 | Test loss: 5.067586971563287e-05\n",
            "Epoch: 3550 | Loss: 4.9667061830405146e-05 | Test loss: 5.067586971563287e-05\n",
            "Epoch: 3560 | Loss: 4.9667061830405146e-05 | Test loss: 5.067586971563287e-05\n",
            "Epoch: 3570 | Loss: 4.9667061830405146e-05 | Test loss: 5.067586971563287e-05\n",
            "Epoch: 3580 | Loss: 4.9667061830405146e-05 | Test loss: 5.067586971563287e-05\n",
            "Epoch: 3590 | Loss: 4.9667061830405146e-05 | Test loss: 5.067586971563287e-05\n",
            "Epoch: 3600 | Loss: 4.9667061830405146e-05 | Test loss: 5.067586971563287e-05\n",
            "Epoch: 3610 | Loss: 4.9667061830405146e-05 | Test loss: 5.067586971563287e-05\n",
            "Epoch: 3620 | Loss: 4.9667061830405146e-05 | Test loss: 5.067586971563287e-05\n",
            "Epoch: 3630 | Loss: 4.9667061830405146e-05 | Test loss: 5.067586971563287e-05\n",
            "Epoch: 3640 | Loss: 4.9667061830405146e-05 | Test loss: 5.067586971563287e-05\n",
            "Epoch: 3650 | Loss: 4.9667061830405146e-05 | Test loss: 5.067586971563287e-05\n",
            "Epoch: 3660 | Loss: 4.9667061830405146e-05 | Test loss: 5.067586971563287e-05\n",
            "Epoch: 3670 | Loss: 4.9667061830405146e-05 | Test loss: 5.067586971563287e-05\n",
            "Epoch: 3680 | Loss: 4.9667061830405146e-05 | Test loss: 5.067586971563287e-05\n",
            "Epoch: 3690 | Loss: 4.9667061830405146e-05 | Test loss: 5.067586971563287e-05\n",
            "Epoch: 3700 | Loss: 4.9667061830405146e-05 | Test loss: 5.067586971563287e-05\n",
            "Epoch: 3710 | Loss: 4.9667061830405146e-05 | Test loss: 5.067586971563287e-05\n",
            "Epoch: 3720 | Loss: 4.9667061830405146e-05 | Test loss: 5.067586971563287e-05\n",
            "Epoch: 3730 | Loss: 4.9667061830405146e-05 | Test loss: 5.067586971563287e-05\n",
            "Epoch: 3740 | Loss: 4.9667061830405146e-05 | Test loss: 5.067586971563287e-05\n",
            "Epoch: 3750 | Loss: 4.9667061830405146e-05 | Test loss: 5.067586971563287e-05\n",
            "Epoch: 3760 | Loss: 4.9667061830405146e-05 | Test loss: 5.067586971563287e-05\n",
            "Epoch: 3770 | Loss: 4.9667061830405146e-05 | Test loss: 5.067586971563287e-05\n",
            "Epoch: 3780 | Loss: 4.9667061830405146e-05 | Test loss: 5.067586971563287e-05\n",
            "Epoch: 3790 | Loss: 4.9667061830405146e-05 | Test loss: 5.067586971563287e-05\n",
            "Epoch: 3800 | Loss: 4.9667061830405146e-05 | Test loss: 5.067586971563287e-05\n",
            "Epoch: 3810 | Loss: 4.9667061830405146e-05 | Test loss: 5.067586971563287e-05\n",
            "Epoch: 3820 | Loss: 4.9667061830405146e-05 | Test loss: 5.067586971563287e-05\n",
            "Epoch: 3830 | Loss: 4.9667061830405146e-05 | Test loss: 5.067586971563287e-05\n",
            "Epoch: 3840 | Loss: 4.9667061830405146e-05 | Test loss: 5.067586971563287e-05\n",
            "Epoch: 3850 | Loss: 4.9667061830405146e-05 | Test loss: 5.067586971563287e-05\n",
            "Epoch: 3860 | Loss: 4.9667061830405146e-05 | Test loss: 5.067586971563287e-05\n",
            "Epoch: 3870 | Loss: 4.9667061830405146e-05 | Test loss: 5.067586971563287e-05\n",
            "Epoch: 3880 | Loss: 4.9667061830405146e-05 | Test loss: 5.067586971563287e-05\n",
            "Epoch: 3890 | Loss: 4.9667061830405146e-05 | Test loss: 5.067586971563287e-05\n",
            "Epoch: 3900 | Loss: 4.9667061830405146e-05 | Test loss: 5.067586971563287e-05\n",
            "Epoch: 3910 | Loss: 4.9667061830405146e-05 | Test loss: 5.067586971563287e-05\n",
            "Epoch: 3920 | Loss: 4.9667061830405146e-05 | Test loss: 5.067586971563287e-05\n",
            "Epoch: 3930 | Loss: 4.9667061830405146e-05 | Test loss: 5.067586971563287e-05\n",
            "Epoch: 3940 | Loss: 4.9667061830405146e-05 | Test loss: 5.067586971563287e-05\n",
            "Epoch: 3950 | Loss: 4.9667061830405146e-05 | Test loss: 5.067586971563287e-05\n",
            "Epoch: 3960 | Loss: 4.9667061830405146e-05 | Test loss: 5.067586971563287e-05\n",
            "Epoch: 3970 | Loss: 4.9667061830405146e-05 | Test loss: 5.067586971563287e-05\n",
            "Epoch: 3980 | Loss: 4.9667061830405146e-05 | Test loss: 5.067586971563287e-05\n",
            "Epoch: 3990 | Loss: 4.9667061830405146e-05 | Test loss: 5.067586971563287e-05\n",
            "Epoch: 4000 | Loss: 4.9667061830405146e-05 | Test loss: 5.067586971563287e-05\n",
            "Epoch: 4010 | Loss: 4.9667061830405146e-05 | Test loss: 5.067586971563287e-05\n",
            "Epoch: 4020 | Loss: 4.9667061830405146e-05 | Test loss: 5.067586971563287e-05\n",
            "Epoch: 4030 | Loss: 4.9667061830405146e-05 | Test loss: 5.067586971563287e-05\n",
            "Epoch: 4040 | Loss: 4.9667061830405146e-05 | Test loss: 5.067586971563287e-05\n",
            "Epoch: 4050 | Loss: 4.9667061830405146e-05 | Test loss: 5.067586971563287e-05\n",
            "Epoch: 4060 | Loss: 4.9667061830405146e-05 | Test loss: 5.067586971563287e-05\n",
            "Epoch: 4070 | Loss: 4.9667061830405146e-05 | Test loss: 5.067586971563287e-05\n",
            "Epoch: 4080 | Loss: 4.9667061830405146e-05 | Test loss: 5.067586971563287e-05\n",
            "Epoch: 4090 | Loss: 4.9667061830405146e-05 | Test loss: 5.067586971563287e-05\n",
            "Epoch: 4100 | Loss: 4.9667061830405146e-05 | Test loss: 5.067586971563287e-05\n",
            "Epoch: 4110 | Loss: 4.9667061830405146e-05 | Test loss: 5.067586971563287e-05\n",
            "Epoch: 4120 | Loss: 4.9667061830405146e-05 | Test loss: 5.067586971563287e-05\n",
            "Epoch: 4130 | Loss: 4.9667061830405146e-05 | Test loss: 5.067586971563287e-05\n",
            "Epoch: 4140 | Loss: 4.9667061830405146e-05 | Test loss: 5.067586971563287e-05\n",
            "Epoch: 4150 | Loss: 4.9667061830405146e-05 | Test loss: 5.067586971563287e-05\n",
            "Epoch: 4160 | Loss: 4.9667061830405146e-05 | Test loss: 5.067586971563287e-05\n",
            "Epoch: 4170 | Loss: 4.9667061830405146e-05 | Test loss: 5.067586971563287e-05\n",
            "Epoch: 4180 | Loss: 4.9667061830405146e-05 | Test loss: 5.067586971563287e-05\n",
            "Epoch: 4190 | Loss: 4.9667061830405146e-05 | Test loss: 5.067586971563287e-05\n",
            "Epoch: 4200 | Loss: 4.9667061830405146e-05 | Test loss: 5.067586971563287e-05\n",
            "Epoch: 4210 | Loss: 4.9667061830405146e-05 | Test loss: 5.067586971563287e-05\n",
            "Epoch: 4220 | Loss: 4.9667061830405146e-05 | Test loss: 5.067586971563287e-05\n",
            "Epoch: 4230 | Loss: 4.9667061830405146e-05 | Test loss: 5.067586971563287e-05\n",
            "Epoch: 4240 | Loss: 4.9667061830405146e-05 | Test loss: 5.067586971563287e-05\n",
            "Epoch: 4250 | Loss: 4.9667061830405146e-05 | Test loss: 5.067586971563287e-05\n",
            "Epoch: 4260 | Loss: 4.9667061830405146e-05 | Test loss: 5.067586971563287e-05\n",
            "Epoch: 4270 | Loss: 4.9667061830405146e-05 | Test loss: 5.067586971563287e-05\n",
            "Epoch: 4280 | Loss: 4.9667061830405146e-05 | Test loss: 5.067586971563287e-05\n",
            "Epoch: 4290 | Loss: 4.9667061830405146e-05 | Test loss: 5.067586971563287e-05\n",
            "Epoch: 4300 | Loss: 4.9667061830405146e-05 | Test loss: 5.067586971563287e-05\n",
            "Epoch: 4310 | Loss: 4.9667061830405146e-05 | Test loss: 5.067586971563287e-05\n",
            "Epoch: 4320 | Loss: 4.9667061830405146e-05 | Test loss: 5.067586971563287e-05\n",
            "Epoch: 4330 | Loss: 4.9667061830405146e-05 | Test loss: 5.067586971563287e-05\n",
            "Epoch: 4340 | Loss: 4.9667061830405146e-05 | Test loss: 5.067586971563287e-05\n",
            "Epoch: 4350 | Loss: 4.9667061830405146e-05 | Test loss: 5.067586971563287e-05\n",
            "Epoch: 4360 | Loss: 4.9667061830405146e-05 | Test loss: 5.067586971563287e-05\n",
            "Epoch: 4370 | Loss: 4.9667061830405146e-05 | Test loss: 5.067586971563287e-05\n",
            "Epoch: 4380 | Loss: 4.9667061830405146e-05 | Test loss: 5.067586971563287e-05\n",
            "Epoch: 4390 | Loss: 4.9667061830405146e-05 | Test loss: 5.067586971563287e-05\n",
            "Epoch: 4400 | Loss: 4.9667061830405146e-05 | Test loss: 5.067586971563287e-05\n",
            "Epoch: 4410 | Loss: 4.9667061830405146e-05 | Test loss: 5.067586971563287e-05\n",
            "Epoch: 4420 | Loss: 4.9667061830405146e-05 | Test loss: 5.067586971563287e-05\n",
            "Epoch: 4430 | Loss: 4.9667061830405146e-05 | Test loss: 5.067586971563287e-05\n",
            "Epoch: 4440 | Loss: 4.9667061830405146e-05 | Test loss: 5.067586971563287e-05\n",
            "Epoch: 4450 | Loss: 4.9667061830405146e-05 | Test loss: 5.067586971563287e-05\n",
            "Epoch: 4460 | Loss: 4.9667061830405146e-05 | Test loss: 5.067586971563287e-05\n",
            "Epoch: 4470 | Loss: 4.9667061830405146e-05 | Test loss: 5.067586971563287e-05\n",
            "Epoch: 4480 | Loss: 4.9667061830405146e-05 | Test loss: 5.067586971563287e-05\n",
            "Epoch: 4490 | Loss: 4.9667061830405146e-05 | Test loss: 5.067586971563287e-05\n",
            "Epoch: 4500 | Loss: 4.9667061830405146e-05 | Test loss: 5.067586971563287e-05\n",
            "Epoch: 4510 | Loss: 4.9667061830405146e-05 | Test loss: 5.067586971563287e-05\n",
            "Epoch: 4520 | Loss: 4.9667061830405146e-05 | Test loss: 5.067586971563287e-05\n",
            "Epoch: 4530 | Loss: 4.9667061830405146e-05 | Test loss: 5.067586971563287e-05\n",
            "Epoch: 4540 | Loss: 4.9667061830405146e-05 | Test loss: 5.067586971563287e-05\n",
            "Epoch: 4550 | Loss: 4.9667061830405146e-05 | Test loss: 5.067586971563287e-05\n",
            "Epoch: 4560 | Loss: 4.9667061830405146e-05 | Test loss: 5.067586971563287e-05\n",
            "Epoch: 4570 | Loss: 4.9667061830405146e-05 | Test loss: 5.067586971563287e-05\n",
            "Epoch: 4580 | Loss: 4.9667061830405146e-05 | Test loss: 5.067586971563287e-05\n",
            "Epoch: 4590 | Loss: 4.9667061830405146e-05 | Test loss: 5.067586971563287e-05\n",
            "Epoch: 4600 | Loss: 4.9667061830405146e-05 | Test loss: 5.067586971563287e-05\n",
            "Epoch: 4610 | Loss: 4.9667061830405146e-05 | Test loss: 5.067586971563287e-05\n",
            "Epoch: 4620 | Loss: 4.9667061830405146e-05 | Test loss: 5.067586971563287e-05\n",
            "Epoch: 4630 | Loss: 4.9667061830405146e-05 | Test loss: 5.067586971563287e-05\n",
            "Epoch: 4640 | Loss: 4.9667061830405146e-05 | Test loss: 5.067586971563287e-05\n",
            "Epoch: 4650 | Loss: 4.9667061830405146e-05 | Test loss: 5.067586971563287e-05\n",
            "Epoch: 4660 | Loss: 4.9667061830405146e-05 | Test loss: 5.067586971563287e-05\n",
            "Epoch: 4670 | Loss: 4.9667061830405146e-05 | Test loss: 5.067586971563287e-05\n",
            "Epoch: 4680 | Loss: 4.9667061830405146e-05 | Test loss: 5.067586971563287e-05\n",
            "Epoch: 4690 | Loss: 4.9667061830405146e-05 | Test loss: 5.067586971563287e-05\n",
            "Epoch: 4700 | Loss: 4.9667061830405146e-05 | Test loss: 5.067586971563287e-05\n",
            "Epoch: 4710 | Loss: 4.9667061830405146e-05 | Test loss: 5.067586971563287e-05\n",
            "Epoch: 4720 | Loss: 4.9667061830405146e-05 | Test loss: 5.067586971563287e-05\n",
            "Epoch: 4730 | Loss: 4.9667061830405146e-05 | Test loss: 5.067586971563287e-05\n",
            "Epoch: 4740 | Loss: 4.9667061830405146e-05 | Test loss: 5.067586971563287e-05\n",
            "Epoch: 4750 | Loss: 4.9667061830405146e-05 | Test loss: 5.067586971563287e-05\n",
            "Epoch: 4760 | Loss: 4.9667061830405146e-05 | Test loss: 5.067586971563287e-05\n",
            "Epoch: 4770 | Loss: 4.9667061830405146e-05 | Test loss: 5.067586971563287e-05\n",
            "Epoch: 4780 | Loss: 4.9667061830405146e-05 | Test loss: 5.067586971563287e-05\n",
            "Epoch: 4790 | Loss: 4.9667061830405146e-05 | Test loss: 5.067586971563287e-05\n",
            "Epoch: 4800 | Loss: 4.9667061830405146e-05 | Test loss: 5.067586971563287e-05\n",
            "Epoch: 4810 | Loss: 4.9667061830405146e-05 | Test loss: 5.067586971563287e-05\n",
            "Epoch: 4820 | Loss: 4.9667061830405146e-05 | Test loss: 5.067586971563287e-05\n",
            "Epoch: 4830 | Loss: 4.9667061830405146e-05 | Test loss: 5.067586971563287e-05\n",
            "Epoch: 4840 | Loss: 4.9667061830405146e-05 | Test loss: 5.067586971563287e-05\n",
            "Epoch: 4850 | Loss: 4.9667061830405146e-05 | Test loss: 5.067586971563287e-05\n",
            "Epoch: 4860 | Loss: 4.9667061830405146e-05 | Test loss: 5.067586971563287e-05\n",
            "Epoch: 4870 | Loss: 4.9667061830405146e-05 | Test loss: 5.067586971563287e-05\n",
            "Epoch: 4880 | Loss: 4.9667061830405146e-05 | Test loss: 5.067586971563287e-05\n",
            "Epoch: 4890 | Loss: 4.9667061830405146e-05 | Test loss: 5.067586971563287e-05\n",
            "Epoch: 4900 | Loss: 4.9667061830405146e-05 | Test loss: 5.067586971563287e-05\n",
            "Epoch: 4910 | Loss: 4.9667061830405146e-05 | Test loss: 5.067586971563287e-05\n",
            "Epoch: 4920 | Loss: 4.9667061830405146e-05 | Test loss: 5.067586971563287e-05\n",
            "Epoch: 4930 | Loss: 4.9667061830405146e-05 | Test loss: 5.067586971563287e-05\n",
            "Epoch: 4940 | Loss: 4.9667061830405146e-05 | Test loss: 5.067586971563287e-05\n",
            "Epoch: 4950 | Loss: 4.9667061830405146e-05 | Test loss: 5.067586971563287e-05\n",
            "Epoch: 4960 | Loss: 4.9667061830405146e-05 | Test loss: 5.067586971563287e-05\n",
            "Epoch: 4970 | Loss: 4.9667061830405146e-05 | Test loss: 5.067586971563287e-05\n",
            "Epoch: 4980 | Loss: 4.9667061830405146e-05 | Test loss: 5.067586971563287e-05\n",
            "Epoch: 4990 | Loss: 4.9667061830405146e-05 | Test loss: 5.067586971563287e-05\n",
            "Epoch: 5000 | Loss: 4.9667061830405146e-05 | Test loss: 5.067586971563287e-05\n",
            "Epoch: 5010 | Loss: 4.9667061830405146e-05 | Test loss: 5.067586971563287e-05\n",
            "Epoch: 5020 | Loss: 4.9667061830405146e-05 | Test loss: 5.067586971563287e-05\n",
            "Epoch: 5030 | Loss: 4.9667061830405146e-05 | Test loss: 5.067586971563287e-05\n",
            "Epoch: 5040 | Loss: 4.9667061830405146e-05 | Test loss: 5.067586971563287e-05\n",
            "Epoch: 5050 | Loss: 4.9667061830405146e-05 | Test loss: 5.067586971563287e-05\n",
            "Epoch: 5060 | Loss: 4.9667061830405146e-05 | Test loss: 5.067586971563287e-05\n",
            "Epoch: 5070 | Loss: 4.9667061830405146e-05 | Test loss: 5.067586971563287e-05\n",
            "Epoch: 5080 | Loss: 4.9667061830405146e-05 | Test loss: 5.067586971563287e-05\n",
            "Epoch: 5090 | Loss: 4.9667061830405146e-05 | Test loss: 5.067586971563287e-05\n",
            "Epoch: 5100 | Loss: 4.9667061830405146e-05 | Test loss: 5.067586971563287e-05\n",
            "Epoch: 5110 | Loss: 4.9667061830405146e-05 | Test loss: 5.067586971563287e-05\n",
            "Epoch: 5120 | Loss: 4.9667061830405146e-05 | Test loss: 5.067586971563287e-05\n",
            "Epoch: 5130 | Loss: 4.9667061830405146e-05 | Test loss: 5.067586971563287e-05\n",
            "Epoch: 5140 | Loss: 4.9667061830405146e-05 | Test loss: 5.067586971563287e-05\n",
            "Epoch: 5150 | Loss: 4.9667061830405146e-05 | Test loss: 5.067586971563287e-05\n",
            "Epoch: 5160 | Loss: 4.9667061830405146e-05 | Test loss: 5.067586971563287e-05\n",
            "Epoch: 5170 | Loss: 4.9667061830405146e-05 | Test loss: 5.067586971563287e-05\n",
            "Epoch: 5180 | Loss: 4.9667061830405146e-05 | Test loss: 5.067586971563287e-05\n",
            "Epoch: 5190 | Loss: 4.9667061830405146e-05 | Test loss: 5.067586971563287e-05\n",
            "Epoch: 5200 | Loss: 4.9667061830405146e-05 | Test loss: 5.067586971563287e-05\n",
            "Epoch: 5210 | Loss: 4.9667061830405146e-05 | Test loss: 5.067586971563287e-05\n",
            "Epoch: 5220 | Loss: 4.9667061830405146e-05 | Test loss: 5.067586971563287e-05\n",
            "Epoch: 5230 | Loss: 4.9667061830405146e-05 | Test loss: 5.067586971563287e-05\n",
            "Epoch: 5240 | Loss: 4.9667061830405146e-05 | Test loss: 5.067586971563287e-05\n",
            "Epoch: 5250 | Loss: 4.9667061830405146e-05 | Test loss: 5.067586971563287e-05\n",
            "Epoch: 5260 | Loss: 4.9667061830405146e-05 | Test loss: 5.067586971563287e-05\n",
            "Epoch: 5270 | Loss: 4.9667061830405146e-05 | Test loss: 5.067586971563287e-05\n",
            "Epoch: 5280 | Loss: 4.9667061830405146e-05 | Test loss: 5.067586971563287e-05\n",
            "Epoch: 5290 | Loss: 4.9667061830405146e-05 | Test loss: 5.067586971563287e-05\n",
            "Epoch: 5300 | Loss: 4.9667061830405146e-05 | Test loss: 5.067586971563287e-05\n",
            "Epoch: 5310 | Loss: 4.9667061830405146e-05 | Test loss: 5.067586971563287e-05\n",
            "Epoch: 5320 | Loss: 4.9667061830405146e-05 | Test loss: 5.067586971563287e-05\n",
            "Epoch: 5330 | Loss: 4.9667061830405146e-05 | Test loss: 5.067586971563287e-05\n",
            "Epoch: 5340 | Loss: 4.9667061830405146e-05 | Test loss: 5.067586971563287e-05\n",
            "Epoch: 5350 | Loss: 4.9667061830405146e-05 | Test loss: 5.067586971563287e-05\n",
            "Epoch: 5360 | Loss: 4.9667061830405146e-05 | Test loss: 5.067586971563287e-05\n",
            "Epoch: 5370 | Loss: 4.9667061830405146e-05 | Test loss: 5.067586971563287e-05\n",
            "Epoch: 5380 | Loss: 4.9667061830405146e-05 | Test loss: 5.067586971563287e-05\n",
            "Epoch: 5390 | Loss: 4.9667061830405146e-05 | Test loss: 5.067586971563287e-05\n",
            "Epoch: 5400 | Loss: 4.9667061830405146e-05 | Test loss: 5.067586971563287e-05\n",
            "Epoch: 5410 | Loss: 4.9667061830405146e-05 | Test loss: 5.067586971563287e-05\n",
            "Epoch: 5420 | Loss: 4.9667061830405146e-05 | Test loss: 5.067586971563287e-05\n",
            "Epoch: 5430 | Loss: 4.9667061830405146e-05 | Test loss: 5.067586971563287e-05\n",
            "Epoch: 5440 | Loss: 4.9667061830405146e-05 | Test loss: 5.067586971563287e-05\n",
            "Epoch: 5450 | Loss: 4.9667061830405146e-05 | Test loss: 5.067586971563287e-05\n",
            "Epoch: 5460 | Loss: 4.9667061830405146e-05 | Test loss: 5.067586971563287e-05\n",
            "Epoch: 5470 | Loss: 4.9667061830405146e-05 | Test loss: 5.067586971563287e-05\n",
            "Epoch: 5480 | Loss: 4.9667061830405146e-05 | Test loss: 5.067586971563287e-05\n",
            "Epoch: 5490 | Loss: 4.9667061830405146e-05 | Test loss: 5.067586971563287e-05\n",
            "Epoch: 5500 | Loss: 4.9667061830405146e-05 | Test loss: 5.067586971563287e-05\n",
            "Epoch: 5510 | Loss: 4.9667061830405146e-05 | Test loss: 5.067586971563287e-05\n",
            "Epoch: 5520 | Loss: 4.9667061830405146e-05 | Test loss: 5.067586971563287e-05\n",
            "Epoch: 5530 | Loss: 4.9667061830405146e-05 | Test loss: 5.067586971563287e-05\n",
            "Epoch: 5540 | Loss: 4.9667061830405146e-05 | Test loss: 5.067586971563287e-05\n",
            "Epoch: 5550 | Loss: 4.9667061830405146e-05 | Test loss: 5.067586971563287e-05\n",
            "Epoch: 5560 | Loss: 4.9667061830405146e-05 | Test loss: 5.067586971563287e-05\n",
            "Epoch: 5570 | Loss: 4.9667061830405146e-05 | Test loss: 5.067586971563287e-05\n",
            "Epoch: 5580 | Loss: 4.9667061830405146e-05 | Test loss: 5.067586971563287e-05\n",
            "Epoch: 5590 | Loss: 4.9667061830405146e-05 | Test loss: 5.067586971563287e-05\n",
            "Epoch: 5600 | Loss: 4.9667061830405146e-05 | Test loss: 5.067586971563287e-05\n",
            "Epoch: 5610 | Loss: 4.9667061830405146e-05 | Test loss: 5.067586971563287e-05\n",
            "Epoch: 5620 | Loss: 4.9667061830405146e-05 | Test loss: 5.067586971563287e-05\n",
            "Epoch: 5630 | Loss: 4.9667061830405146e-05 | Test loss: 5.067586971563287e-05\n",
            "Epoch: 5640 | Loss: 4.9667061830405146e-05 | Test loss: 5.067586971563287e-05\n",
            "Epoch: 5650 | Loss: 4.9667061830405146e-05 | Test loss: 5.067586971563287e-05\n",
            "Epoch: 5660 | Loss: 4.9667061830405146e-05 | Test loss: 5.067586971563287e-05\n",
            "Epoch: 5670 | Loss: 4.9667061830405146e-05 | Test loss: 5.067586971563287e-05\n",
            "Epoch: 5680 | Loss: 4.9667061830405146e-05 | Test loss: 5.067586971563287e-05\n",
            "Epoch: 5690 | Loss: 4.9667061830405146e-05 | Test loss: 5.067586971563287e-05\n",
            "Epoch: 5700 | Loss: 4.9667061830405146e-05 | Test loss: 5.067586971563287e-05\n",
            "Epoch: 5710 | Loss: 4.9667061830405146e-05 | Test loss: 5.067586971563287e-05\n",
            "Epoch: 5720 | Loss: 4.9667061830405146e-05 | Test loss: 5.067586971563287e-05\n",
            "Epoch: 5730 | Loss: 4.9667061830405146e-05 | Test loss: 5.067586971563287e-05\n",
            "Epoch: 5740 | Loss: 4.9667061830405146e-05 | Test loss: 5.067586971563287e-05\n",
            "Epoch: 5750 | Loss: 4.9667061830405146e-05 | Test loss: 5.067586971563287e-05\n",
            "Epoch: 5760 | Loss: 4.9667061830405146e-05 | Test loss: 5.067586971563287e-05\n",
            "Epoch: 5770 | Loss: 4.9667061830405146e-05 | Test loss: 5.067586971563287e-05\n",
            "Epoch: 5780 | Loss: 4.9667061830405146e-05 | Test loss: 5.067586971563287e-05\n",
            "Epoch: 5790 | Loss: 4.9667061830405146e-05 | Test loss: 5.067586971563287e-05\n",
            "Epoch: 5800 | Loss: 4.9667061830405146e-05 | Test loss: 5.067586971563287e-05\n",
            "Epoch: 5810 | Loss: 4.9667061830405146e-05 | Test loss: 5.067586971563287e-05\n",
            "Epoch: 5820 | Loss: 4.9667061830405146e-05 | Test loss: 5.067586971563287e-05\n",
            "Epoch: 5830 | Loss: 4.9667061830405146e-05 | Test loss: 5.067586971563287e-05\n",
            "Epoch: 5840 | Loss: 4.9667061830405146e-05 | Test loss: 5.067586971563287e-05\n",
            "Epoch: 5850 | Loss: 4.9667061830405146e-05 | Test loss: 5.067586971563287e-05\n",
            "Epoch: 5860 | Loss: 4.9667061830405146e-05 | Test loss: 5.067586971563287e-05\n",
            "Epoch: 5870 | Loss: 4.9667061830405146e-05 | Test loss: 5.067586971563287e-05\n",
            "Epoch: 5880 | Loss: 4.9667061830405146e-05 | Test loss: 5.067586971563287e-05\n",
            "Epoch: 5890 | Loss: 4.9667061830405146e-05 | Test loss: 5.067586971563287e-05\n",
            "Epoch: 5900 | Loss: 4.9667061830405146e-05 | Test loss: 5.067586971563287e-05\n",
            "Epoch: 5910 | Loss: 4.9667061830405146e-05 | Test loss: 5.067586971563287e-05\n",
            "Epoch: 5920 | Loss: 4.9667061830405146e-05 | Test loss: 5.067586971563287e-05\n",
            "Epoch: 5930 | Loss: 4.9667061830405146e-05 | Test loss: 5.067586971563287e-05\n",
            "Epoch: 5940 | Loss: 4.9667061830405146e-05 | Test loss: 5.067586971563287e-05\n",
            "Epoch: 5950 | Loss: 4.9667061830405146e-05 | Test loss: 5.067586971563287e-05\n",
            "Epoch: 5960 | Loss: 4.9667061830405146e-05 | Test loss: 5.067586971563287e-05\n",
            "Epoch: 5970 | Loss: 4.9667061830405146e-05 | Test loss: 5.067586971563287e-05\n",
            "Epoch: 5980 | Loss: 4.9667061830405146e-05 | Test loss: 5.067586971563287e-05\n",
            "Epoch: 5990 | Loss: 4.9667061830405146e-05 | Test loss: 5.067586971563287e-05\n",
            "Epoch: 6000 | Loss: 4.9667061830405146e-05 | Test loss: 5.067586971563287e-05\n",
            "Epoch: 6010 | Loss: 4.9667061830405146e-05 | Test loss: 5.067586971563287e-05\n",
            "Epoch: 6020 | Loss: 4.9667061830405146e-05 | Test loss: 5.067586971563287e-05\n",
            "Epoch: 6030 | Loss: 4.9667061830405146e-05 | Test loss: 5.067586971563287e-05\n",
            "Epoch: 6040 | Loss: 4.9667061830405146e-05 | Test loss: 5.067586971563287e-05\n",
            "Epoch: 6050 | Loss: 4.9667061830405146e-05 | Test loss: 5.067586971563287e-05\n",
            "Epoch: 6060 | Loss: 4.9667061830405146e-05 | Test loss: 5.067586971563287e-05\n",
            "Epoch: 6070 | Loss: 4.9667061830405146e-05 | Test loss: 5.067586971563287e-05\n",
            "Epoch: 6080 | Loss: 4.9667061830405146e-05 | Test loss: 5.067586971563287e-05\n",
            "Epoch: 6090 | Loss: 4.9667061830405146e-05 | Test loss: 5.067586971563287e-05\n",
            "Epoch: 6100 | Loss: 4.9667061830405146e-05 | Test loss: 5.067586971563287e-05\n",
            "Epoch: 6110 | Loss: 4.9667061830405146e-05 | Test loss: 5.067586971563287e-05\n",
            "Epoch: 6120 | Loss: 4.9667061830405146e-05 | Test loss: 5.067586971563287e-05\n",
            "Epoch: 6130 | Loss: 4.9667061830405146e-05 | Test loss: 5.067586971563287e-05\n",
            "Epoch: 6140 | Loss: 4.9667061830405146e-05 | Test loss: 5.067586971563287e-05\n",
            "Epoch: 6150 | Loss: 4.9667061830405146e-05 | Test loss: 5.067586971563287e-05\n",
            "Epoch: 6160 | Loss: 4.9667061830405146e-05 | Test loss: 5.067586971563287e-05\n",
            "Epoch: 6170 | Loss: 4.9667061830405146e-05 | Test loss: 5.067586971563287e-05\n",
            "Epoch: 6180 | Loss: 4.9667061830405146e-05 | Test loss: 5.067586971563287e-05\n",
            "Epoch: 6190 | Loss: 4.9667061830405146e-05 | Test loss: 5.067586971563287e-05\n",
            "Epoch: 6200 | Loss: 4.9667061830405146e-05 | Test loss: 5.067586971563287e-05\n",
            "Epoch: 6210 | Loss: 4.9667061830405146e-05 | Test loss: 5.067586971563287e-05\n",
            "Epoch: 6220 | Loss: 4.9667061830405146e-05 | Test loss: 5.067586971563287e-05\n",
            "Epoch: 6230 | Loss: 4.9667061830405146e-05 | Test loss: 5.067586971563287e-05\n",
            "Epoch: 6240 | Loss: 4.9667061830405146e-05 | Test loss: 5.067586971563287e-05\n",
            "Epoch: 6250 | Loss: 4.9667061830405146e-05 | Test loss: 5.067586971563287e-05\n",
            "Epoch: 6260 | Loss: 4.9667061830405146e-05 | Test loss: 5.067586971563287e-05\n",
            "Epoch: 6270 | Loss: 4.9667061830405146e-05 | Test loss: 5.067586971563287e-05\n",
            "Epoch: 6280 | Loss: 4.9667061830405146e-05 | Test loss: 5.067586971563287e-05\n",
            "Epoch: 6290 | Loss: 4.9667061830405146e-05 | Test loss: 5.067586971563287e-05\n",
            "Epoch: 6300 | Loss: 4.9667061830405146e-05 | Test loss: 5.067586971563287e-05\n",
            "Epoch: 6310 | Loss: 4.9667061830405146e-05 | Test loss: 5.067586971563287e-05\n",
            "Epoch: 6320 | Loss: 4.9667061830405146e-05 | Test loss: 5.067586971563287e-05\n",
            "Epoch: 6330 | Loss: 4.9667061830405146e-05 | Test loss: 5.067586971563287e-05\n",
            "Epoch: 6340 | Loss: 4.9667061830405146e-05 | Test loss: 5.067586971563287e-05\n",
            "Epoch: 6350 | Loss: 4.9667061830405146e-05 | Test loss: 5.067586971563287e-05\n",
            "Epoch: 6360 | Loss: 4.9667061830405146e-05 | Test loss: 5.067586971563287e-05\n",
            "Epoch: 6370 | Loss: 4.9667061830405146e-05 | Test loss: 5.067586971563287e-05\n",
            "Epoch: 6380 | Loss: 4.9667061830405146e-05 | Test loss: 5.067586971563287e-05\n",
            "Epoch: 6390 | Loss: 4.9667061830405146e-05 | Test loss: 5.067586971563287e-05\n",
            "Epoch: 6400 | Loss: 4.9667061830405146e-05 | Test loss: 5.067586971563287e-05\n",
            "Epoch: 6410 | Loss: 4.9667061830405146e-05 | Test loss: 5.067586971563287e-05\n",
            "Epoch: 6420 | Loss: 4.9667061830405146e-05 | Test loss: 5.067586971563287e-05\n",
            "Epoch: 6430 | Loss: 4.9667061830405146e-05 | Test loss: 5.067586971563287e-05\n",
            "Epoch: 6440 | Loss: 4.9667061830405146e-05 | Test loss: 5.067586971563287e-05\n",
            "Epoch: 6450 | Loss: 4.9667061830405146e-05 | Test loss: 5.067586971563287e-05\n",
            "Epoch: 6460 | Loss: 4.9667061830405146e-05 | Test loss: 5.067586971563287e-05\n",
            "Epoch: 6470 | Loss: 4.9667061830405146e-05 | Test loss: 5.067586971563287e-05\n",
            "Epoch: 6480 | Loss: 4.9667061830405146e-05 | Test loss: 5.067586971563287e-05\n",
            "Epoch: 6490 | Loss: 4.9667061830405146e-05 | Test loss: 5.067586971563287e-05\n",
            "Epoch: 6500 | Loss: 4.9667061830405146e-05 | Test loss: 5.067586971563287e-05\n",
            "Epoch: 6510 | Loss: 4.9667061830405146e-05 | Test loss: 5.067586971563287e-05\n",
            "Epoch: 6520 | Loss: 4.9667061830405146e-05 | Test loss: 5.067586971563287e-05\n",
            "Epoch: 6530 | Loss: 4.9667061830405146e-05 | Test loss: 5.067586971563287e-05\n",
            "Epoch: 6540 | Loss: 4.9667061830405146e-05 | Test loss: 5.067586971563287e-05\n",
            "Epoch: 6550 | Loss: 4.9667061830405146e-05 | Test loss: 5.067586971563287e-05\n",
            "Epoch: 6560 | Loss: 4.9667061830405146e-05 | Test loss: 5.067586971563287e-05\n",
            "Epoch: 6570 | Loss: 4.9667061830405146e-05 | Test loss: 5.067586971563287e-05\n",
            "Epoch: 6580 | Loss: 4.9667061830405146e-05 | Test loss: 5.067586971563287e-05\n",
            "Epoch: 6590 | Loss: 4.9667061830405146e-05 | Test loss: 5.067586971563287e-05\n",
            "Epoch: 6600 | Loss: 4.9667061830405146e-05 | Test loss: 5.067586971563287e-05\n",
            "Epoch: 6610 | Loss: 4.9667061830405146e-05 | Test loss: 5.067586971563287e-05\n",
            "Epoch: 6620 | Loss: 4.9667061830405146e-05 | Test loss: 5.067586971563287e-05\n",
            "Epoch: 6630 | Loss: 4.9667061830405146e-05 | Test loss: 5.067586971563287e-05\n",
            "Epoch: 6640 | Loss: 4.9667061830405146e-05 | Test loss: 5.067586971563287e-05\n",
            "Epoch: 6650 | Loss: 4.9667061830405146e-05 | Test loss: 5.067586971563287e-05\n",
            "Epoch: 6660 | Loss: 4.9667061830405146e-05 | Test loss: 5.067586971563287e-05\n",
            "Epoch: 6670 | Loss: 4.9667061830405146e-05 | Test loss: 5.067586971563287e-05\n",
            "Epoch: 6680 | Loss: 4.9667061830405146e-05 | Test loss: 5.067586971563287e-05\n",
            "Epoch: 6690 | Loss: 4.9667061830405146e-05 | Test loss: 5.067586971563287e-05\n",
            "Epoch: 6700 | Loss: 4.9667061830405146e-05 | Test loss: 5.067586971563287e-05\n",
            "Epoch: 6710 | Loss: 4.9667061830405146e-05 | Test loss: 5.067586971563287e-05\n",
            "Epoch: 6720 | Loss: 4.9667061830405146e-05 | Test loss: 5.067586971563287e-05\n",
            "Epoch: 6730 | Loss: 4.9667061830405146e-05 | Test loss: 5.067586971563287e-05\n",
            "Epoch: 6740 | Loss: 4.9667061830405146e-05 | Test loss: 5.067586971563287e-05\n",
            "Epoch: 6750 | Loss: 4.9667061830405146e-05 | Test loss: 5.067586971563287e-05\n",
            "Epoch: 6760 | Loss: 4.9667061830405146e-05 | Test loss: 5.067586971563287e-05\n",
            "Epoch: 6770 | Loss: 4.9667061830405146e-05 | Test loss: 5.067586971563287e-05\n",
            "Epoch: 6780 | Loss: 4.9667061830405146e-05 | Test loss: 5.067586971563287e-05\n",
            "Epoch: 6790 | Loss: 4.9667061830405146e-05 | Test loss: 5.067586971563287e-05\n",
            "Epoch: 6800 | Loss: 4.9667061830405146e-05 | Test loss: 5.067586971563287e-05\n",
            "Epoch: 6810 | Loss: 4.9667061830405146e-05 | Test loss: 5.067586971563287e-05\n",
            "Epoch: 6820 | Loss: 4.9667061830405146e-05 | Test loss: 5.067586971563287e-05\n",
            "Epoch: 6830 | Loss: 4.9667061830405146e-05 | Test loss: 5.067586971563287e-05\n",
            "Epoch: 6840 | Loss: 4.9667061830405146e-05 | Test loss: 5.067586971563287e-05\n",
            "Epoch: 6850 | Loss: 4.9667061830405146e-05 | Test loss: 5.067586971563287e-05\n",
            "Epoch: 6860 | Loss: 4.9667061830405146e-05 | Test loss: 5.067586971563287e-05\n",
            "Epoch: 6870 | Loss: 4.9667061830405146e-05 | Test loss: 5.067586971563287e-05\n",
            "Epoch: 6880 | Loss: 4.9667061830405146e-05 | Test loss: 5.067586971563287e-05\n",
            "Epoch: 6890 | Loss: 4.9667061830405146e-05 | Test loss: 5.067586971563287e-05\n",
            "Epoch: 6900 | Loss: 4.9667061830405146e-05 | Test loss: 5.067586971563287e-05\n",
            "Epoch: 6910 | Loss: 4.9667061830405146e-05 | Test loss: 5.067586971563287e-05\n",
            "Epoch: 6920 | Loss: 4.9667061830405146e-05 | Test loss: 5.067586971563287e-05\n",
            "Epoch: 6930 | Loss: 4.9667061830405146e-05 | Test loss: 5.067586971563287e-05\n",
            "Epoch: 6940 | Loss: 4.9667061830405146e-05 | Test loss: 5.067586971563287e-05\n",
            "Epoch: 6950 | Loss: 4.9667061830405146e-05 | Test loss: 5.067586971563287e-05\n",
            "Epoch: 6960 | Loss: 4.9667061830405146e-05 | Test loss: 5.067586971563287e-05\n",
            "Epoch: 6970 | Loss: 4.9667061830405146e-05 | Test loss: 5.067586971563287e-05\n",
            "Epoch: 6980 | Loss: 4.9667061830405146e-05 | Test loss: 5.067586971563287e-05\n",
            "Epoch: 6990 | Loss: 4.9667061830405146e-05 | Test loss: 5.067586971563287e-05\n",
            "Epoch: 7000 | Loss: 4.9667061830405146e-05 | Test loss: 5.067586971563287e-05\n",
            "Epoch: 7010 | Loss: 4.9667061830405146e-05 | Test loss: 5.067586971563287e-05\n",
            "Epoch: 7020 | Loss: 4.9667061830405146e-05 | Test loss: 5.067586971563287e-05\n",
            "Epoch: 7030 | Loss: 4.9667061830405146e-05 | Test loss: 5.067586971563287e-05\n",
            "Epoch: 7040 | Loss: 4.9667061830405146e-05 | Test loss: 5.067586971563287e-05\n",
            "Epoch: 7050 | Loss: 4.9667061830405146e-05 | Test loss: 5.067586971563287e-05\n",
            "Epoch: 7060 | Loss: 4.9667061830405146e-05 | Test loss: 5.067586971563287e-05\n",
            "Epoch: 7070 | Loss: 4.9667061830405146e-05 | Test loss: 5.067586971563287e-05\n",
            "Epoch: 7080 | Loss: 4.9667061830405146e-05 | Test loss: 5.067586971563287e-05\n",
            "Epoch: 7090 | Loss: 4.9667061830405146e-05 | Test loss: 5.067586971563287e-05\n",
            "Epoch: 7100 | Loss: 4.9667061830405146e-05 | Test loss: 5.067586971563287e-05\n",
            "Epoch: 7110 | Loss: 4.9667061830405146e-05 | Test loss: 5.067586971563287e-05\n",
            "Epoch: 7120 | Loss: 4.9667061830405146e-05 | Test loss: 5.067586971563287e-05\n",
            "Epoch: 7130 | Loss: 4.9667061830405146e-05 | Test loss: 5.067586971563287e-05\n",
            "Epoch: 7140 | Loss: 4.9667061830405146e-05 | Test loss: 5.067586971563287e-05\n",
            "Epoch: 7150 | Loss: 4.9667061830405146e-05 | Test loss: 5.067586971563287e-05\n",
            "Epoch: 7160 | Loss: 4.9667061830405146e-05 | Test loss: 5.067586971563287e-05\n",
            "Epoch: 7170 | Loss: 4.9667061830405146e-05 | Test loss: 5.067586971563287e-05\n",
            "Epoch: 7180 | Loss: 4.9667061830405146e-05 | Test loss: 5.067586971563287e-05\n",
            "Epoch: 7190 | Loss: 4.9667061830405146e-05 | Test loss: 5.067586971563287e-05\n",
            "Epoch: 7200 | Loss: 4.9667061830405146e-05 | Test loss: 5.067586971563287e-05\n",
            "Epoch: 7210 | Loss: 4.9667061830405146e-05 | Test loss: 5.067586971563287e-05\n",
            "Epoch: 7220 | Loss: 4.9667061830405146e-05 | Test loss: 5.067586971563287e-05\n",
            "Epoch: 7230 | Loss: 4.9667061830405146e-05 | Test loss: 5.067586971563287e-05\n",
            "Epoch: 7240 | Loss: 4.9667061830405146e-05 | Test loss: 5.067586971563287e-05\n",
            "Epoch: 7250 | Loss: 4.9667061830405146e-05 | Test loss: 5.067586971563287e-05\n",
            "Epoch: 7260 | Loss: 4.9667061830405146e-05 | Test loss: 5.067586971563287e-05\n",
            "Epoch: 7270 | Loss: 4.9667061830405146e-05 | Test loss: 5.067586971563287e-05\n",
            "Epoch: 7280 | Loss: 4.9667061830405146e-05 | Test loss: 5.067586971563287e-05\n",
            "Epoch: 7290 | Loss: 4.9667061830405146e-05 | Test loss: 5.067586971563287e-05\n",
            "Epoch: 7300 | Loss: 4.9667061830405146e-05 | Test loss: 5.067586971563287e-05\n",
            "Epoch: 7310 | Loss: 4.9667061830405146e-05 | Test loss: 5.067586971563287e-05\n",
            "Epoch: 7320 | Loss: 4.9667061830405146e-05 | Test loss: 5.067586971563287e-05\n",
            "Epoch: 7330 | Loss: 4.9667061830405146e-05 | Test loss: 5.067586971563287e-05\n",
            "Epoch: 7340 | Loss: 4.9667061830405146e-05 | Test loss: 5.067586971563287e-05\n",
            "Epoch: 7350 | Loss: 4.9667061830405146e-05 | Test loss: 5.067586971563287e-05\n",
            "Epoch: 7360 | Loss: 4.9667061830405146e-05 | Test loss: 5.067586971563287e-05\n",
            "Epoch: 7370 | Loss: 4.9667061830405146e-05 | Test loss: 5.067586971563287e-05\n",
            "Epoch: 7380 | Loss: 4.9667061830405146e-05 | Test loss: 5.067586971563287e-05\n",
            "Epoch: 7390 | Loss: 4.9667061830405146e-05 | Test loss: 5.067586971563287e-05\n",
            "Epoch: 7400 | Loss: 4.9667061830405146e-05 | Test loss: 5.067586971563287e-05\n",
            "Epoch: 7410 | Loss: 4.9667061830405146e-05 | Test loss: 5.067586971563287e-05\n",
            "Epoch: 7420 | Loss: 4.9667061830405146e-05 | Test loss: 5.067586971563287e-05\n",
            "Epoch: 7430 | Loss: 4.9667061830405146e-05 | Test loss: 5.067586971563287e-05\n",
            "Epoch: 7440 | Loss: 4.9667061830405146e-05 | Test loss: 5.067586971563287e-05\n",
            "Epoch: 7450 | Loss: 4.9667061830405146e-05 | Test loss: 5.067586971563287e-05\n",
            "Epoch: 7460 | Loss: 4.9667061830405146e-05 | Test loss: 5.067586971563287e-05\n",
            "Epoch: 7470 | Loss: 4.9667061830405146e-05 | Test loss: 5.067586971563287e-05\n",
            "Epoch: 7480 | Loss: 4.9667061830405146e-05 | Test loss: 5.067586971563287e-05\n",
            "Epoch: 7490 | Loss: 4.9667061830405146e-05 | Test loss: 5.067586971563287e-05\n",
            "Epoch: 7500 | Loss: 4.9667061830405146e-05 | Test loss: 5.067586971563287e-05\n",
            "Epoch: 7510 | Loss: 4.9667061830405146e-05 | Test loss: 5.067586971563287e-05\n",
            "Epoch: 7520 | Loss: 4.9667061830405146e-05 | Test loss: 5.067586971563287e-05\n",
            "Epoch: 7530 | Loss: 4.9667061830405146e-05 | Test loss: 5.067586971563287e-05\n",
            "Epoch: 7540 | Loss: 4.9667061830405146e-05 | Test loss: 5.067586971563287e-05\n",
            "Epoch: 7550 | Loss: 4.9667061830405146e-05 | Test loss: 5.067586971563287e-05\n",
            "Epoch: 7560 | Loss: 4.9667061830405146e-05 | Test loss: 5.067586971563287e-05\n",
            "Epoch: 7570 | Loss: 4.9667061830405146e-05 | Test loss: 5.067586971563287e-05\n",
            "Epoch: 7580 | Loss: 4.9667061830405146e-05 | Test loss: 5.067586971563287e-05\n",
            "Epoch: 7590 | Loss: 4.9667061830405146e-05 | Test loss: 5.067586971563287e-05\n",
            "Epoch: 7600 | Loss: 4.9667061830405146e-05 | Test loss: 5.067586971563287e-05\n",
            "Epoch: 7610 | Loss: 4.9667061830405146e-05 | Test loss: 5.067586971563287e-05\n",
            "Epoch: 7620 | Loss: 4.9667061830405146e-05 | Test loss: 5.067586971563287e-05\n",
            "Epoch: 7630 | Loss: 4.9667061830405146e-05 | Test loss: 5.067586971563287e-05\n",
            "Epoch: 7640 | Loss: 4.9667061830405146e-05 | Test loss: 5.067586971563287e-05\n",
            "Epoch: 7650 | Loss: 4.9667061830405146e-05 | Test loss: 5.067586971563287e-05\n",
            "Epoch: 7660 | Loss: 4.9667061830405146e-05 | Test loss: 5.067586971563287e-05\n",
            "Epoch: 7670 | Loss: 4.9667061830405146e-05 | Test loss: 5.067586971563287e-05\n",
            "Epoch: 7680 | Loss: 4.9667061830405146e-05 | Test loss: 5.067586971563287e-05\n",
            "Epoch: 7690 | Loss: 4.9667061830405146e-05 | Test loss: 5.067586971563287e-05\n",
            "Epoch: 7700 | Loss: 4.9667061830405146e-05 | Test loss: 5.067586971563287e-05\n",
            "Epoch: 7710 | Loss: 4.9667061830405146e-05 | Test loss: 5.067586971563287e-05\n",
            "Epoch: 7720 | Loss: 4.9667061830405146e-05 | Test loss: 5.067586971563287e-05\n",
            "Epoch: 7730 | Loss: 4.9667061830405146e-05 | Test loss: 5.067586971563287e-05\n",
            "Epoch: 7740 | Loss: 4.9667061830405146e-05 | Test loss: 5.067586971563287e-05\n",
            "Epoch: 7750 | Loss: 4.9667061830405146e-05 | Test loss: 5.067586971563287e-05\n",
            "Epoch: 7760 | Loss: 4.9667061830405146e-05 | Test loss: 5.067586971563287e-05\n",
            "Epoch: 7770 | Loss: 4.9667061830405146e-05 | Test loss: 5.067586971563287e-05\n",
            "Epoch: 7780 | Loss: 4.9667061830405146e-05 | Test loss: 5.067586971563287e-05\n",
            "Epoch: 7790 | Loss: 4.9667061830405146e-05 | Test loss: 5.067586971563287e-05\n",
            "Epoch: 7800 | Loss: 4.9667061830405146e-05 | Test loss: 5.067586971563287e-05\n",
            "Epoch: 7810 | Loss: 4.9667061830405146e-05 | Test loss: 5.067586971563287e-05\n",
            "Epoch: 7820 | Loss: 4.9667061830405146e-05 | Test loss: 5.067586971563287e-05\n",
            "Epoch: 7830 | Loss: 4.9667061830405146e-05 | Test loss: 5.067586971563287e-05\n",
            "Epoch: 7840 | Loss: 4.9667061830405146e-05 | Test loss: 5.067586971563287e-05\n",
            "Epoch: 7850 | Loss: 4.9667061830405146e-05 | Test loss: 5.067586971563287e-05\n",
            "Epoch: 7860 | Loss: 4.9667061830405146e-05 | Test loss: 5.067586971563287e-05\n",
            "Epoch: 7870 | Loss: 4.9667061830405146e-05 | Test loss: 5.067586971563287e-05\n",
            "Epoch: 7880 | Loss: 4.9667061830405146e-05 | Test loss: 5.067586971563287e-05\n",
            "Epoch: 7890 | Loss: 4.9667061830405146e-05 | Test loss: 5.067586971563287e-05\n",
            "Epoch: 7900 | Loss: 4.9667061830405146e-05 | Test loss: 5.067586971563287e-05\n",
            "Epoch: 7910 | Loss: 4.9667061830405146e-05 | Test loss: 5.067586971563287e-05\n",
            "Epoch: 7920 | Loss: 4.9667061830405146e-05 | Test loss: 5.067586971563287e-05\n",
            "Epoch: 7930 | Loss: 4.9667061830405146e-05 | Test loss: 5.067586971563287e-05\n",
            "Epoch: 7940 | Loss: 4.9667061830405146e-05 | Test loss: 5.067586971563287e-05\n",
            "Epoch: 7950 | Loss: 4.9667061830405146e-05 | Test loss: 5.067586971563287e-05\n",
            "Epoch: 7960 | Loss: 4.9667061830405146e-05 | Test loss: 5.067586971563287e-05\n",
            "Epoch: 7970 | Loss: 4.9667061830405146e-05 | Test loss: 5.067586971563287e-05\n",
            "Epoch: 7980 | Loss: 4.9667061830405146e-05 | Test loss: 5.067586971563287e-05\n",
            "Epoch: 7990 | Loss: 4.9667061830405146e-05 | Test loss: 5.067586971563287e-05\n",
            "Epoch: 8000 | Loss: 4.9667061830405146e-05 | Test loss: 5.067586971563287e-05\n",
            "Epoch: 8010 | Loss: 4.9667061830405146e-05 | Test loss: 5.067586971563287e-05\n",
            "Epoch: 8020 | Loss: 4.9667061830405146e-05 | Test loss: 5.067586971563287e-05\n",
            "Epoch: 8030 | Loss: 4.9667061830405146e-05 | Test loss: 5.067586971563287e-05\n",
            "Epoch: 8040 | Loss: 4.9667061830405146e-05 | Test loss: 5.067586971563287e-05\n",
            "Epoch: 8050 | Loss: 4.9667061830405146e-05 | Test loss: 5.067586971563287e-05\n",
            "Epoch: 8060 | Loss: 4.9667061830405146e-05 | Test loss: 5.067586971563287e-05\n",
            "Epoch: 8070 | Loss: 4.9667061830405146e-05 | Test loss: 5.067586971563287e-05\n",
            "Epoch: 8080 | Loss: 4.9667061830405146e-05 | Test loss: 5.067586971563287e-05\n",
            "Epoch: 8090 | Loss: 4.9667061830405146e-05 | Test loss: 5.067586971563287e-05\n",
            "Epoch: 8100 | Loss: 4.9667061830405146e-05 | Test loss: 5.067586971563287e-05\n",
            "Epoch: 8110 | Loss: 4.9667061830405146e-05 | Test loss: 5.067586971563287e-05\n",
            "Epoch: 8120 | Loss: 4.9667061830405146e-05 | Test loss: 5.067586971563287e-05\n",
            "Epoch: 8130 | Loss: 4.9667061830405146e-05 | Test loss: 5.067586971563287e-05\n",
            "Epoch: 8140 | Loss: 4.9667061830405146e-05 | Test loss: 5.067586971563287e-05\n",
            "Epoch: 8150 | Loss: 4.9667061830405146e-05 | Test loss: 5.067586971563287e-05\n",
            "Epoch: 8160 | Loss: 4.9667061830405146e-05 | Test loss: 5.067586971563287e-05\n",
            "Epoch: 8170 | Loss: 4.9667061830405146e-05 | Test loss: 5.067586971563287e-05\n",
            "Epoch: 8180 | Loss: 4.9667061830405146e-05 | Test loss: 5.067586971563287e-05\n",
            "Epoch: 8190 | Loss: 4.9667061830405146e-05 | Test loss: 5.067586971563287e-05\n",
            "Epoch: 8200 | Loss: 4.9667061830405146e-05 | Test loss: 5.067586971563287e-05\n",
            "Epoch: 8210 | Loss: 4.9667061830405146e-05 | Test loss: 5.067586971563287e-05\n",
            "Epoch: 8220 | Loss: 4.9667061830405146e-05 | Test loss: 5.067586971563287e-05\n",
            "Epoch: 8230 | Loss: 4.9667061830405146e-05 | Test loss: 5.067586971563287e-05\n",
            "Epoch: 8240 | Loss: 4.9667061830405146e-05 | Test loss: 5.067586971563287e-05\n",
            "Epoch: 8250 | Loss: 4.9667061830405146e-05 | Test loss: 5.067586971563287e-05\n",
            "Epoch: 8260 | Loss: 4.9667061830405146e-05 | Test loss: 5.067586971563287e-05\n",
            "Epoch: 8270 | Loss: 4.9667061830405146e-05 | Test loss: 5.067586971563287e-05\n",
            "Epoch: 8280 | Loss: 4.9667061830405146e-05 | Test loss: 5.067586971563287e-05\n",
            "Epoch: 8290 | Loss: 4.9667061830405146e-05 | Test loss: 5.067586971563287e-05\n",
            "Epoch: 8300 | Loss: 4.9667061830405146e-05 | Test loss: 5.067586971563287e-05\n",
            "Epoch: 8310 | Loss: 4.9667061830405146e-05 | Test loss: 5.067586971563287e-05\n",
            "Epoch: 8320 | Loss: 4.9667061830405146e-05 | Test loss: 5.067586971563287e-05\n",
            "Epoch: 8330 | Loss: 4.9667061830405146e-05 | Test loss: 5.067586971563287e-05\n",
            "Epoch: 8340 | Loss: 4.9667061830405146e-05 | Test loss: 5.067586971563287e-05\n",
            "Epoch: 8350 | Loss: 4.9667061830405146e-05 | Test loss: 5.067586971563287e-05\n",
            "Epoch: 8360 | Loss: 4.9667061830405146e-05 | Test loss: 5.067586971563287e-05\n",
            "Epoch: 8370 | Loss: 4.9667061830405146e-05 | Test loss: 5.067586971563287e-05\n",
            "Epoch: 8380 | Loss: 4.9667061830405146e-05 | Test loss: 5.067586971563287e-05\n",
            "Epoch: 8390 | Loss: 4.9667061830405146e-05 | Test loss: 5.067586971563287e-05\n",
            "Epoch: 8400 | Loss: 4.9667061830405146e-05 | Test loss: 5.067586971563287e-05\n",
            "Epoch: 8410 | Loss: 4.9667061830405146e-05 | Test loss: 5.067586971563287e-05\n",
            "Epoch: 8420 | Loss: 4.9667061830405146e-05 | Test loss: 5.067586971563287e-05\n",
            "Epoch: 8430 | Loss: 4.9667061830405146e-05 | Test loss: 5.067586971563287e-05\n",
            "Epoch: 8440 | Loss: 4.9667061830405146e-05 | Test loss: 5.067586971563287e-05\n",
            "Epoch: 8450 | Loss: 4.9667061830405146e-05 | Test loss: 5.067586971563287e-05\n",
            "Epoch: 8460 | Loss: 4.9667061830405146e-05 | Test loss: 5.067586971563287e-05\n",
            "Epoch: 8470 | Loss: 4.9667061830405146e-05 | Test loss: 5.067586971563287e-05\n",
            "Epoch: 8480 | Loss: 4.9667061830405146e-05 | Test loss: 5.067586971563287e-05\n",
            "Epoch: 8490 | Loss: 4.9667061830405146e-05 | Test loss: 5.067586971563287e-05\n",
            "Epoch: 8500 | Loss: 4.9667061830405146e-05 | Test loss: 5.067586971563287e-05\n",
            "Epoch: 8510 | Loss: 4.9667061830405146e-05 | Test loss: 5.067586971563287e-05\n",
            "Epoch: 8520 | Loss: 4.9667061830405146e-05 | Test loss: 5.067586971563287e-05\n",
            "Epoch: 8530 | Loss: 4.9667061830405146e-05 | Test loss: 5.067586971563287e-05\n",
            "Epoch: 8540 | Loss: 4.9667061830405146e-05 | Test loss: 5.067586971563287e-05\n",
            "Epoch: 8550 | Loss: 4.9667061830405146e-05 | Test loss: 5.067586971563287e-05\n",
            "Epoch: 8560 | Loss: 4.9667061830405146e-05 | Test loss: 5.067586971563287e-05\n",
            "Epoch: 8570 | Loss: 4.9667061830405146e-05 | Test loss: 5.067586971563287e-05\n",
            "Epoch: 8580 | Loss: 4.9667061830405146e-05 | Test loss: 5.067586971563287e-05\n",
            "Epoch: 8590 | Loss: 4.9667061830405146e-05 | Test loss: 5.067586971563287e-05\n",
            "Epoch: 8600 | Loss: 4.9667061830405146e-05 | Test loss: 5.067586971563287e-05\n",
            "Epoch: 8610 | Loss: 4.9667061830405146e-05 | Test loss: 5.067586971563287e-05\n",
            "Epoch: 8620 | Loss: 4.9667061830405146e-05 | Test loss: 5.067586971563287e-05\n",
            "Epoch: 8630 | Loss: 4.9667061830405146e-05 | Test loss: 5.067586971563287e-05\n",
            "Epoch: 8640 | Loss: 4.9667061830405146e-05 | Test loss: 5.067586971563287e-05\n",
            "Epoch: 8650 | Loss: 4.9667061830405146e-05 | Test loss: 5.067586971563287e-05\n",
            "Epoch: 8660 | Loss: 4.9667061830405146e-05 | Test loss: 5.067586971563287e-05\n",
            "Epoch: 8670 | Loss: 4.9667061830405146e-05 | Test loss: 5.067586971563287e-05\n",
            "Epoch: 8680 | Loss: 4.9667061830405146e-05 | Test loss: 5.067586971563287e-05\n",
            "Epoch: 8690 | Loss: 4.9667061830405146e-05 | Test loss: 5.067586971563287e-05\n",
            "Epoch: 8700 | Loss: 4.9667061830405146e-05 | Test loss: 5.067586971563287e-05\n",
            "Epoch: 8710 | Loss: 4.9667061830405146e-05 | Test loss: 5.067586971563287e-05\n",
            "Epoch: 8720 | Loss: 4.9667061830405146e-05 | Test loss: 5.067586971563287e-05\n",
            "Epoch: 8730 | Loss: 4.9667061830405146e-05 | Test loss: 5.067586971563287e-05\n",
            "Epoch: 8740 | Loss: 4.9667061830405146e-05 | Test loss: 5.067586971563287e-05\n",
            "Epoch: 8750 | Loss: 4.9667061830405146e-05 | Test loss: 5.067586971563287e-05\n",
            "Epoch: 8760 | Loss: 4.9667061830405146e-05 | Test loss: 5.067586971563287e-05\n",
            "Epoch: 8770 | Loss: 4.9667061830405146e-05 | Test loss: 5.067586971563287e-05\n",
            "Epoch: 8780 | Loss: 4.9667061830405146e-05 | Test loss: 5.067586971563287e-05\n",
            "Epoch: 8790 | Loss: 4.9667061830405146e-05 | Test loss: 5.067586971563287e-05\n",
            "Epoch: 8800 | Loss: 4.9667061830405146e-05 | Test loss: 5.067586971563287e-05\n",
            "Epoch: 8810 | Loss: 4.9667061830405146e-05 | Test loss: 5.067586971563287e-05\n",
            "Epoch: 8820 | Loss: 4.9667061830405146e-05 | Test loss: 5.067586971563287e-05\n",
            "Epoch: 8830 | Loss: 4.9667061830405146e-05 | Test loss: 5.067586971563287e-05\n",
            "Epoch: 8840 | Loss: 4.9667061830405146e-05 | Test loss: 5.067586971563287e-05\n",
            "Epoch: 8850 | Loss: 4.9667061830405146e-05 | Test loss: 5.067586971563287e-05\n",
            "Epoch: 8860 | Loss: 4.9667061830405146e-05 | Test loss: 5.067586971563287e-05\n",
            "Epoch: 8870 | Loss: 4.9667061830405146e-05 | Test loss: 5.067586971563287e-05\n",
            "Epoch: 8880 | Loss: 4.9667061830405146e-05 | Test loss: 5.067586971563287e-05\n",
            "Epoch: 8890 | Loss: 4.9667061830405146e-05 | Test loss: 5.067586971563287e-05\n",
            "Epoch: 8900 | Loss: 4.9667061830405146e-05 | Test loss: 5.067586971563287e-05\n",
            "Epoch: 8910 | Loss: 4.9667061830405146e-05 | Test loss: 5.067586971563287e-05\n",
            "Epoch: 8920 | Loss: 4.9667061830405146e-05 | Test loss: 5.067586971563287e-05\n",
            "Epoch: 8930 | Loss: 4.9667061830405146e-05 | Test loss: 5.067586971563287e-05\n",
            "Epoch: 8940 | Loss: 4.9667061830405146e-05 | Test loss: 5.067586971563287e-05\n",
            "Epoch: 8950 | Loss: 4.9667061830405146e-05 | Test loss: 5.067586971563287e-05\n",
            "Epoch: 8960 | Loss: 4.9667061830405146e-05 | Test loss: 5.067586971563287e-05\n",
            "Epoch: 8970 | Loss: 4.9667061830405146e-05 | Test loss: 5.067586971563287e-05\n",
            "Epoch: 8980 | Loss: 4.9667061830405146e-05 | Test loss: 5.067586971563287e-05\n",
            "Epoch: 8990 | Loss: 4.9667061830405146e-05 | Test loss: 5.067586971563287e-05\n",
            "Epoch: 9000 | Loss: 4.9667061830405146e-05 | Test loss: 5.067586971563287e-05\n",
            "Epoch: 9010 | Loss: 4.9667061830405146e-05 | Test loss: 5.067586971563287e-05\n",
            "Epoch: 9020 | Loss: 4.9667061830405146e-05 | Test loss: 5.067586971563287e-05\n",
            "Epoch: 9030 | Loss: 4.9667061830405146e-05 | Test loss: 5.067586971563287e-05\n",
            "Epoch: 9040 | Loss: 4.9667061830405146e-05 | Test loss: 5.067586971563287e-05\n",
            "Epoch: 9050 | Loss: 4.9667061830405146e-05 | Test loss: 5.067586971563287e-05\n",
            "Epoch: 9060 | Loss: 4.9667061830405146e-05 | Test loss: 5.067586971563287e-05\n",
            "Epoch: 9070 | Loss: 4.9667061830405146e-05 | Test loss: 5.067586971563287e-05\n",
            "Epoch: 9080 | Loss: 4.9667061830405146e-05 | Test loss: 5.067586971563287e-05\n",
            "Epoch: 9090 | Loss: 4.9667061830405146e-05 | Test loss: 5.067586971563287e-05\n",
            "Epoch: 9100 | Loss: 4.9667061830405146e-05 | Test loss: 5.067586971563287e-05\n",
            "Epoch: 9110 | Loss: 4.9667061830405146e-05 | Test loss: 5.067586971563287e-05\n",
            "Epoch: 9120 | Loss: 4.9667061830405146e-05 | Test loss: 5.067586971563287e-05\n",
            "Epoch: 9130 | Loss: 4.9667061830405146e-05 | Test loss: 5.067586971563287e-05\n",
            "Epoch: 9140 | Loss: 4.9667061830405146e-05 | Test loss: 5.067586971563287e-05\n",
            "Epoch: 9150 | Loss: 4.9667061830405146e-05 | Test loss: 5.067586971563287e-05\n",
            "Epoch: 9160 | Loss: 4.9667061830405146e-05 | Test loss: 5.067586971563287e-05\n",
            "Epoch: 9170 | Loss: 4.9667061830405146e-05 | Test loss: 5.067586971563287e-05\n",
            "Epoch: 9180 | Loss: 4.9667061830405146e-05 | Test loss: 5.067586971563287e-05\n",
            "Epoch: 9190 | Loss: 4.9667061830405146e-05 | Test loss: 5.067586971563287e-05\n",
            "Epoch: 9200 | Loss: 4.9667061830405146e-05 | Test loss: 5.067586971563287e-05\n",
            "Epoch: 9210 | Loss: 4.9667061830405146e-05 | Test loss: 5.067586971563287e-05\n",
            "Epoch: 9220 | Loss: 4.9667061830405146e-05 | Test loss: 5.067586971563287e-05\n",
            "Epoch: 9230 | Loss: 4.9667061830405146e-05 | Test loss: 5.067586971563287e-05\n",
            "Epoch: 9240 | Loss: 4.9667061830405146e-05 | Test loss: 5.067586971563287e-05\n",
            "Epoch: 9250 | Loss: 4.9667061830405146e-05 | Test loss: 5.067586971563287e-05\n",
            "Epoch: 9260 | Loss: 4.9667061830405146e-05 | Test loss: 5.067586971563287e-05\n",
            "Epoch: 9270 | Loss: 4.9667061830405146e-05 | Test loss: 5.067586971563287e-05\n",
            "Epoch: 9280 | Loss: 4.9667061830405146e-05 | Test loss: 5.067586971563287e-05\n",
            "Epoch: 9290 | Loss: 4.9667061830405146e-05 | Test loss: 5.067586971563287e-05\n",
            "Epoch: 9300 | Loss: 4.9667061830405146e-05 | Test loss: 5.067586971563287e-05\n",
            "Epoch: 9310 | Loss: 4.9667061830405146e-05 | Test loss: 5.067586971563287e-05\n",
            "Epoch: 9320 | Loss: 4.9667061830405146e-05 | Test loss: 5.067586971563287e-05\n",
            "Epoch: 9330 | Loss: 4.9667061830405146e-05 | Test loss: 5.067586971563287e-05\n",
            "Epoch: 9340 | Loss: 4.9667061830405146e-05 | Test loss: 5.067586971563287e-05\n",
            "Epoch: 9350 | Loss: 4.9667061830405146e-05 | Test loss: 5.067586971563287e-05\n",
            "Epoch: 9360 | Loss: 4.9667061830405146e-05 | Test loss: 5.067586971563287e-05\n",
            "Epoch: 9370 | Loss: 4.9667061830405146e-05 | Test loss: 5.067586971563287e-05\n",
            "Epoch: 9380 | Loss: 4.9667061830405146e-05 | Test loss: 5.067586971563287e-05\n",
            "Epoch: 9390 | Loss: 4.9667061830405146e-05 | Test loss: 5.067586971563287e-05\n",
            "Epoch: 9400 | Loss: 4.9667061830405146e-05 | Test loss: 5.067586971563287e-05\n",
            "Epoch: 9410 | Loss: 4.9667061830405146e-05 | Test loss: 5.067586971563287e-05\n",
            "Epoch: 9420 | Loss: 4.9667061830405146e-05 | Test loss: 5.067586971563287e-05\n",
            "Epoch: 9430 | Loss: 4.9667061830405146e-05 | Test loss: 5.067586971563287e-05\n",
            "Epoch: 9440 | Loss: 4.9667061830405146e-05 | Test loss: 5.067586971563287e-05\n",
            "Epoch: 9450 | Loss: 4.9667061830405146e-05 | Test loss: 5.067586971563287e-05\n",
            "Epoch: 9460 | Loss: 4.9667061830405146e-05 | Test loss: 5.067586971563287e-05\n",
            "Epoch: 9470 | Loss: 4.9667061830405146e-05 | Test loss: 5.067586971563287e-05\n",
            "Epoch: 9480 | Loss: 4.9667061830405146e-05 | Test loss: 5.067586971563287e-05\n",
            "Epoch: 9490 | Loss: 4.9667061830405146e-05 | Test loss: 5.067586971563287e-05\n",
            "Epoch: 9500 | Loss: 4.9667061830405146e-05 | Test loss: 5.067586971563287e-05\n",
            "Epoch: 9510 | Loss: 4.9667061830405146e-05 | Test loss: 5.067586971563287e-05\n",
            "Epoch: 9520 | Loss: 4.9667061830405146e-05 | Test loss: 5.067586971563287e-05\n",
            "Epoch: 9530 | Loss: 4.9667061830405146e-05 | Test loss: 5.067586971563287e-05\n",
            "Epoch: 9540 | Loss: 4.9667061830405146e-05 | Test loss: 5.067586971563287e-05\n",
            "Epoch: 9550 | Loss: 4.9667061830405146e-05 | Test loss: 5.067586971563287e-05\n",
            "Epoch: 9560 | Loss: 4.9667061830405146e-05 | Test loss: 5.067586971563287e-05\n",
            "Epoch: 9570 | Loss: 4.9667061830405146e-05 | Test loss: 5.067586971563287e-05\n",
            "Epoch: 9580 | Loss: 4.9667061830405146e-05 | Test loss: 5.067586971563287e-05\n",
            "Epoch: 9590 | Loss: 4.9667061830405146e-05 | Test loss: 5.067586971563287e-05\n",
            "Epoch: 9600 | Loss: 4.9667061830405146e-05 | Test loss: 5.067586971563287e-05\n",
            "Epoch: 9610 | Loss: 4.9667061830405146e-05 | Test loss: 5.067586971563287e-05\n",
            "Epoch: 9620 | Loss: 4.9667061830405146e-05 | Test loss: 5.067586971563287e-05\n",
            "Epoch: 9630 | Loss: 4.9667061830405146e-05 | Test loss: 5.067586971563287e-05\n",
            "Epoch: 9640 | Loss: 4.9667061830405146e-05 | Test loss: 5.067586971563287e-05\n",
            "Epoch: 9650 | Loss: 4.9667061830405146e-05 | Test loss: 5.067586971563287e-05\n",
            "Epoch: 9660 | Loss: 4.9667061830405146e-05 | Test loss: 5.067586971563287e-05\n",
            "Epoch: 9670 | Loss: 4.9667061830405146e-05 | Test loss: 5.067586971563287e-05\n",
            "Epoch: 9680 | Loss: 4.9667061830405146e-05 | Test loss: 5.067586971563287e-05\n",
            "Epoch: 9690 | Loss: 4.9667061830405146e-05 | Test loss: 5.067586971563287e-05\n",
            "Epoch: 9700 | Loss: 4.9667061830405146e-05 | Test loss: 5.067586971563287e-05\n",
            "Epoch: 9710 | Loss: 4.9667061830405146e-05 | Test loss: 5.067586971563287e-05\n",
            "Epoch: 9720 | Loss: 4.9667061830405146e-05 | Test loss: 5.067586971563287e-05\n",
            "Epoch: 9730 | Loss: 4.9667061830405146e-05 | Test loss: 5.067586971563287e-05\n",
            "Epoch: 9740 | Loss: 4.9667061830405146e-05 | Test loss: 5.067586971563287e-05\n",
            "Epoch: 9750 | Loss: 4.9667061830405146e-05 | Test loss: 5.067586971563287e-05\n",
            "Epoch: 9760 | Loss: 4.9667061830405146e-05 | Test loss: 5.067586971563287e-05\n",
            "Epoch: 9770 | Loss: 4.9667061830405146e-05 | Test loss: 5.067586971563287e-05\n",
            "Epoch: 9780 | Loss: 4.9667061830405146e-05 | Test loss: 5.067586971563287e-05\n",
            "Epoch: 9790 | Loss: 4.9667061830405146e-05 | Test loss: 5.067586971563287e-05\n",
            "Epoch: 9800 | Loss: 4.9667061830405146e-05 | Test loss: 5.067586971563287e-05\n",
            "Epoch: 9810 | Loss: 4.9667061830405146e-05 | Test loss: 5.067586971563287e-05\n",
            "Epoch: 9820 | Loss: 4.9667061830405146e-05 | Test loss: 5.067586971563287e-05\n",
            "Epoch: 9830 | Loss: 4.9667061830405146e-05 | Test loss: 5.067586971563287e-05\n",
            "Epoch: 9840 | Loss: 4.9667061830405146e-05 | Test loss: 5.067586971563287e-05\n",
            "Epoch: 9850 | Loss: 4.9667061830405146e-05 | Test loss: 5.067586971563287e-05\n",
            "Epoch: 9860 | Loss: 4.9667061830405146e-05 | Test loss: 5.067586971563287e-05\n",
            "Epoch: 9870 | Loss: 4.9667061830405146e-05 | Test loss: 5.067586971563287e-05\n",
            "Epoch: 9880 | Loss: 4.9667061830405146e-05 | Test loss: 5.067586971563287e-05\n",
            "Epoch: 9890 | Loss: 4.9667061830405146e-05 | Test loss: 5.067586971563287e-05\n",
            "Epoch: 9900 | Loss: 4.9667061830405146e-05 | Test loss: 5.067586971563287e-05\n",
            "Epoch: 9910 | Loss: 4.9667061830405146e-05 | Test loss: 5.067586971563287e-05\n",
            "Epoch: 9920 | Loss: 4.9667061830405146e-05 | Test loss: 5.067586971563287e-05\n",
            "Epoch: 9930 | Loss: 4.9667061830405146e-05 | Test loss: 5.067586971563287e-05\n",
            "Epoch: 9940 | Loss: 4.9667061830405146e-05 | Test loss: 5.067586971563287e-05\n",
            "Epoch: 9950 | Loss: 4.9667061830405146e-05 | Test loss: 5.067586971563287e-05\n",
            "Epoch: 9960 | Loss: 4.9667061830405146e-05 | Test loss: 5.067586971563287e-05\n",
            "Epoch: 9970 | Loss: 4.9667061830405146e-05 | Test loss: 5.067586971563287e-05\n",
            "Epoch: 9980 | Loss: 4.9667061830405146e-05 | Test loss: 5.067586971563287e-05\n",
            "Epoch: 9990 | Loss: 4.9667061830405146e-05 | Test loss: 5.067586971563287e-05\n",
            "Epoch: 10000 | Loss: 4.9667061830405146e-05 | Test loss: 5.067586971563287e-05\n",
            "Epoch: 10010 | Loss: 4.9667061830405146e-05 | Test loss: 5.067586971563287e-05\n",
            "Epoch: 10020 | Loss: 4.9667061830405146e-05 | Test loss: 5.067586971563287e-05\n",
            "Epoch: 10030 | Loss: 4.9667061830405146e-05 | Test loss: 5.067586971563287e-05\n",
            "Epoch: 10040 | Loss: 4.9667061830405146e-05 | Test loss: 5.067586971563287e-05\n",
            "Epoch: 10050 | Loss: 4.9667061830405146e-05 | Test loss: 5.067586971563287e-05\n",
            "Epoch: 10060 | Loss: 4.9667061830405146e-05 | Test loss: 5.067586971563287e-05\n",
            "Epoch: 10070 | Loss: 4.9667061830405146e-05 | Test loss: 5.067586971563287e-05\n",
            "Epoch: 10080 | Loss: 4.9667061830405146e-05 | Test loss: 5.067586971563287e-05\n",
            "Epoch: 10090 | Loss: 4.9667061830405146e-05 | Test loss: 5.067586971563287e-05\n",
            "Epoch: 10100 | Loss: 4.9667061830405146e-05 | Test loss: 5.067586971563287e-05\n",
            "Epoch: 10110 | Loss: 4.9667061830405146e-05 | Test loss: 5.067586971563287e-05\n",
            "Epoch: 10120 | Loss: 4.9667061830405146e-05 | Test loss: 5.067586971563287e-05\n",
            "Epoch: 10130 | Loss: 4.9667061830405146e-05 | Test loss: 5.067586971563287e-05\n",
            "Epoch: 10140 | Loss: 4.9667061830405146e-05 | Test loss: 5.067586971563287e-05\n",
            "Epoch: 10150 | Loss: 4.9667061830405146e-05 | Test loss: 5.067586971563287e-05\n",
            "Epoch: 10160 | Loss: 4.9667061830405146e-05 | Test loss: 5.067586971563287e-05\n",
            "Epoch: 10170 | Loss: 4.9667061830405146e-05 | Test loss: 5.067586971563287e-05\n",
            "Epoch: 10180 | Loss: 4.9667061830405146e-05 | Test loss: 5.067586971563287e-05\n",
            "Epoch: 10190 | Loss: 4.9667061830405146e-05 | Test loss: 5.067586971563287e-05\n",
            "Epoch: 10200 | Loss: 4.9667061830405146e-05 | Test loss: 5.067586971563287e-05\n",
            "Epoch: 10210 | Loss: 4.9667061830405146e-05 | Test loss: 5.067586971563287e-05\n",
            "Epoch: 10220 | Loss: 4.9667061830405146e-05 | Test loss: 5.067586971563287e-05\n",
            "Epoch: 10230 | Loss: 4.9667061830405146e-05 | Test loss: 5.067586971563287e-05\n",
            "Epoch: 10240 | Loss: 4.9667061830405146e-05 | Test loss: 5.067586971563287e-05\n",
            "Epoch: 10250 | Loss: 4.9667061830405146e-05 | Test loss: 5.067586971563287e-05\n",
            "Epoch: 10260 | Loss: 4.9667061830405146e-05 | Test loss: 5.067586971563287e-05\n",
            "Epoch: 10270 | Loss: 4.9667061830405146e-05 | Test loss: 5.067586971563287e-05\n",
            "Epoch: 10280 | Loss: 4.9667061830405146e-05 | Test loss: 5.067586971563287e-05\n",
            "Epoch: 10290 | Loss: 4.9667061830405146e-05 | Test loss: 5.067586971563287e-05\n",
            "Epoch: 10300 | Loss: 4.9667061830405146e-05 | Test loss: 5.067586971563287e-05\n",
            "Epoch: 10310 | Loss: 4.9667061830405146e-05 | Test loss: 5.067586971563287e-05\n",
            "Epoch: 10320 | Loss: 4.9667061830405146e-05 | Test loss: 5.067586971563287e-05\n",
            "Epoch: 10330 | Loss: 4.9667061830405146e-05 | Test loss: 5.067586971563287e-05\n",
            "Epoch: 10340 | Loss: 4.9667061830405146e-05 | Test loss: 5.067586971563287e-05\n",
            "Epoch: 10350 | Loss: 4.9667061830405146e-05 | Test loss: 5.067586971563287e-05\n",
            "Epoch: 10360 | Loss: 4.9667061830405146e-05 | Test loss: 5.067586971563287e-05\n",
            "Epoch: 10370 | Loss: 4.9667061830405146e-05 | Test loss: 5.067586971563287e-05\n",
            "Epoch: 10380 | Loss: 4.9667061830405146e-05 | Test loss: 5.067586971563287e-05\n",
            "Epoch: 10390 | Loss: 4.9667061830405146e-05 | Test loss: 5.067586971563287e-05\n",
            "Epoch: 10400 | Loss: 4.9667061830405146e-05 | Test loss: 5.067586971563287e-05\n",
            "Epoch: 10410 | Loss: 4.9667061830405146e-05 | Test loss: 5.067586971563287e-05\n",
            "Epoch: 10420 | Loss: 4.9667061830405146e-05 | Test loss: 5.067586971563287e-05\n",
            "Epoch: 10430 | Loss: 4.9667061830405146e-05 | Test loss: 5.067586971563287e-05\n",
            "Epoch: 10440 | Loss: 4.9667061830405146e-05 | Test loss: 5.067586971563287e-05\n",
            "Epoch: 10450 | Loss: 4.9667061830405146e-05 | Test loss: 5.067586971563287e-05\n",
            "Epoch: 10460 | Loss: 4.9667061830405146e-05 | Test loss: 5.067586971563287e-05\n",
            "Epoch: 10470 | Loss: 4.9667061830405146e-05 | Test loss: 5.067586971563287e-05\n",
            "Epoch: 10480 | Loss: 4.9667061830405146e-05 | Test loss: 5.067586971563287e-05\n",
            "Epoch: 10490 | Loss: 4.9667061830405146e-05 | Test loss: 5.067586971563287e-05\n",
            "Epoch: 10500 | Loss: 4.9667061830405146e-05 | Test loss: 5.067586971563287e-05\n",
            "Epoch: 10510 | Loss: 4.9667061830405146e-05 | Test loss: 5.067586971563287e-05\n",
            "Epoch: 10520 | Loss: 4.9667061830405146e-05 | Test loss: 5.067586971563287e-05\n",
            "Epoch: 10530 | Loss: 4.9667061830405146e-05 | Test loss: 5.067586971563287e-05\n",
            "Epoch: 10540 | Loss: 4.9667061830405146e-05 | Test loss: 5.067586971563287e-05\n",
            "Epoch: 10550 | Loss: 4.9667061830405146e-05 | Test loss: 5.067586971563287e-05\n",
            "Epoch: 10560 | Loss: 4.9667061830405146e-05 | Test loss: 5.067586971563287e-05\n",
            "Epoch: 10570 | Loss: 4.9667061830405146e-05 | Test loss: 5.067586971563287e-05\n",
            "Epoch: 10580 | Loss: 4.9667061830405146e-05 | Test loss: 5.067586971563287e-05\n",
            "Epoch: 10590 | Loss: 4.9667061830405146e-05 | Test loss: 5.067586971563287e-05\n",
            "Epoch: 10600 | Loss: 4.9667061830405146e-05 | Test loss: 5.067586971563287e-05\n",
            "Epoch: 10610 | Loss: 4.9667061830405146e-05 | Test loss: 5.067586971563287e-05\n",
            "Epoch: 10620 | Loss: 4.9667061830405146e-05 | Test loss: 5.067586971563287e-05\n",
            "Epoch: 10630 | Loss: 4.9667061830405146e-05 | Test loss: 5.067586971563287e-05\n",
            "Epoch: 10640 | Loss: 4.9667061830405146e-05 | Test loss: 5.067586971563287e-05\n",
            "Epoch: 10650 | Loss: 4.9667061830405146e-05 | Test loss: 5.067586971563287e-05\n",
            "Epoch: 10660 | Loss: 4.9667061830405146e-05 | Test loss: 5.067586971563287e-05\n",
            "Epoch: 10670 | Loss: 4.9667061830405146e-05 | Test loss: 5.067586971563287e-05\n",
            "Epoch: 10680 | Loss: 4.9667061830405146e-05 | Test loss: 5.067586971563287e-05\n",
            "Epoch: 10690 | Loss: 4.9667061830405146e-05 | Test loss: 5.067586971563287e-05\n",
            "Epoch: 10700 | Loss: 4.9667061830405146e-05 | Test loss: 5.067586971563287e-05\n",
            "Epoch: 10710 | Loss: 4.9667061830405146e-05 | Test loss: 5.067586971563287e-05\n",
            "Epoch: 10720 | Loss: 4.9667061830405146e-05 | Test loss: 5.067586971563287e-05\n",
            "Epoch: 10730 | Loss: 4.9667061830405146e-05 | Test loss: 5.067586971563287e-05\n",
            "Epoch: 10740 | Loss: 4.9667061830405146e-05 | Test loss: 5.067586971563287e-05\n",
            "Epoch: 10750 | Loss: 4.9667061830405146e-05 | Test loss: 5.067586971563287e-05\n",
            "Epoch: 10760 | Loss: 4.9667061830405146e-05 | Test loss: 5.067586971563287e-05\n",
            "Epoch: 10770 | Loss: 4.9667061830405146e-05 | Test loss: 5.067586971563287e-05\n",
            "Epoch: 10780 | Loss: 4.9667061830405146e-05 | Test loss: 5.067586971563287e-05\n",
            "Epoch: 10790 | Loss: 4.9667061830405146e-05 | Test loss: 5.067586971563287e-05\n",
            "Epoch: 10800 | Loss: 4.9667061830405146e-05 | Test loss: 5.067586971563287e-05\n",
            "Epoch: 10810 | Loss: 4.9667061830405146e-05 | Test loss: 5.067586971563287e-05\n",
            "Epoch: 10820 | Loss: 4.9667061830405146e-05 | Test loss: 5.067586971563287e-05\n",
            "Epoch: 10830 | Loss: 4.9667061830405146e-05 | Test loss: 5.067586971563287e-05\n",
            "Epoch: 10840 | Loss: 4.9667061830405146e-05 | Test loss: 5.067586971563287e-05\n",
            "Epoch: 10850 | Loss: 4.9667061830405146e-05 | Test loss: 5.067586971563287e-05\n",
            "Epoch: 10860 | Loss: 4.9667061830405146e-05 | Test loss: 5.067586971563287e-05\n",
            "Epoch: 10870 | Loss: 4.9667061830405146e-05 | Test loss: 5.067586971563287e-05\n",
            "Epoch: 10880 | Loss: 4.9667061830405146e-05 | Test loss: 5.067586971563287e-05\n",
            "Epoch: 10890 | Loss: 4.9667061830405146e-05 | Test loss: 5.067586971563287e-05\n",
            "Epoch: 10900 | Loss: 4.9667061830405146e-05 | Test loss: 5.067586971563287e-05\n",
            "Epoch: 10910 | Loss: 4.9667061830405146e-05 | Test loss: 5.067586971563287e-05\n",
            "Epoch: 10920 | Loss: 4.9667061830405146e-05 | Test loss: 5.067586971563287e-05\n",
            "Epoch: 10930 | Loss: 4.9667061830405146e-05 | Test loss: 5.067586971563287e-05\n",
            "Epoch: 10940 | Loss: 4.9667061830405146e-05 | Test loss: 5.067586971563287e-05\n",
            "Epoch: 10950 | Loss: 4.9667061830405146e-05 | Test loss: 5.067586971563287e-05\n",
            "Epoch: 10960 | Loss: 4.9667061830405146e-05 | Test loss: 5.067586971563287e-05\n",
            "Epoch: 10970 | Loss: 4.9667061830405146e-05 | Test loss: 5.067586971563287e-05\n",
            "Epoch: 10980 | Loss: 4.9667061830405146e-05 | Test loss: 5.067586971563287e-05\n",
            "Epoch: 10990 | Loss: 4.9667061830405146e-05 | Test loss: 5.067586971563287e-05\n",
            "Epoch: 11000 | Loss: 4.9667061830405146e-05 | Test loss: 5.067586971563287e-05\n",
            "Epoch: 11010 | Loss: 4.9667061830405146e-05 | Test loss: 5.067586971563287e-05\n",
            "Epoch: 11020 | Loss: 4.9667061830405146e-05 | Test loss: 5.067586971563287e-05\n",
            "Epoch: 11030 | Loss: 4.9667061830405146e-05 | Test loss: 5.067586971563287e-05\n",
            "Epoch: 11040 | Loss: 4.9667061830405146e-05 | Test loss: 5.067586971563287e-05\n",
            "Epoch: 11050 | Loss: 4.9667061830405146e-05 | Test loss: 5.067586971563287e-05\n",
            "Epoch: 11060 | Loss: 4.9667061830405146e-05 | Test loss: 5.067586971563287e-05\n",
            "Epoch: 11070 | Loss: 4.9667061830405146e-05 | Test loss: 5.067586971563287e-05\n",
            "Epoch: 11080 | Loss: 4.9667061830405146e-05 | Test loss: 5.067586971563287e-05\n",
            "Epoch: 11090 | Loss: 4.9667061830405146e-05 | Test loss: 5.067586971563287e-05\n",
            "Epoch: 11100 | Loss: 4.9667061830405146e-05 | Test loss: 5.067586971563287e-05\n",
            "Epoch: 11110 | Loss: 4.9667061830405146e-05 | Test loss: 5.067586971563287e-05\n",
            "Epoch: 11120 | Loss: 4.9667061830405146e-05 | Test loss: 5.067586971563287e-05\n",
            "Epoch: 11130 | Loss: 4.9667061830405146e-05 | Test loss: 5.067586971563287e-05\n",
            "Epoch: 11140 | Loss: 4.9667061830405146e-05 | Test loss: 5.067586971563287e-05\n",
            "Epoch: 11150 | Loss: 4.9667061830405146e-05 | Test loss: 5.067586971563287e-05\n",
            "Epoch: 11160 | Loss: 4.9667061830405146e-05 | Test loss: 5.067586971563287e-05\n",
            "Epoch: 11170 | Loss: 4.9667061830405146e-05 | Test loss: 5.067586971563287e-05\n",
            "Epoch: 11180 | Loss: 4.9667061830405146e-05 | Test loss: 5.067586971563287e-05\n",
            "Epoch: 11190 | Loss: 4.9667061830405146e-05 | Test loss: 5.067586971563287e-05\n",
            "Epoch: 11200 | Loss: 4.9667061830405146e-05 | Test loss: 5.067586971563287e-05\n",
            "Epoch: 11210 | Loss: 4.9667061830405146e-05 | Test loss: 5.067586971563287e-05\n",
            "Epoch: 11220 | Loss: 4.9667061830405146e-05 | Test loss: 5.067586971563287e-05\n",
            "Epoch: 11230 | Loss: 4.9667061830405146e-05 | Test loss: 5.067586971563287e-05\n",
            "Epoch: 11240 | Loss: 4.9667061830405146e-05 | Test loss: 5.067586971563287e-05\n",
            "Epoch: 11250 | Loss: 4.9667061830405146e-05 | Test loss: 5.067586971563287e-05\n",
            "Epoch: 11260 | Loss: 4.9667061830405146e-05 | Test loss: 5.067586971563287e-05\n",
            "Epoch: 11270 | Loss: 4.9667061830405146e-05 | Test loss: 5.067586971563287e-05\n",
            "Epoch: 11280 | Loss: 4.9667061830405146e-05 | Test loss: 5.067586971563287e-05\n",
            "Epoch: 11290 | Loss: 4.9667061830405146e-05 | Test loss: 5.067586971563287e-05\n",
            "Epoch: 11300 | Loss: 4.9667061830405146e-05 | Test loss: 5.067586971563287e-05\n",
            "Epoch: 11310 | Loss: 4.9667061830405146e-05 | Test loss: 5.067586971563287e-05\n",
            "Epoch: 11320 | Loss: 4.9667061830405146e-05 | Test loss: 5.067586971563287e-05\n",
            "Epoch: 11330 | Loss: 4.9667061830405146e-05 | Test loss: 5.067586971563287e-05\n",
            "Epoch: 11340 | Loss: 4.9667061830405146e-05 | Test loss: 5.067586971563287e-05\n",
            "Epoch: 11350 | Loss: 4.9667061830405146e-05 | Test loss: 5.067586971563287e-05\n",
            "Epoch: 11360 | Loss: 4.9667061830405146e-05 | Test loss: 5.067586971563287e-05\n",
            "Epoch: 11370 | Loss: 4.9667061830405146e-05 | Test loss: 5.067586971563287e-05\n",
            "Epoch: 11380 | Loss: 4.9667061830405146e-05 | Test loss: 5.067586971563287e-05\n",
            "Epoch: 11390 | Loss: 4.9667061830405146e-05 | Test loss: 5.067586971563287e-05\n",
            "Epoch: 11400 | Loss: 4.9667061830405146e-05 | Test loss: 5.067586971563287e-05\n",
            "Epoch: 11410 | Loss: 4.9667061830405146e-05 | Test loss: 5.067586971563287e-05\n",
            "Epoch: 11420 | Loss: 4.9667061830405146e-05 | Test loss: 5.067586971563287e-05\n",
            "Epoch: 11430 | Loss: 4.9667061830405146e-05 | Test loss: 5.067586971563287e-05\n",
            "Epoch: 11440 | Loss: 4.9667061830405146e-05 | Test loss: 5.067586971563287e-05\n",
            "Epoch: 11450 | Loss: 4.9667061830405146e-05 | Test loss: 5.067586971563287e-05\n",
            "Epoch: 11460 | Loss: 4.9667061830405146e-05 | Test loss: 5.067586971563287e-05\n",
            "Epoch: 11470 | Loss: 4.9667061830405146e-05 | Test loss: 5.067586971563287e-05\n",
            "Epoch: 11480 | Loss: 4.9667061830405146e-05 | Test loss: 5.067586971563287e-05\n",
            "Epoch: 11490 | Loss: 4.9667061830405146e-05 | Test loss: 5.067586971563287e-05\n",
            "Epoch: 11500 | Loss: 4.9667061830405146e-05 | Test loss: 5.067586971563287e-05\n",
            "Epoch: 11510 | Loss: 4.9667061830405146e-05 | Test loss: 5.067586971563287e-05\n",
            "Epoch: 11520 | Loss: 4.9667061830405146e-05 | Test loss: 5.067586971563287e-05\n",
            "Epoch: 11530 | Loss: 4.9667061830405146e-05 | Test loss: 5.067586971563287e-05\n",
            "Epoch: 11540 | Loss: 4.9667061830405146e-05 | Test loss: 5.067586971563287e-05\n",
            "Epoch: 11550 | Loss: 4.9667061830405146e-05 | Test loss: 5.067586971563287e-05\n",
            "Epoch: 11560 | Loss: 4.9667061830405146e-05 | Test loss: 5.067586971563287e-05\n",
            "Epoch: 11570 | Loss: 4.9667061830405146e-05 | Test loss: 5.067586971563287e-05\n",
            "Epoch: 11580 | Loss: 4.9667061830405146e-05 | Test loss: 5.067586971563287e-05\n",
            "Epoch: 11590 | Loss: 4.9667061830405146e-05 | Test loss: 5.067586971563287e-05\n",
            "Epoch: 11600 | Loss: 4.9667061830405146e-05 | Test loss: 5.067586971563287e-05\n",
            "Epoch: 11610 | Loss: 4.9667061830405146e-05 | Test loss: 5.067586971563287e-05\n",
            "Epoch: 11620 | Loss: 4.9667061830405146e-05 | Test loss: 5.067586971563287e-05\n",
            "Epoch: 11630 | Loss: 4.9667061830405146e-05 | Test loss: 5.067586971563287e-05\n",
            "Epoch: 11640 | Loss: 4.9667061830405146e-05 | Test loss: 5.067586971563287e-05\n",
            "Epoch: 11650 | Loss: 4.9667061830405146e-05 | Test loss: 5.067586971563287e-05\n",
            "Epoch: 11660 | Loss: 4.9667061830405146e-05 | Test loss: 5.067586971563287e-05\n",
            "Epoch: 11670 | Loss: 4.9667061830405146e-05 | Test loss: 5.067586971563287e-05\n",
            "Epoch: 11680 | Loss: 4.9667061830405146e-05 | Test loss: 5.067586971563287e-05\n",
            "Epoch: 11690 | Loss: 4.9667061830405146e-05 | Test loss: 5.067586971563287e-05\n",
            "Epoch: 11700 | Loss: 4.9667061830405146e-05 | Test loss: 5.067586971563287e-05\n",
            "Epoch: 11710 | Loss: 4.9667061830405146e-05 | Test loss: 5.067586971563287e-05\n",
            "Epoch: 11720 | Loss: 4.9667061830405146e-05 | Test loss: 5.067586971563287e-05\n",
            "Epoch: 11730 | Loss: 4.9667061830405146e-05 | Test loss: 5.067586971563287e-05\n",
            "Epoch: 11740 | Loss: 4.9667061830405146e-05 | Test loss: 5.067586971563287e-05\n",
            "Epoch: 11750 | Loss: 4.9667061830405146e-05 | Test loss: 5.067586971563287e-05\n",
            "Epoch: 11760 | Loss: 4.9667061830405146e-05 | Test loss: 5.067586971563287e-05\n",
            "Epoch: 11770 | Loss: 4.9667061830405146e-05 | Test loss: 5.067586971563287e-05\n",
            "Epoch: 11780 | Loss: 4.9667061830405146e-05 | Test loss: 5.067586971563287e-05\n",
            "Epoch: 11790 | Loss: 4.9667061830405146e-05 | Test loss: 5.067586971563287e-05\n",
            "Epoch: 11800 | Loss: 4.9667061830405146e-05 | Test loss: 5.067586971563287e-05\n",
            "Epoch: 11810 | Loss: 4.9667061830405146e-05 | Test loss: 5.067586971563287e-05\n",
            "Epoch: 11820 | Loss: 4.9667061830405146e-05 | Test loss: 5.067586971563287e-05\n",
            "Epoch: 11830 | Loss: 4.9667061830405146e-05 | Test loss: 5.067586971563287e-05\n",
            "Epoch: 11840 | Loss: 4.9667061830405146e-05 | Test loss: 5.067586971563287e-05\n",
            "Epoch: 11850 | Loss: 4.9667061830405146e-05 | Test loss: 5.067586971563287e-05\n",
            "Epoch: 11860 | Loss: 4.9667061830405146e-05 | Test loss: 5.067586971563287e-05\n",
            "Epoch: 11870 | Loss: 4.9667061830405146e-05 | Test loss: 5.067586971563287e-05\n",
            "Epoch: 11880 | Loss: 4.9667061830405146e-05 | Test loss: 5.067586971563287e-05\n",
            "Epoch: 11890 | Loss: 4.9667061830405146e-05 | Test loss: 5.067586971563287e-05\n",
            "Epoch: 11900 | Loss: 4.9667061830405146e-05 | Test loss: 5.067586971563287e-05\n",
            "Epoch: 11910 | Loss: 4.9667061830405146e-05 | Test loss: 5.067586971563287e-05\n",
            "Epoch: 11920 | Loss: 4.9667061830405146e-05 | Test loss: 5.067586971563287e-05\n",
            "Epoch: 11930 | Loss: 4.9667061830405146e-05 | Test loss: 5.067586971563287e-05\n",
            "Epoch: 11940 | Loss: 4.9667061830405146e-05 | Test loss: 5.067586971563287e-05\n",
            "Epoch: 11950 | Loss: 4.9667061830405146e-05 | Test loss: 5.067586971563287e-05\n",
            "Epoch: 11960 | Loss: 4.9667061830405146e-05 | Test loss: 5.067586971563287e-05\n",
            "Epoch: 11970 | Loss: 4.9667061830405146e-05 | Test loss: 5.067586971563287e-05\n",
            "Epoch: 11980 | Loss: 4.9667061830405146e-05 | Test loss: 5.067586971563287e-05\n",
            "Epoch: 11990 | Loss: 4.9667061830405146e-05 | Test loss: 5.067586971563287e-05\n",
            "Epoch: 12000 | Loss: 4.9667061830405146e-05 | Test loss: 5.067586971563287e-05\n",
            "Epoch: 12010 | Loss: 4.9667061830405146e-05 | Test loss: 5.067586971563287e-05\n",
            "Epoch: 12020 | Loss: 4.9667061830405146e-05 | Test loss: 5.067586971563287e-05\n",
            "Epoch: 12030 | Loss: 4.9667061830405146e-05 | Test loss: 5.067586971563287e-05\n",
            "Epoch: 12040 | Loss: 4.9667061830405146e-05 | Test loss: 5.067586971563287e-05\n",
            "Epoch: 12050 | Loss: 4.9667061830405146e-05 | Test loss: 5.067586971563287e-05\n",
            "Epoch: 12060 | Loss: 4.9667061830405146e-05 | Test loss: 5.067586971563287e-05\n",
            "Epoch: 12070 | Loss: 4.9667061830405146e-05 | Test loss: 5.067586971563287e-05\n",
            "Epoch: 12080 | Loss: 4.9667061830405146e-05 | Test loss: 5.067586971563287e-05\n",
            "Epoch: 12090 | Loss: 4.9667061830405146e-05 | Test loss: 5.067586971563287e-05\n",
            "Epoch: 12100 | Loss: 4.9667061830405146e-05 | Test loss: 5.067586971563287e-05\n",
            "Epoch: 12110 | Loss: 4.9667061830405146e-05 | Test loss: 5.067586971563287e-05\n",
            "Epoch: 12120 | Loss: 4.9667061830405146e-05 | Test loss: 5.067586971563287e-05\n",
            "Epoch: 12130 | Loss: 4.9667061830405146e-05 | Test loss: 5.067586971563287e-05\n",
            "Epoch: 12140 | Loss: 4.9667061830405146e-05 | Test loss: 5.067586971563287e-05\n",
            "Epoch: 12150 | Loss: 4.9667061830405146e-05 | Test loss: 5.067586971563287e-05\n",
            "Epoch: 12160 | Loss: 4.9667061830405146e-05 | Test loss: 5.067586971563287e-05\n",
            "Epoch: 12170 | Loss: 4.9667061830405146e-05 | Test loss: 5.067586971563287e-05\n",
            "Epoch: 12180 | Loss: 4.9667061830405146e-05 | Test loss: 5.067586971563287e-05\n",
            "Epoch: 12190 | Loss: 4.9667061830405146e-05 | Test loss: 5.067586971563287e-05\n",
            "Epoch: 12200 | Loss: 4.9667061830405146e-05 | Test loss: 5.067586971563287e-05\n",
            "Epoch: 12210 | Loss: 4.9667061830405146e-05 | Test loss: 5.067586971563287e-05\n",
            "Epoch: 12220 | Loss: 4.9667061830405146e-05 | Test loss: 5.067586971563287e-05\n",
            "Epoch: 12230 | Loss: 4.9667061830405146e-05 | Test loss: 5.067586971563287e-05\n",
            "Epoch: 12240 | Loss: 4.9667061830405146e-05 | Test loss: 5.067586971563287e-05\n",
            "Epoch: 12250 | Loss: 4.9667061830405146e-05 | Test loss: 5.067586971563287e-05\n",
            "Epoch: 12260 | Loss: 4.9667061830405146e-05 | Test loss: 5.067586971563287e-05\n",
            "Epoch: 12270 | Loss: 4.9667061830405146e-05 | Test loss: 5.067586971563287e-05\n",
            "Epoch: 12280 | Loss: 4.9667061830405146e-05 | Test loss: 5.067586971563287e-05\n",
            "Epoch: 12290 | Loss: 4.9667061830405146e-05 | Test loss: 5.067586971563287e-05\n",
            "Epoch: 12300 | Loss: 4.9667061830405146e-05 | Test loss: 5.067586971563287e-05\n",
            "Epoch: 12310 | Loss: 4.9667061830405146e-05 | Test loss: 5.067586971563287e-05\n",
            "Epoch: 12320 | Loss: 4.9667061830405146e-05 | Test loss: 5.067586971563287e-05\n",
            "Epoch: 12330 | Loss: 4.9667061830405146e-05 | Test loss: 5.067586971563287e-05\n",
            "Epoch: 12340 | Loss: 4.9667061830405146e-05 | Test loss: 5.067586971563287e-05\n",
            "Epoch: 12350 | Loss: 4.9667061830405146e-05 | Test loss: 5.067586971563287e-05\n",
            "Epoch: 12360 | Loss: 4.9667061830405146e-05 | Test loss: 5.067586971563287e-05\n",
            "Epoch: 12370 | Loss: 4.9667061830405146e-05 | Test loss: 5.067586971563287e-05\n",
            "Epoch: 12380 | Loss: 4.9667061830405146e-05 | Test loss: 5.067586971563287e-05\n",
            "Epoch: 12390 | Loss: 4.9667061830405146e-05 | Test loss: 5.067586971563287e-05\n",
            "Epoch: 12400 | Loss: 4.9667061830405146e-05 | Test loss: 5.067586971563287e-05\n",
            "Epoch: 12410 | Loss: 4.9667061830405146e-05 | Test loss: 5.067586971563287e-05\n",
            "Epoch: 12420 | Loss: 4.9667061830405146e-05 | Test loss: 5.067586971563287e-05\n",
            "Epoch: 12430 | Loss: 4.9667061830405146e-05 | Test loss: 5.067586971563287e-05\n",
            "Epoch: 12440 | Loss: 4.9667061830405146e-05 | Test loss: 5.067586971563287e-05\n",
            "Epoch: 12450 | Loss: 4.9667061830405146e-05 | Test loss: 5.067586971563287e-05\n",
            "Epoch: 12460 | Loss: 4.9667061830405146e-05 | Test loss: 5.067586971563287e-05\n",
            "Epoch: 12470 | Loss: 4.9667061830405146e-05 | Test loss: 5.067586971563287e-05\n",
            "Epoch: 12480 | Loss: 4.9667061830405146e-05 | Test loss: 5.067586971563287e-05\n",
            "Epoch: 12490 | Loss: 4.9667061830405146e-05 | Test loss: 5.067586971563287e-05\n",
            "Epoch: 12500 | Loss: 4.9667061830405146e-05 | Test loss: 5.067586971563287e-05\n",
            "Epoch: 12510 | Loss: 4.9667061830405146e-05 | Test loss: 5.067586971563287e-05\n",
            "Epoch: 12520 | Loss: 4.9667061830405146e-05 | Test loss: 5.067586971563287e-05\n",
            "Epoch: 12530 | Loss: 4.9667061830405146e-05 | Test loss: 5.067586971563287e-05\n",
            "Epoch: 12540 | Loss: 4.9667061830405146e-05 | Test loss: 5.067586971563287e-05\n",
            "Epoch: 12550 | Loss: 4.9667061830405146e-05 | Test loss: 5.067586971563287e-05\n",
            "Epoch: 12560 | Loss: 4.9667061830405146e-05 | Test loss: 5.067586971563287e-05\n",
            "Epoch: 12570 | Loss: 4.9667061830405146e-05 | Test loss: 5.067586971563287e-05\n",
            "Epoch: 12580 | Loss: 4.9667061830405146e-05 | Test loss: 5.067586971563287e-05\n",
            "Epoch: 12590 | Loss: 4.9667061830405146e-05 | Test loss: 5.067586971563287e-05\n",
            "Epoch: 12600 | Loss: 4.9667061830405146e-05 | Test loss: 5.067586971563287e-05\n",
            "Epoch: 12610 | Loss: 4.9667061830405146e-05 | Test loss: 5.067586971563287e-05\n",
            "Epoch: 12620 | Loss: 4.9667061830405146e-05 | Test loss: 5.067586971563287e-05\n",
            "Epoch: 12630 | Loss: 4.9667061830405146e-05 | Test loss: 5.067586971563287e-05\n",
            "Epoch: 12640 | Loss: 4.9667061830405146e-05 | Test loss: 5.067586971563287e-05\n",
            "Epoch: 12650 | Loss: 4.9667061830405146e-05 | Test loss: 5.067586971563287e-05\n",
            "Epoch: 12660 | Loss: 4.9667061830405146e-05 | Test loss: 5.067586971563287e-05\n",
            "Epoch: 12670 | Loss: 4.9667061830405146e-05 | Test loss: 5.067586971563287e-05\n",
            "Epoch: 12680 | Loss: 4.9667061830405146e-05 | Test loss: 5.067586971563287e-05\n",
            "Epoch: 12690 | Loss: 4.9667061830405146e-05 | Test loss: 5.067586971563287e-05\n",
            "Epoch: 12700 | Loss: 4.9667061830405146e-05 | Test loss: 5.067586971563287e-05\n",
            "Epoch: 12710 | Loss: 4.9667061830405146e-05 | Test loss: 5.067586971563287e-05\n",
            "Epoch: 12720 | Loss: 4.9667061830405146e-05 | Test loss: 5.067586971563287e-05\n",
            "Epoch: 12730 | Loss: 4.9667061830405146e-05 | Test loss: 5.067586971563287e-05\n",
            "Epoch: 12740 | Loss: 4.9667061830405146e-05 | Test loss: 5.067586971563287e-05\n",
            "Epoch: 12750 | Loss: 4.9667061830405146e-05 | Test loss: 5.067586971563287e-05\n",
            "Epoch: 12760 | Loss: 4.9667061830405146e-05 | Test loss: 5.067586971563287e-05\n",
            "Epoch: 12770 | Loss: 4.9667061830405146e-05 | Test loss: 5.067586971563287e-05\n",
            "Epoch: 12780 | Loss: 4.9667061830405146e-05 | Test loss: 5.067586971563287e-05\n",
            "Epoch: 12790 | Loss: 4.9667061830405146e-05 | Test loss: 5.067586971563287e-05\n",
            "Epoch: 12800 | Loss: 4.9667061830405146e-05 | Test loss: 5.067586971563287e-05\n",
            "Epoch: 12810 | Loss: 4.9667061830405146e-05 | Test loss: 5.067586971563287e-05\n",
            "Epoch: 12820 | Loss: 4.9667061830405146e-05 | Test loss: 5.067586971563287e-05\n",
            "Epoch: 12830 | Loss: 4.9667061830405146e-05 | Test loss: 5.067586971563287e-05\n",
            "Epoch: 12840 | Loss: 4.9667061830405146e-05 | Test loss: 5.067586971563287e-05\n",
            "Epoch: 12850 | Loss: 4.9667061830405146e-05 | Test loss: 5.067586971563287e-05\n",
            "Epoch: 12860 | Loss: 4.9667061830405146e-05 | Test loss: 5.067586971563287e-05\n",
            "Epoch: 12870 | Loss: 4.9667061830405146e-05 | Test loss: 5.067586971563287e-05\n",
            "Epoch: 12880 | Loss: 4.9667061830405146e-05 | Test loss: 5.067586971563287e-05\n",
            "Epoch: 12890 | Loss: 4.9667061830405146e-05 | Test loss: 5.067586971563287e-05\n",
            "Epoch: 12900 | Loss: 4.9667061830405146e-05 | Test loss: 5.067586971563287e-05\n",
            "Epoch: 12910 | Loss: 4.9667061830405146e-05 | Test loss: 5.067586971563287e-05\n",
            "Epoch: 12920 | Loss: 4.9667061830405146e-05 | Test loss: 5.067586971563287e-05\n",
            "Epoch: 12930 | Loss: 4.9667061830405146e-05 | Test loss: 5.067586971563287e-05\n",
            "Epoch: 12940 | Loss: 4.9667061830405146e-05 | Test loss: 5.067586971563287e-05\n",
            "Epoch: 12950 | Loss: 4.9667061830405146e-05 | Test loss: 5.067586971563287e-05\n",
            "Epoch: 12960 | Loss: 4.9667061830405146e-05 | Test loss: 5.067586971563287e-05\n",
            "Epoch: 12970 | Loss: 4.9667061830405146e-05 | Test loss: 5.067586971563287e-05\n",
            "Epoch: 12980 | Loss: 4.9667061830405146e-05 | Test loss: 5.067586971563287e-05\n",
            "Epoch: 12990 | Loss: 4.9667061830405146e-05 | Test loss: 5.067586971563287e-05\n",
            "Epoch: 13000 | Loss: 4.9667061830405146e-05 | Test loss: 5.067586971563287e-05\n",
            "Epoch: 13010 | Loss: 4.9667061830405146e-05 | Test loss: 5.067586971563287e-05\n",
            "Epoch: 13020 | Loss: 4.9667061830405146e-05 | Test loss: 5.067586971563287e-05\n",
            "Epoch: 13030 | Loss: 4.9667061830405146e-05 | Test loss: 5.067586971563287e-05\n",
            "Epoch: 13040 | Loss: 4.9667061830405146e-05 | Test loss: 5.067586971563287e-05\n",
            "Epoch: 13050 | Loss: 4.9667061830405146e-05 | Test loss: 5.067586971563287e-05\n",
            "Epoch: 13060 | Loss: 4.9667061830405146e-05 | Test loss: 5.067586971563287e-05\n",
            "Epoch: 13070 | Loss: 4.9667061830405146e-05 | Test loss: 5.067586971563287e-05\n",
            "Epoch: 13080 | Loss: 4.9667061830405146e-05 | Test loss: 5.067586971563287e-05\n",
            "Epoch: 13090 | Loss: 4.9667061830405146e-05 | Test loss: 5.067586971563287e-05\n",
            "Epoch: 13100 | Loss: 4.9667061830405146e-05 | Test loss: 5.067586971563287e-05\n",
            "Epoch: 13110 | Loss: 4.9667061830405146e-05 | Test loss: 5.067586971563287e-05\n",
            "Epoch: 13120 | Loss: 4.9667061830405146e-05 | Test loss: 5.067586971563287e-05\n",
            "Epoch: 13130 | Loss: 4.9667061830405146e-05 | Test loss: 5.067586971563287e-05\n",
            "Epoch: 13140 | Loss: 4.9667061830405146e-05 | Test loss: 5.067586971563287e-05\n",
            "Epoch: 13150 | Loss: 4.9667061830405146e-05 | Test loss: 5.067586971563287e-05\n",
            "Epoch: 13160 | Loss: 4.9667061830405146e-05 | Test loss: 5.067586971563287e-05\n",
            "Epoch: 13170 | Loss: 4.9667061830405146e-05 | Test loss: 5.067586971563287e-05\n",
            "Epoch: 13180 | Loss: 4.9667061830405146e-05 | Test loss: 5.067586971563287e-05\n",
            "Epoch: 13190 | Loss: 4.9667061830405146e-05 | Test loss: 5.067586971563287e-05\n",
            "Epoch: 13200 | Loss: 4.9667061830405146e-05 | Test loss: 5.067586971563287e-05\n",
            "Epoch: 13210 | Loss: 4.9667061830405146e-05 | Test loss: 5.067586971563287e-05\n",
            "Epoch: 13220 | Loss: 4.9667061830405146e-05 | Test loss: 5.067586971563287e-05\n",
            "Epoch: 13230 | Loss: 4.9667061830405146e-05 | Test loss: 5.067586971563287e-05\n",
            "Epoch: 13240 | Loss: 4.9667061830405146e-05 | Test loss: 5.067586971563287e-05\n",
            "Epoch: 13250 | Loss: 4.9667061830405146e-05 | Test loss: 5.067586971563287e-05\n",
            "Epoch: 13260 | Loss: 4.9667061830405146e-05 | Test loss: 5.067586971563287e-05\n",
            "Epoch: 13270 | Loss: 4.9667061830405146e-05 | Test loss: 5.067586971563287e-05\n",
            "Epoch: 13280 | Loss: 4.9667061830405146e-05 | Test loss: 5.067586971563287e-05\n",
            "Epoch: 13290 | Loss: 4.9667061830405146e-05 | Test loss: 5.067586971563287e-05\n",
            "Epoch: 13300 | Loss: 4.9667061830405146e-05 | Test loss: 5.067586971563287e-05\n",
            "Epoch: 13310 | Loss: 4.9667061830405146e-05 | Test loss: 5.067586971563287e-05\n",
            "Epoch: 13320 | Loss: 4.9667061830405146e-05 | Test loss: 5.067586971563287e-05\n",
            "Epoch: 13330 | Loss: 4.9667061830405146e-05 | Test loss: 5.067586971563287e-05\n",
            "Epoch: 13340 | Loss: 4.9667061830405146e-05 | Test loss: 5.067586971563287e-05\n",
            "Epoch: 13350 | Loss: 4.9667061830405146e-05 | Test loss: 5.067586971563287e-05\n",
            "Epoch: 13360 | Loss: 4.9667061830405146e-05 | Test loss: 5.067586971563287e-05\n",
            "Epoch: 13370 | Loss: 4.9667061830405146e-05 | Test loss: 5.067586971563287e-05\n",
            "Epoch: 13380 | Loss: 4.9667061830405146e-05 | Test loss: 5.067586971563287e-05\n",
            "Epoch: 13390 | Loss: 4.9667061830405146e-05 | Test loss: 5.067586971563287e-05\n",
            "Epoch: 13400 | Loss: 4.9667061830405146e-05 | Test loss: 5.067586971563287e-05\n",
            "Epoch: 13410 | Loss: 4.9667061830405146e-05 | Test loss: 5.067586971563287e-05\n",
            "Epoch: 13420 | Loss: 4.9667061830405146e-05 | Test loss: 5.067586971563287e-05\n",
            "Epoch: 13430 | Loss: 4.9667061830405146e-05 | Test loss: 5.067586971563287e-05\n",
            "Epoch: 13440 | Loss: 4.9667061830405146e-05 | Test loss: 5.067586971563287e-05\n",
            "Epoch: 13450 | Loss: 4.9667061830405146e-05 | Test loss: 5.067586971563287e-05\n",
            "Epoch: 13460 | Loss: 4.9667061830405146e-05 | Test loss: 5.067586971563287e-05\n",
            "Epoch: 13470 | Loss: 4.9667061830405146e-05 | Test loss: 5.067586971563287e-05\n",
            "Epoch: 13480 | Loss: 4.9667061830405146e-05 | Test loss: 5.067586971563287e-05\n",
            "Epoch: 13490 | Loss: 4.9667061830405146e-05 | Test loss: 5.067586971563287e-05\n",
            "Epoch: 13500 | Loss: 4.9667061830405146e-05 | Test loss: 5.067586971563287e-05\n",
            "Epoch: 13510 | Loss: 4.9667061830405146e-05 | Test loss: 5.067586971563287e-05\n",
            "Epoch: 13520 | Loss: 4.9667061830405146e-05 | Test loss: 5.067586971563287e-05\n",
            "Epoch: 13530 | Loss: 4.9667061830405146e-05 | Test loss: 5.067586971563287e-05\n",
            "Epoch: 13540 | Loss: 4.9667061830405146e-05 | Test loss: 5.067586971563287e-05\n",
            "Epoch: 13550 | Loss: 4.9667061830405146e-05 | Test loss: 5.067586971563287e-05\n",
            "Epoch: 13560 | Loss: 4.9667061830405146e-05 | Test loss: 5.067586971563287e-05\n",
            "Epoch: 13570 | Loss: 4.9667061830405146e-05 | Test loss: 5.067586971563287e-05\n",
            "Epoch: 13580 | Loss: 4.9667061830405146e-05 | Test loss: 5.067586971563287e-05\n",
            "Epoch: 13590 | Loss: 4.9667061830405146e-05 | Test loss: 5.067586971563287e-05\n",
            "Epoch: 13600 | Loss: 4.9667061830405146e-05 | Test loss: 5.067586971563287e-05\n",
            "Epoch: 13610 | Loss: 4.9667061830405146e-05 | Test loss: 5.067586971563287e-05\n",
            "Epoch: 13620 | Loss: 4.9667061830405146e-05 | Test loss: 5.067586971563287e-05\n",
            "Epoch: 13630 | Loss: 4.9667061830405146e-05 | Test loss: 5.067586971563287e-05\n",
            "Epoch: 13640 | Loss: 4.9667061830405146e-05 | Test loss: 5.067586971563287e-05\n",
            "Epoch: 13650 | Loss: 4.9667061830405146e-05 | Test loss: 5.067586971563287e-05\n",
            "Epoch: 13660 | Loss: 4.9667061830405146e-05 | Test loss: 5.067586971563287e-05\n",
            "Epoch: 13670 | Loss: 4.9667061830405146e-05 | Test loss: 5.067586971563287e-05\n",
            "Epoch: 13680 | Loss: 4.9667061830405146e-05 | Test loss: 5.067586971563287e-05\n",
            "Epoch: 13690 | Loss: 4.9667061830405146e-05 | Test loss: 5.067586971563287e-05\n",
            "Epoch: 13700 | Loss: 4.9667061830405146e-05 | Test loss: 5.067586971563287e-05\n",
            "Epoch: 13710 | Loss: 4.9667061830405146e-05 | Test loss: 5.067586971563287e-05\n",
            "Epoch: 13720 | Loss: 4.9667061830405146e-05 | Test loss: 5.067586971563287e-05\n",
            "Epoch: 13730 | Loss: 4.9667061830405146e-05 | Test loss: 5.067586971563287e-05\n",
            "Epoch: 13740 | Loss: 4.9667061830405146e-05 | Test loss: 5.067586971563287e-05\n",
            "Epoch: 13750 | Loss: 4.9667061830405146e-05 | Test loss: 5.067586971563287e-05\n",
            "Epoch: 13760 | Loss: 4.9667061830405146e-05 | Test loss: 5.067586971563287e-05\n",
            "Epoch: 13770 | Loss: 4.9667061830405146e-05 | Test loss: 5.067586971563287e-05\n",
            "Epoch: 13780 | Loss: 4.9667061830405146e-05 | Test loss: 5.067586971563287e-05\n",
            "Epoch: 13790 | Loss: 4.9667061830405146e-05 | Test loss: 5.067586971563287e-05\n",
            "Epoch: 13800 | Loss: 4.9667061830405146e-05 | Test loss: 5.067586971563287e-05\n",
            "Epoch: 13810 | Loss: 4.9667061830405146e-05 | Test loss: 5.067586971563287e-05\n",
            "Epoch: 13820 | Loss: 4.9667061830405146e-05 | Test loss: 5.067586971563287e-05\n",
            "Epoch: 13830 | Loss: 4.9667061830405146e-05 | Test loss: 5.067586971563287e-05\n",
            "Epoch: 13840 | Loss: 4.9667061830405146e-05 | Test loss: 5.067586971563287e-05\n",
            "Epoch: 13850 | Loss: 4.9667061830405146e-05 | Test loss: 5.067586971563287e-05\n",
            "Epoch: 13860 | Loss: 4.9667061830405146e-05 | Test loss: 5.067586971563287e-05\n",
            "Epoch: 13870 | Loss: 4.9667061830405146e-05 | Test loss: 5.067586971563287e-05\n",
            "Epoch: 13880 | Loss: 4.9667061830405146e-05 | Test loss: 5.067586971563287e-05\n",
            "Epoch: 13890 | Loss: 4.9667061830405146e-05 | Test loss: 5.067586971563287e-05\n",
            "Epoch: 13900 | Loss: 4.9667061830405146e-05 | Test loss: 5.067586971563287e-05\n",
            "Epoch: 13910 | Loss: 4.9667061830405146e-05 | Test loss: 5.067586971563287e-05\n",
            "Epoch: 13920 | Loss: 4.9667061830405146e-05 | Test loss: 5.067586971563287e-05\n",
            "Epoch: 13930 | Loss: 4.9667061830405146e-05 | Test loss: 5.067586971563287e-05\n",
            "Epoch: 13940 | Loss: 4.9667061830405146e-05 | Test loss: 5.067586971563287e-05\n",
            "Epoch: 13950 | Loss: 4.9667061830405146e-05 | Test loss: 5.067586971563287e-05\n",
            "Epoch: 13960 | Loss: 4.9667061830405146e-05 | Test loss: 5.067586971563287e-05\n",
            "Epoch: 13970 | Loss: 4.9667061830405146e-05 | Test loss: 5.067586971563287e-05\n",
            "Epoch: 13980 | Loss: 4.9667061830405146e-05 | Test loss: 5.067586971563287e-05\n",
            "Epoch: 13990 | Loss: 4.9667061830405146e-05 | Test loss: 5.067586971563287e-05\n",
            "Epoch: 14000 | Loss: 4.9667061830405146e-05 | Test loss: 5.067586971563287e-05\n",
            "Epoch: 14010 | Loss: 4.9667061830405146e-05 | Test loss: 5.067586971563287e-05\n",
            "Epoch: 14020 | Loss: 4.9667061830405146e-05 | Test loss: 5.067586971563287e-05\n",
            "Epoch: 14030 | Loss: 4.9667061830405146e-05 | Test loss: 5.067586971563287e-05\n",
            "Epoch: 14040 | Loss: 4.9667061830405146e-05 | Test loss: 5.067586971563287e-05\n",
            "Epoch: 14050 | Loss: 4.9667061830405146e-05 | Test loss: 5.067586971563287e-05\n",
            "Epoch: 14060 | Loss: 4.9667061830405146e-05 | Test loss: 5.067586971563287e-05\n",
            "Epoch: 14070 | Loss: 4.9667061830405146e-05 | Test loss: 5.067586971563287e-05\n",
            "Epoch: 14080 | Loss: 4.9667061830405146e-05 | Test loss: 5.067586971563287e-05\n",
            "Epoch: 14090 | Loss: 4.9667061830405146e-05 | Test loss: 5.067586971563287e-05\n",
            "Epoch: 14100 | Loss: 4.9667061830405146e-05 | Test loss: 5.067586971563287e-05\n",
            "Epoch: 14110 | Loss: 4.9667061830405146e-05 | Test loss: 5.067586971563287e-05\n",
            "Epoch: 14120 | Loss: 4.9667061830405146e-05 | Test loss: 5.067586971563287e-05\n",
            "Epoch: 14130 | Loss: 4.9667061830405146e-05 | Test loss: 5.067586971563287e-05\n",
            "Epoch: 14140 | Loss: 4.9667061830405146e-05 | Test loss: 5.067586971563287e-05\n",
            "Epoch: 14150 | Loss: 4.9667061830405146e-05 | Test loss: 5.067586971563287e-05\n",
            "Epoch: 14160 | Loss: 4.9667061830405146e-05 | Test loss: 5.067586971563287e-05\n",
            "Epoch: 14170 | Loss: 4.9667061830405146e-05 | Test loss: 5.067586971563287e-05\n",
            "Epoch: 14180 | Loss: 4.9667061830405146e-05 | Test loss: 5.067586971563287e-05\n",
            "Epoch: 14190 | Loss: 4.9667061830405146e-05 | Test loss: 5.067586971563287e-05\n",
            "Epoch: 14200 | Loss: 4.9667061830405146e-05 | Test loss: 5.067586971563287e-05\n",
            "Epoch: 14210 | Loss: 4.9667061830405146e-05 | Test loss: 5.067586971563287e-05\n",
            "Epoch: 14220 | Loss: 4.9667061830405146e-05 | Test loss: 5.067586971563287e-05\n",
            "Epoch: 14230 | Loss: 4.9667061830405146e-05 | Test loss: 5.067586971563287e-05\n",
            "Epoch: 14240 | Loss: 4.9667061830405146e-05 | Test loss: 5.067586971563287e-05\n",
            "Epoch: 14250 | Loss: 4.9667061830405146e-05 | Test loss: 5.067586971563287e-05\n",
            "Epoch: 14260 | Loss: 4.9667061830405146e-05 | Test loss: 5.067586971563287e-05\n",
            "Epoch: 14270 | Loss: 4.9667061830405146e-05 | Test loss: 5.067586971563287e-05\n",
            "Epoch: 14280 | Loss: 4.9667061830405146e-05 | Test loss: 5.067586971563287e-05\n",
            "Epoch: 14290 | Loss: 4.9667061830405146e-05 | Test loss: 5.067586971563287e-05\n",
            "Epoch: 14300 | Loss: 4.9667061830405146e-05 | Test loss: 5.067586971563287e-05\n",
            "Epoch: 14310 | Loss: 4.9667061830405146e-05 | Test loss: 5.067586971563287e-05\n",
            "Epoch: 14320 | Loss: 4.9667061830405146e-05 | Test loss: 5.067586971563287e-05\n",
            "Epoch: 14330 | Loss: 4.9667061830405146e-05 | Test loss: 5.067586971563287e-05\n",
            "Epoch: 14340 | Loss: 4.9667061830405146e-05 | Test loss: 5.067586971563287e-05\n",
            "Epoch: 14350 | Loss: 4.9667061830405146e-05 | Test loss: 5.067586971563287e-05\n",
            "Epoch: 14360 | Loss: 4.9667061830405146e-05 | Test loss: 5.067586971563287e-05\n",
            "Epoch: 14370 | Loss: 4.9667061830405146e-05 | Test loss: 5.067586971563287e-05\n",
            "Epoch: 14380 | Loss: 4.9667061830405146e-05 | Test loss: 5.067586971563287e-05\n",
            "Epoch: 14390 | Loss: 4.9667061830405146e-05 | Test loss: 5.067586971563287e-05\n",
            "Epoch: 14400 | Loss: 4.9667061830405146e-05 | Test loss: 5.067586971563287e-05\n",
            "Epoch: 14410 | Loss: 4.9667061830405146e-05 | Test loss: 5.067586971563287e-05\n",
            "Epoch: 14420 | Loss: 4.9667061830405146e-05 | Test loss: 5.067586971563287e-05\n",
            "Epoch: 14430 | Loss: 4.9667061830405146e-05 | Test loss: 5.067586971563287e-05\n",
            "Epoch: 14440 | Loss: 4.9667061830405146e-05 | Test loss: 5.067586971563287e-05\n",
            "Epoch: 14450 | Loss: 4.9667061830405146e-05 | Test loss: 5.067586971563287e-05\n",
            "Epoch: 14460 | Loss: 4.9667061830405146e-05 | Test loss: 5.067586971563287e-05\n",
            "Epoch: 14470 | Loss: 4.9667061830405146e-05 | Test loss: 5.067586971563287e-05\n",
            "Epoch: 14480 | Loss: 4.9667061830405146e-05 | Test loss: 5.067586971563287e-05\n",
            "Epoch: 14490 | Loss: 4.9667061830405146e-05 | Test loss: 5.067586971563287e-05\n",
            "Epoch: 14500 | Loss: 4.9667061830405146e-05 | Test loss: 5.067586971563287e-05\n",
            "Epoch: 14510 | Loss: 4.9667061830405146e-05 | Test loss: 5.067586971563287e-05\n",
            "Epoch: 14520 | Loss: 4.9667061830405146e-05 | Test loss: 5.067586971563287e-05\n",
            "Epoch: 14530 | Loss: 4.9667061830405146e-05 | Test loss: 5.067586971563287e-05\n",
            "Epoch: 14540 | Loss: 4.9667061830405146e-05 | Test loss: 5.067586971563287e-05\n",
            "Epoch: 14550 | Loss: 4.9667061830405146e-05 | Test loss: 5.067586971563287e-05\n",
            "Epoch: 14560 | Loss: 4.9667061830405146e-05 | Test loss: 5.067586971563287e-05\n",
            "Epoch: 14570 | Loss: 4.9667061830405146e-05 | Test loss: 5.067586971563287e-05\n",
            "Epoch: 14580 | Loss: 4.9667061830405146e-05 | Test loss: 5.067586971563287e-05\n",
            "Epoch: 14590 | Loss: 4.9667061830405146e-05 | Test loss: 5.067586971563287e-05\n",
            "Epoch: 14600 | Loss: 4.9667061830405146e-05 | Test loss: 5.067586971563287e-05\n",
            "Epoch: 14610 | Loss: 4.9667061830405146e-05 | Test loss: 5.067586971563287e-05\n",
            "Epoch: 14620 | Loss: 4.9667061830405146e-05 | Test loss: 5.067586971563287e-05\n",
            "Epoch: 14630 | Loss: 4.9667061830405146e-05 | Test loss: 5.067586971563287e-05\n",
            "Epoch: 14640 | Loss: 4.9667061830405146e-05 | Test loss: 5.067586971563287e-05\n",
            "Epoch: 14650 | Loss: 4.9667061830405146e-05 | Test loss: 5.067586971563287e-05\n",
            "Epoch: 14660 | Loss: 4.9667061830405146e-05 | Test loss: 5.067586971563287e-05\n",
            "Epoch: 14670 | Loss: 4.9667061830405146e-05 | Test loss: 5.067586971563287e-05\n",
            "Epoch: 14680 | Loss: 4.9667061830405146e-05 | Test loss: 5.067586971563287e-05\n",
            "Epoch: 14690 | Loss: 4.9667061830405146e-05 | Test loss: 5.067586971563287e-05\n",
            "Epoch: 14700 | Loss: 4.9667061830405146e-05 | Test loss: 5.067586971563287e-05\n",
            "Epoch: 14710 | Loss: 4.9667061830405146e-05 | Test loss: 5.067586971563287e-05\n",
            "Epoch: 14720 | Loss: 4.9667061830405146e-05 | Test loss: 5.067586971563287e-05\n",
            "Epoch: 14730 | Loss: 4.9667061830405146e-05 | Test loss: 5.067586971563287e-05\n",
            "Epoch: 14740 | Loss: 4.9667061830405146e-05 | Test loss: 5.067586971563287e-05\n",
            "Epoch: 14750 | Loss: 4.9667061830405146e-05 | Test loss: 5.067586971563287e-05\n",
            "Epoch: 14760 | Loss: 4.9667061830405146e-05 | Test loss: 5.067586971563287e-05\n",
            "Epoch: 14770 | Loss: 4.9667061830405146e-05 | Test loss: 5.067586971563287e-05\n",
            "Epoch: 14780 | Loss: 4.9667061830405146e-05 | Test loss: 5.067586971563287e-05\n",
            "Epoch: 14790 | Loss: 4.9667061830405146e-05 | Test loss: 5.067586971563287e-05\n",
            "Epoch: 14800 | Loss: 4.9667061830405146e-05 | Test loss: 5.067586971563287e-05\n",
            "Epoch: 14810 | Loss: 4.9667061830405146e-05 | Test loss: 5.067586971563287e-05\n",
            "Epoch: 14820 | Loss: 4.9667061830405146e-05 | Test loss: 5.067586971563287e-05\n",
            "Epoch: 14830 | Loss: 4.9667061830405146e-05 | Test loss: 5.067586971563287e-05\n",
            "Epoch: 14840 | Loss: 4.9667061830405146e-05 | Test loss: 5.067586971563287e-05\n",
            "Epoch: 14850 | Loss: 4.9667061830405146e-05 | Test loss: 5.067586971563287e-05\n",
            "Epoch: 14860 | Loss: 4.9667061830405146e-05 | Test loss: 5.067586971563287e-05\n",
            "Epoch: 14870 | Loss: 4.9667061830405146e-05 | Test loss: 5.067586971563287e-05\n",
            "Epoch: 14880 | Loss: 4.9667061830405146e-05 | Test loss: 5.067586971563287e-05\n",
            "Epoch: 14890 | Loss: 4.9667061830405146e-05 | Test loss: 5.067586971563287e-05\n",
            "Epoch: 14900 | Loss: 4.9667061830405146e-05 | Test loss: 5.067586971563287e-05\n",
            "Epoch: 14910 | Loss: 4.9667061830405146e-05 | Test loss: 5.067586971563287e-05\n",
            "Epoch: 14920 | Loss: 4.9667061830405146e-05 | Test loss: 5.067586971563287e-05\n",
            "Epoch: 14930 | Loss: 4.9667061830405146e-05 | Test loss: 5.067586971563287e-05\n",
            "Epoch: 14940 | Loss: 4.9667061830405146e-05 | Test loss: 5.067586971563287e-05\n",
            "Epoch: 14950 | Loss: 4.9667061830405146e-05 | Test loss: 5.067586971563287e-05\n",
            "Epoch: 14960 | Loss: 4.9667061830405146e-05 | Test loss: 5.067586971563287e-05\n",
            "Epoch: 14970 | Loss: 4.9667061830405146e-05 | Test loss: 5.067586971563287e-05\n",
            "Epoch: 14980 | Loss: 4.9667061830405146e-05 | Test loss: 5.067586971563287e-05\n",
            "Epoch: 14990 | Loss: 4.9667061830405146e-05 | Test loss: 5.067586971563287e-05\n",
            "Epoch: 15000 | Loss: 4.9667061830405146e-05 | Test loss: 5.067586971563287e-05\n",
            "Epoch: 15010 | Loss: 4.9667061830405146e-05 | Test loss: 5.067586971563287e-05\n",
            "Epoch: 15020 | Loss: 4.9667061830405146e-05 | Test loss: 5.067586971563287e-05\n",
            "Epoch: 15030 | Loss: 4.9667061830405146e-05 | Test loss: 5.067586971563287e-05\n",
            "Epoch: 15040 | Loss: 4.9667061830405146e-05 | Test loss: 5.067586971563287e-05\n",
            "Epoch: 15050 | Loss: 4.9667061830405146e-05 | Test loss: 5.067586971563287e-05\n",
            "Epoch: 15060 | Loss: 4.9667061830405146e-05 | Test loss: 5.067586971563287e-05\n",
            "Epoch: 15070 | Loss: 4.9667061830405146e-05 | Test loss: 5.067586971563287e-05\n",
            "Epoch: 15080 | Loss: 4.9667061830405146e-05 | Test loss: 5.067586971563287e-05\n",
            "Epoch: 15090 | Loss: 4.9667061830405146e-05 | Test loss: 5.067586971563287e-05\n",
            "Epoch: 15100 | Loss: 4.9667061830405146e-05 | Test loss: 5.067586971563287e-05\n",
            "Epoch: 15110 | Loss: 4.9667061830405146e-05 | Test loss: 5.067586971563287e-05\n",
            "Epoch: 15120 | Loss: 4.9667061830405146e-05 | Test loss: 5.067586971563287e-05\n",
            "Epoch: 15130 | Loss: 4.9667061830405146e-05 | Test loss: 5.067586971563287e-05\n",
            "Epoch: 15140 | Loss: 4.9667061830405146e-05 | Test loss: 5.067586971563287e-05\n",
            "Epoch: 15150 | Loss: 4.9667061830405146e-05 | Test loss: 5.067586971563287e-05\n",
            "Epoch: 15160 | Loss: 4.9667061830405146e-05 | Test loss: 5.067586971563287e-05\n",
            "Epoch: 15170 | Loss: 4.9667061830405146e-05 | Test loss: 5.067586971563287e-05\n",
            "Epoch: 15180 | Loss: 4.9667061830405146e-05 | Test loss: 5.067586971563287e-05\n",
            "Epoch: 15190 | Loss: 4.9667061830405146e-05 | Test loss: 5.067586971563287e-05\n",
            "Epoch: 15200 | Loss: 4.9667061830405146e-05 | Test loss: 5.067586971563287e-05\n",
            "Epoch: 15210 | Loss: 4.9667061830405146e-05 | Test loss: 5.067586971563287e-05\n",
            "Epoch: 15220 | Loss: 4.9667061830405146e-05 | Test loss: 5.067586971563287e-05\n",
            "Epoch: 15230 | Loss: 4.9667061830405146e-05 | Test loss: 5.067586971563287e-05\n",
            "Epoch: 15240 | Loss: 4.9667061830405146e-05 | Test loss: 5.067586971563287e-05\n",
            "Epoch: 15250 | Loss: 4.9667061830405146e-05 | Test loss: 5.067586971563287e-05\n",
            "Epoch: 15260 | Loss: 4.9667061830405146e-05 | Test loss: 5.067586971563287e-05\n",
            "Epoch: 15270 | Loss: 4.9667061830405146e-05 | Test loss: 5.067586971563287e-05\n",
            "Epoch: 15280 | Loss: 4.9667061830405146e-05 | Test loss: 5.067586971563287e-05\n",
            "Epoch: 15290 | Loss: 4.9667061830405146e-05 | Test loss: 5.067586971563287e-05\n",
            "Epoch: 15300 | Loss: 4.9667061830405146e-05 | Test loss: 5.067586971563287e-05\n",
            "Epoch: 15310 | Loss: 4.9667061830405146e-05 | Test loss: 5.067586971563287e-05\n",
            "Epoch: 15320 | Loss: 4.9667061830405146e-05 | Test loss: 5.067586971563287e-05\n",
            "Epoch: 15330 | Loss: 4.9667061830405146e-05 | Test loss: 5.067586971563287e-05\n",
            "Epoch: 15340 | Loss: 4.9667061830405146e-05 | Test loss: 5.067586971563287e-05\n",
            "Epoch: 15350 | Loss: 4.9667061830405146e-05 | Test loss: 5.067586971563287e-05\n",
            "Epoch: 15360 | Loss: 4.9667061830405146e-05 | Test loss: 5.067586971563287e-05\n",
            "Epoch: 15370 | Loss: 4.9667061830405146e-05 | Test loss: 5.067586971563287e-05\n",
            "Epoch: 15380 | Loss: 4.9667061830405146e-05 | Test loss: 5.067586971563287e-05\n",
            "Epoch: 15390 | Loss: 4.9667061830405146e-05 | Test loss: 5.067586971563287e-05\n",
            "Epoch: 15400 | Loss: 4.9667061830405146e-05 | Test loss: 5.067586971563287e-05\n",
            "Epoch: 15410 | Loss: 4.9667061830405146e-05 | Test loss: 5.067586971563287e-05\n",
            "Epoch: 15420 | Loss: 4.9667061830405146e-05 | Test loss: 5.067586971563287e-05\n",
            "Epoch: 15430 | Loss: 4.9667061830405146e-05 | Test loss: 5.067586971563287e-05\n",
            "Epoch: 15440 | Loss: 4.9667061830405146e-05 | Test loss: 5.067586971563287e-05\n",
            "Epoch: 15450 | Loss: 4.9667061830405146e-05 | Test loss: 5.067586971563287e-05\n",
            "Epoch: 15460 | Loss: 4.9667061830405146e-05 | Test loss: 5.067586971563287e-05\n",
            "Epoch: 15470 | Loss: 4.9667061830405146e-05 | Test loss: 5.067586971563287e-05\n",
            "Epoch: 15480 | Loss: 4.9667061830405146e-05 | Test loss: 5.067586971563287e-05\n",
            "Epoch: 15490 | Loss: 4.9667061830405146e-05 | Test loss: 5.067586971563287e-05\n",
            "Epoch: 15500 | Loss: 4.9667061830405146e-05 | Test loss: 5.067586971563287e-05\n",
            "Epoch: 15510 | Loss: 4.9667061830405146e-05 | Test loss: 5.067586971563287e-05\n",
            "Epoch: 15520 | Loss: 4.9667061830405146e-05 | Test loss: 5.067586971563287e-05\n",
            "Epoch: 15530 | Loss: 4.9667061830405146e-05 | Test loss: 5.067586971563287e-05\n",
            "Epoch: 15540 | Loss: 4.9667061830405146e-05 | Test loss: 5.067586971563287e-05\n",
            "Epoch: 15550 | Loss: 4.9667061830405146e-05 | Test loss: 5.067586971563287e-05\n",
            "Epoch: 15560 | Loss: 4.9667061830405146e-05 | Test loss: 5.067586971563287e-05\n",
            "Epoch: 15570 | Loss: 4.9667061830405146e-05 | Test loss: 5.067586971563287e-05\n",
            "Epoch: 15580 | Loss: 4.9667061830405146e-05 | Test loss: 5.067586971563287e-05\n",
            "Epoch: 15590 | Loss: 4.9667061830405146e-05 | Test loss: 5.067586971563287e-05\n",
            "Epoch: 15600 | Loss: 4.9667061830405146e-05 | Test loss: 5.067586971563287e-05\n",
            "Epoch: 15610 | Loss: 4.9667061830405146e-05 | Test loss: 5.067586971563287e-05\n",
            "Epoch: 15620 | Loss: 4.9667061830405146e-05 | Test loss: 5.067586971563287e-05\n",
            "Epoch: 15630 | Loss: 4.9667061830405146e-05 | Test loss: 5.067586971563287e-05\n",
            "Epoch: 15640 | Loss: 4.9667061830405146e-05 | Test loss: 5.067586971563287e-05\n",
            "Epoch: 15650 | Loss: 4.9667061830405146e-05 | Test loss: 5.067586971563287e-05\n",
            "Epoch: 15660 | Loss: 4.9667061830405146e-05 | Test loss: 5.067586971563287e-05\n",
            "Epoch: 15670 | Loss: 4.9667061830405146e-05 | Test loss: 5.067586971563287e-05\n",
            "Epoch: 15680 | Loss: 4.9667061830405146e-05 | Test loss: 5.067586971563287e-05\n",
            "Epoch: 15690 | Loss: 4.9667061830405146e-05 | Test loss: 5.067586971563287e-05\n",
            "Epoch: 15700 | Loss: 4.9667061830405146e-05 | Test loss: 5.067586971563287e-05\n",
            "Epoch: 15710 | Loss: 4.9667061830405146e-05 | Test loss: 5.067586971563287e-05\n",
            "Epoch: 15720 | Loss: 4.9667061830405146e-05 | Test loss: 5.067586971563287e-05\n",
            "Epoch: 15730 | Loss: 4.9667061830405146e-05 | Test loss: 5.067586971563287e-05\n",
            "Epoch: 15740 | Loss: 4.9667061830405146e-05 | Test loss: 5.067586971563287e-05\n",
            "Epoch: 15750 | Loss: 4.9667061830405146e-05 | Test loss: 5.067586971563287e-05\n",
            "Epoch: 15760 | Loss: 4.9667061830405146e-05 | Test loss: 5.067586971563287e-05\n",
            "Epoch: 15770 | Loss: 4.9667061830405146e-05 | Test loss: 5.067586971563287e-05\n",
            "Epoch: 15780 | Loss: 4.9667061830405146e-05 | Test loss: 5.067586971563287e-05\n",
            "Epoch: 15790 | Loss: 4.9667061830405146e-05 | Test loss: 5.067586971563287e-05\n",
            "Epoch: 15800 | Loss: 4.9667061830405146e-05 | Test loss: 5.067586971563287e-05\n",
            "Epoch: 15810 | Loss: 4.9667061830405146e-05 | Test loss: 5.067586971563287e-05\n",
            "Epoch: 15820 | Loss: 4.9667061830405146e-05 | Test loss: 5.067586971563287e-05\n",
            "Epoch: 15830 | Loss: 4.9667061830405146e-05 | Test loss: 5.067586971563287e-05\n",
            "Epoch: 15840 | Loss: 4.9667061830405146e-05 | Test loss: 5.067586971563287e-05\n",
            "Epoch: 15850 | Loss: 4.9667061830405146e-05 | Test loss: 5.067586971563287e-05\n",
            "Epoch: 15860 | Loss: 4.9667061830405146e-05 | Test loss: 5.067586971563287e-05\n",
            "Epoch: 15870 | Loss: 4.9667061830405146e-05 | Test loss: 5.067586971563287e-05\n",
            "Epoch: 15880 | Loss: 4.9667061830405146e-05 | Test loss: 5.067586971563287e-05\n",
            "Epoch: 15890 | Loss: 4.9667061830405146e-05 | Test loss: 5.067586971563287e-05\n",
            "Epoch: 15900 | Loss: 4.9667061830405146e-05 | Test loss: 5.067586971563287e-05\n",
            "Epoch: 15910 | Loss: 4.9667061830405146e-05 | Test loss: 5.067586971563287e-05\n",
            "Epoch: 15920 | Loss: 4.9667061830405146e-05 | Test loss: 5.067586971563287e-05\n",
            "Epoch: 15930 | Loss: 4.9667061830405146e-05 | Test loss: 5.067586971563287e-05\n",
            "Epoch: 15940 | Loss: 4.9667061830405146e-05 | Test loss: 5.067586971563287e-05\n",
            "Epoch: 15950 | Loss: 4.9667061830405146e-05 | Test loss: 5.067586971563287e-05\n",
            "Epoch: 15960 | Loss: 4.9667061830405146e-05 | Test loss: 5.067586971563287e-05\n",
            "Epoch: 15970 | Loss: 4.9667061830405146e-05 | Test loss: 5.067586971563287e-05\n",
            "Epoch: 15980 | Loss: 4.9667061830405146e-05 | Test loss: 5.067586971563287e-05\n",
            "Epoch: 15990 | Loss: 4.9667061830405146e-05 | Test loss: 5.067586971563287e-05\n",
            "Epoch: 16000 | Loss: 4.9667061830405146e-05 | Test loss: 5.067586971563287e-05\n",
            "Epoch: 16010 | Loss: 4.9667061830405146e-05 | Test loss: 5.067586971563287e-05\n",
            "Epoch: 16020 | Loss: 4.9667061830405146e-05 | Test loss: 5.067586971563287e-05\n",
            "Epoch: 16030 | Loss: 4.9667061830405146e-05 | Test loss: 5.067586971563287e-05\n",
            "Epoch: 16040 | Loss: 4.9667061830405146e-05 | Test loss: 5.067586971563287e-05\n",
            "Epoch: 16050 | Loss: 4.9667061830405146e-05 | Test loss: 5.067586971563287e-05\n",
            "Epoch: 16060 | Loss: 4.9667061830405146e-05 | Test loss: 5.067586971563287e-05\n",
            "Epoch: 16070 | Loss: 4.9667061830405146e-05 | Test loss: 5.067586971563287e-05\n",
            "Epoch: 16080 | Loss: 4.9667061830405146e-05 | Test loss: 5.067586971563287e-05\n",
            "Epoch: 16090 | Loss: 4.9667061830405146e-05 | Test loss: 5.067586971563287e-05\n",
            "Epoch: 16100 | Loss: 4.9667061830405146e-05 | Test loss: 5.067586971563287e-05\n",
            "Epoch: 16110 | Loss: 4.9667061830405146e-05 | Test loss: 5.067586971563287e-05\n",
            "Epoch: 16120 | Loss: 4.9667061830405146e-05 | Test loss: 5.067586971563287e-05\n",
            "Epoch: 16130 | Loss: 4.9667061830405146e-05 | Test loss: 5.067586971563287e-05\n",
            "Epoch: 16140 | Loss: 4.9667061830405146e-05 | Test loss: 5.067586971563287e-05\n",
            "Epoch: 16150 | Loss: 4.9667061830405146e-05 | Test loss: 5.067586971563287e-05\n",
            "Epoch: 16160 | Loss: 4.9667061830405146e-05 | Test loss: 5.067586971563287e-05\n",
            "Epoch: 16170 | Loss: 4.9667061830405146e-05 | Test loss: 5.067586971563287e-05\n",
            "Epoch: 16180 | Loss: 4.9667061830405146e-05 | Test loss: 5.067586971563287e-05\n",
            "Epoch: 16190 | Loss: 4.9667061830405146e-05 | Test loss: 5.067586971563287e-05\n",
            "Epoch: 16200 | Loss: 4.9667061830405146e-05 | Test loss: 5.067586971563287e-05\n",
            "Epoch: 16210 | Loss: 4.9667061830405146e-05 | Test loss: 5.067586971563287e-05\n",
            "Epoch: 16220 | Loss: 4.9667061830405146e-05 | Test loss: 5.067586971563287e-05\n",
            "Epoch: 16230 | Loss: 4.9667061830405146e-05 | Test loss: 5.067586971563287e-05\n",
            "Epoch: 16240 | Loss: 4.9667061830405146e-05 | Test loss: 5.067586971563287e-05\n",
            "Epoch: 16250 | Loss: 4.9667061830405146e-05 | Test loss: 5.067586971563287e-05\n",
            "Epoch: 16260 | Loss: 4.9667061830405146e-05 | Test loss: 5.067586971563287e-05\n",
            "Epoch: 16270 | Loss: 4.9667061830405146e-05 | Test loss: 5.067586971563287e-05\n",
            "Epoch: 16280 | Loss: 4.9667061830405146e-05 | Test loss: 5.067586971563287e-05\n",
            "Epoch: 16290 | Loss: 4.9667061830405146e-05 | Test loss: 5.067586971563287e-05\n",
            "Epoch: 16300 | Loss: 4.9667061830405146e-05 | Test loss: 5.067586971563287e-05\n",
            "Epoch: 16310 | Loss: 4.9667061830405146e-05 | Test loss: 5.067586971563287e-05\n",
            "Epoch: 16320 | Loss: 4.9667061830405146e-05 | Test loss: 5.067586971563287e-05\n",
            "Epoch: 16330 | Loss: 4.9667061830405146e-05 | Test loss: 5.067586971563287e-05\n",
            "Epoch: 16340 | Loss: 4.9667061830405146e-05 | Test loss: 5.067586971563287e-05\n",
            "Epoch: 16350 | Loss: 4.9667061830405146e-05 | Test loss: 5.067586971563287e-05\n",
            "Epoch: 16360 | Loss: 4.9667061830405146e-05 | Test loss: 5.067586971563287e-05\n",
            "Epoch: 16370 | Loss: 4.9667061830405146e-05 | Test loss: 5.067586971563287e-05\n",
            "Epoch: 16380 | Loss: 4.9667061830405146e-05 | Test loss: 5.067586971563287e-05\n",
            "Epoch: 16390 | Loss: 4.9667061830405146e-05 | Test loss: 5.067586971563287e-05\n",
            "Epoch: 16400 | Loss: 4.9667061830405146e-05 | Test loss: 5.067586971563287e-05\n",
            "Epoch: 16410 | Loss: 4.9667061830405146e-05 | Test loss: 5.067586971563287e-05\n",
            "Epoch: 16420 | Loss: 4.9667061830405146e-05 | Test loss: 5.067586971563287e-05\n",
            "Epoch: 16430 | Loss: 4.9667061830405146e-05 | Test loss: 5.067586971563287e-05\n",
            "Epoch: 16440 | Loss: 4.9667061830405146e-05 | Test loss: 5.067586971563287e-05\n",
            "Epoch: 16450 | Loss: 4.9667061830405146e-05 | Test loss: 5.067586971563287e-05\n",
            "Epoch: 16460 | Loss: 4.9667061830405146e-05 | Test loss: 5.067586971563287e-05\n",
            "Epoch: 16470 | Loss: 4.9667061830405146e-05 | Test loss: 5.067586971563287e-05\n",
            "Epoch: 16480 | Loss: 4.9667061830405146e-05 | Test loss: 5.067586971563287e-05\n",
            "Epoch: 16490 | Loss: 4.9667061830405146e-05 | Test loss: 5.067586971563287e-05\n",
            "Epoch: 16500 | Loss: 4.9667061830405146e-05 | Test loss: 5.067586971563287e-05\n",
            "Epoch: 16510 | Loss: 4.9667061830405146e-05 | Test loss: 5.067586971563287e-05\n",
            "Epoch: 16520 | Loss: 4.9667061830405146e-05 | Test loss: 5.067586971563287e-05\n",
            "Epoch: 16530 | Loss: 4.9667061830405146e-05 | Test loss: 5.067586971563287e-05\n",
            "Epoch: 16540 | Loss: 4.9667061830405146e-05 | Test loss: 5.067586971563287e-05\n",
            "Epoch: 16550 | Loss: 4.9667061830405146e-05 | Test loss: 5.067586971563287e-05\n",
            "Epoch: 16560 | Loss: 4.9667061830405146e-05 | Test loss: 5.067586971563287e-05\n",
            "Epoch: 16570 | Loss: 4.9667061830405146e-05 | Test loss: 5.067586971563287e-05\n",
            "Epoch: 16580 | Loss: 4.9667061830405146e-05 | Test loss: 5.067586971563287e-05\n",
            "Epoch: 16590 | Loss: 4.9667061830405146e-05 | Test loss: 5.067586971563287e-05\n",
            "Epoch: 16600 | Loss: 4.9667061830405146e-05 | Test loss: 5.067586971563287e-05\n",
            "Epoch: 16610 | Loss: 4.9667061830405146e-05 | Test loss: 5.067586971563287e-05\n",
            "Epoch: 16620 | Loss: 4.9667061830405146e-05 | Test loss: 5.067586971563287e-05\n",
            "Epoch: 16630 | Loss: 4.9667061830405146e-05 | Test loss: 5.067586971563287e-05\n",
            "Epoch: 16640 | Loss: 4.9667061830405146e-05 | Test loss: 5.067586971563287e-05\n",
            "Epoch: 16650 | Loss: 4.9667061830405146e-05 | Test loss: 5.067586971563287e-05\n",
            "Epoch: 16660 | Loss: 4.9667061830405146e-05 | Test loss: 5.067586971563287e-05\n",
            "Epoch: 16670 | Loss: 4.9667061830405146e-05 | Test loss: 5.067586971563287e-05\n",
            "Epoch: 16680 | Loss: 4.9667061830405146e-05 | Test loss: 5.067586971563287e-05\n",
            "Epoch: 16690 | Loss: 4.9667061830405146e-05 | Test loss: 5.067586971563287e-05\n",
            "Epoch: 16700 | Loss: 4.9667061830405146e-05 | Test loss: 5.067586971563287e-05\n",
            "Epoch: 16710 | Loss: 4.9667061830405146e-05 | Test loss: 5.067586971563287e-05\n",
            "Epoch: 16720 | Loss: 4.9667061830405146e-05 | Test loss: 5.067586971563287e-05\n",
            "Epoch: 16730 | Loss: 4.9667061830405146e-05 | Test loss: 5.067586971563287e-05\n",
            "Epoch: 16740 | Loss: 4.9667061830405146e-05 | Test loss: 5.067586971563287e-05\n",
            "Epoch: 16750 | Loss: 4.9667061830405146e-05 | Test loss: 5.067586971563287e-05\n",
            "Epoch: 16760 | Loss: 4.9667061830405146e-05 | Test loss: 5.067586971563287e-05\n",
            "Epoch: 16770 | Loss: 4.9667061830405146e-05 | Test loss: 5.067586971563287e-05\n",
            "Epoch: 16780 | Loss: 4.9667061830405146e-05 | Test loss: 5.067586971563287e-05\n",
            "Epoch: 16790 | Loss: 4.9667061830405146e-05 | Test loss: 5.067586971563287e-05\n",
            "Epoch: 16800 | Loss: 4.9667061830405146e-05 | Test loss: 5.067586971563287e-05\n",
            "Epoch: 16810 | Loss: 4.9667061830405146e-05 | Test loss: 5.067586971563287e-05\n",
            "Epoch: 16820 | Loss: 4.9667061830405146e-05 | Test loss: 5.067586971563287e-05\n",
            "Epoch: 16830 | Loss: 4.9667061830405146e-05 | Test loss: 5.067586971563287e-05\n",
            "Epoch: 16840 | Loss: 4.9667061830405146e-05 | Test loss: 5.067586971563287e-05\n",
            "Epoch: 16850 | Loss: 4.9667061830405146e-05 | Test loss: 5.067586971563287e-05\n",
            "Epoch: 16860 | Loss: 4.9667061830405146e-05 | Test loss: 5.067586971563287e-05\n",
            "Epoch: 16870 | Loss: 4.9667061830405146e-05 | Test loss: 5.067586971563287e-05\n",
            "Epoch: 16880 | Loss: 4.9667061830405146e-05 | Test loss: 5.067586971563287e-05\n",
            "Epoch: 16890 | Loss: 4.9667061830405146e-05 | Test loss: 5.067586971563287e-05\n",
            "Epoch: 16900 | Loss: 4.9667061830405146e-05 | Test loss: 5.067586971563287e-05\n",
            "Epoch: 16910 | Loss: 4.9667061830405146e-05 | Test loss: 5.067586971563287e-05\n",
            "Epoch: 16920 | Loss: 4.9667061830405146e-05 | Test loss: 5.067586971563287e-05\n",
            "Epoch: 16930 | Loss: 4.9667061830405146e-05 | Test loss: 5.067586971563287e-05\n",
            "Epoch: 16940 | Loss: 4.9667061830405146e-05 | Test loss: 5.067586971563287e-05\n",
            "Epoch: 16950 | Loss: 4.9667061830405146e-05 | Test loss: 5.067586971563287e-05\n",
            "Epoch: 16960 | Loss: 4.9667061830405146e-05 | Test loss: 5.067586971563287e-05\n",
            "Epoch: 16970 | Loss: 4.9667061830405146e-05 | Test loss: 5.067586971563287e-05\n",
            "Epoch: 16980 | Loss: 4.9667061830405146e-05 | Test loss: 5.067586971563287e-05\n",
            "Epoch: 16990 | Loss: 4.9667061830405146e-05 | Test loss: 5.067586971563287e-05\n",
            "Epoch: 17000 | Loss: 4.9667061830405146e-05 | Test loss: 5.067586971563287e-05\n",
            "Epoch: 17010 | Loss: 4.9667061830405146e-05 | Test loss: 5.067586971563287e-05\n",
            "Epoch: 17020 | Loss: 4.9667061830405146e-05 | Test loss: 5.067586971563287e-05\n",
            "Epoch: 17030 | Loss: 4.9667061830405146e-05 | Test loss: 5.067586971563287e-05\n",
            "Epoch: 17040 | Loss: 4.9667061830405146e-05 | Test loss: 5.067586971563287e-05\n",
            "Epoch: 17050 | Loss: 4.9667061830405146e-05 | Test loss: 5.067586971563287e-05\n",
            "Epoch: 17060 | Loss: 4.9667061830405146e-05 | Test loss: 5.067586971563287e-05\n",
            "Epoch: 17070 | Loss: 4.9667061830405146e-05 | Test loss: 5.067586971563287e-05\n",
            "Epoch: 17080 | Loss: 4.9667061830405146e-05 | Test loss: 5.067586971563287e-05\n",
            "Epoch: 17090 | Loss: 4.9667061830405146e-05 | Test loss: 5.067586971563287e-05\n",
            "Epoch: 17100 | Loss: 4.9667061830405146e-05 | Test loss: 5.067586971563287e-05\n",
            "Epoch: 17110 | Loss: 4.9667061830405146e-05 | Test loss: 5.067586971563287e-05\n",
            "Epoch: 17120 | Loss: 4.9667061830405146e-05 | Test loss: 5.067586971563287e-05\n",
            "Epoch: 17130 | Loss: 4.9667061830405146e-05 | Test loss: 5.067586971563287e-05\n",
            "Epoch: 17140 | Loss: 4.9667061830405146e-05 | Test loss: 5.067586971563287e-05\n",
            "Epoch: 17150 | Loss: 4.9667061830405146e-05 | Test loss: 5.067586971563287e-05\n",
            "Epoch: 17160 | Loss: 4.9667061830405146e-05 | Test loss: 5.067586971563287e-05\n",
            "Epoch: 17170 | Loss: 4.9667061830405146e-05 | Test loss: 5.067586971563287e-05\n",
            "Epoch: 17180 | Loss: 4.9667061830405146e-05 | Test loss: 5.067586971563287e-05\n",
            "Epoch: 17190 | Loss: 4.9667061830405146e-05 | Test loss: 5.067586971563287e-05\n",
            "Epoch: 17200 | Loss: 4.9667061830405146e-05 | Test loss: 5.067586971563287e-05\n",
            "Epoch: 17210 | Loss: 4.9667061830405146e-05 | Test loss: 5.067586971563287e-05\n",
            "Epoch: 17220 | Loss: 4.9667061830405146e-05 | Test loss: 5.067586971563287e-05\n",
            "Epoch: 17230 | Loss: 4.9667061830405146e-05 | Test loss: 5.067586971563287e-05\n",
            "Epoch: 17240 | Loss: 4.9667061830405146e-05 | Test loss: 5.067586971563287e-05\n",
            "Epoch: 17250 | Loss: 4.9667061830405146e-05 | Test loss: 5.067586971563287e-05\n",
            "Epoch: 17260 | Loss: 4.9667061830405146e-05 | Test loss: 5.067586971563287e-05\n",
            "Epoch: 17270 | Loss: 4.9667061830405146e-05 | Test loss: 5.067586971563287e-05\n",
            "Epoch: 17280 | Loss: 4.9667061830405146e-05 | Test loss: 5.067586971563287e-05\n",
            "Epoch: 17290 | Loss: 4.9667061830405146e-05 | Test loss: 5.067586971563287e-05\n",
            "Epoch: 17300 | Loss: 4.9667061830405146e-05 | Test loss: 5.067586971563287e-05\n",
            "Epoch: 17310 | Loss: 4.9667061830405146e-05 | Test loss: 5.067586971563287e-05\n",
            "Epoch: 17320 | Loss: 4.9667061830405146e-05 | Test loss: 5.067586971563287e-05\n",
            "Epoch: 17330 | Loss: 4.9667061830405146e-05 | Test loss: 5.067586971563287e-05\n",
            "Epoch: 17340 | Loss: 4.9667061830405146e-05 | Test loss: 5.067586971563287e-05\n",
            "Epoch: 17350 | Loss: 4.9667061830405146e-05 | Test loss: 5.067586971563287e-05\n",
            "Epoch: 17360 | Loss: 4.9667061830405146e-05 | Test loss: 5.067586971563287e-05\n",
            "Epoch: 17370 | Loss: 4.9667061830405146e-05 | Test loss: 5.067586971563287e-05\n",
            "Epoch: 17380 | Loss: 4.9667061830405146e-05 | Test loss: 5.067586971563287e-05\n",
            "Epoch: 17390 | Loss: 4.9667061830405146e-05 | Test loss: 5.067586971563287e-05\n",
            "Epoch: 17400 | Loss: 4.9667061830405146e-05 | Test loss: 5.067586971563287e-05\n",
            "Epoch: 17410 | Loss: 4.9667061830405146e-05 | Test loss: 5.067586971563287e-05\n",
            "Epoch: 17420 | Loss: 4.9667061830405146e-05 | Test loss: 5.067586971563287e-05\n",
            "Epoch: 17430 | Loss: 4.9667061830405146e-05 | Test loss: 5.067586971563287e-05\n",
            "Epoch: 17440 | Loss: 4.9667061830405146e-05 | Test loss: 5.067586971563287e-05\n",
            "Epoch: 17450 | Loss: 4.9667061830405146e-05 | Test loss: 5.067586971563287e-05\n",
            "Epoch: 17460 | Loss: 4.9667061830405146e-05 | Test loss: 5.067586971563287e-05\n",
            "Epoch: 17470 | Loss: 4.9667061830405146e-05 | Test loss: 5.067586971563287e-05\n",
            "Epoch: 17480 | Loss: 4.9667061830405146e-05 | Test loss: 5.067586971563287e-05\n",
            "Epoch: 17490 | Loss: 4.9667061830405146e-05 | Test loss: 5.067586971563287e-05\n",
            "Epoch: 17500 | Loss: 4.9667061830405146e-05 | Test loss: 5.067586971563287e-05\n",
            "Epoch: 17510 | Loss: 4.9667061830405146e-05 | Test loss: 5.067586971563287e-05\n",
            "Epoch: 17520 | Loss: 4.9667061830405146e-05 | Test loss: 5.067586971563287e-05\n",
            "Epoch: 17530 | Loss: 4.9667061830405146e-05 | Test loss: 5.067586971563287e-05\n",
            "Epoch: 17540 | Loss: 4.9667061830405146e-05 | Test loss: 5.067586971563287e-05\n",
            "Epoch: 17550 | Loss: 4.9667061830405146e-05 | Test loss: 5.067586971563287e-05\n",
            "Epoch: 17560 | Loss: 4.9667061830405146e-05 | Test loss: 5.067586971563287e-05\n",
            "Epoch: 17570 | Loss: 4.9667061830405146e-05 | Test loss: 5.067586971563287e-05\n",
            "Epoch: 17580 | Loss: 4.9667061830405146e-05 | Test loss: 5.067586971563287e-05\n",
            "Epoch: 17590 | Loss: 4.9667061830405146e-05 | Test loss: 5.067586971563287e-05\n",
            "Epoch: 17600 | Loss: 4.9667061830405146e-05 | Test loss: 5.067586971563287e-05\n",
            "Epoch: 17610 | Loss: 4.9667061830405146e-05 | Test loss: 5.067586971563287e-05\n",
            "Epoch: 17620 | Loss: 4.9667061830405146e-05 | Test loss: 5.067586971563287e-05\n",
            "Epoch: 17630 | Loss: 4.9667061830405146e-05 | Test loss: 5.067586971563287e-05\n",
            "Epoch: 17640 | Loss: 4.9667061830405146e-05 | Test loss: 5.067586971563287e-05\n",
            "Epoch: 17650 | Loss: 4.9667061830405146e-05 | Test loss: 5.067586971563287e-05\n",
            "Epoch: 17660 | Loss: 4.9667061830405146e-05 | Test loss: 5.067586971563287e-05\n",
            "Epoch: 17670 | Loss: 4.9667061830405146e-05 | Test loss: 5.067586971563287e-05\n",
            "Epoch: 17680 | Loss: 4.9667061830405146e-05 | Test loss: 5.067586971563287e-05\n",
            "Epoch: 17690 | Loss: 4.9667061830405146e-05 | Test loss: 5.067586971563287e-05\n",
            "Epoch: 17700 | Loss: 4.9667061830405146e-05 | Test loss: 5.067586971563287e-05\n",
            "Epoch: 17710 | Loss: 4.9667061830405146e-05 | Test loss: 5.067586971563287e-05\n",
            "Epoch: 17720 | Loss: 4.9667061830405146e-05 | Test loss: 5.067586971563287e-05\n",
            "Epoch: 17730 | Loss: 4.9667061830405146e-05 | Test loss: 5.067586971563287e-05\n",
            "Epoch: 17740 | Loss: 4.9667061830405146e-05 | Test loss: 5.067586971563287e-05\n",
            "Epoch: 17750 | Loss: 4.9667061830405146e-05 | Test loss: 5.067586971563287e-05\n",
            "Epoch: 17760 | Loss: 4.9667061830405146e-05 | Test loss: 5.067586971563287e-05\n",
            "Epoch: 17770 | Loss: 4.9667061830405146e-05 | Test loss: 5.067586971563287e-05\n",
            "Epoch: 17780 | Loss: 4.9667061830405146e-05 | Test loss: 5.067586971563287e-05\n",
            "Epoch: 17790 | Loss: 4.9667061830405146e-05 | Test loss: 5.067586971563287e-05\n",
            "Epoch: 17800 | Loss: 4.9667061830405146e-05 | Test loss: 5.067586971563287e-05\n",
            "Epoch: 17810 | Loss: 4.9667061830405146e-05 | Test loss: 5.067586971563287e-05\n",
            "Epoch: 17820 | Loss: 4.9667061830405146e-05 | Test loss: 5.067586971563287e-05\n",
            "Epoch: 17830 | Loss: 4.9667061830405146e-05 | Test loss: 5.067586971563287e-05\n",
            "Epoch: 17840 | Loss: 4.9667061830405146e-05 | Test loss: 5.067586971563287e-05\n",
            "Epoch: 17850 | Loss: 4.9667061830405146e-05 | Test loss: 5.067586971563287e-05\n",
            "Epoch: 17860 | Loss: 4.9667061830405146e-05 | Test loss: 5.067586971563287e-05\n",
            "Epoch: 17870 | Loss: 4.9667061830405146e-05 | Test loss: 5.067586971563287e-05\n",
            "Epoch: 17880 | Loss: 4.9667061830405146e-05 | Test loss: 5.067586971563287e-05\n",
            "Epoch: 17890 | Loss: 4.9667061830405146e-05 | Test loss: 5.067586971563287e-05\n",
            "Epoch: 17900 | Loss: 4.9667061830405146e-05 | Test loss: 5.067586971563287e-05\n",
            "Epoch: 17910 | Loss: 4.9667061830405146e-05 | Test loss: 5.067586971563287e-05\n",
            "Epoch: 17920 | Loss: 4.9667061830405146e-05 | Test loss: 5.067586971563287e-05\n",
            "Epoch: 17930 | Loss: 4.9667061830405146e-05 | Test loss: 5.067586971563287e-05\n",
            "Epoch: 17940 | Loss: 4.9667061830405146e-05 | Test loss: 5.067586971563287e-05\n",
            "Epoch: 17950 | Loss: 4.9667061830405146e-05 | Test loss: 5.067586971563287e-05\n",
            "Epoch: 17960 | Loss: 4.9667061830405146e-05 | Test loss: 5.067586971563287e-05\n",
            "Epoch: 17970 | Loss: 4.9667061830405146e-05 | Test loss: 5.067586971563287e-05\n",
            "Epoch: 17980 | Loss: 4.9667061830405146e-05 | Test loss: 5.067586971563287e-05\n",
            "Epoch: 17990 | Loss: 4.9667061830405146e-05 | Test loss: 5.067586971563287e-05\n",
            "Epoch: 18000 | Loss: 4.9667061830405146e-05 | Test loss: 5.067586971563287e-05\n",
            "Epoch: 18010 | Loss: 4.9667061830405146e-05 | Test loss: 5.067586971563287e-05\n",
            "Epoch: 18020 | Loss: 4.9667061830405146e-05 | Test loss: 5.067586971563287e-05\n",
            "Epoch: 18030 | Loss: 4.9667061830405146e-05 | Test loss: 5.067586971563287e-05\n",
            "Epoch: 18040 | Loss: 4.9667061830405146e-05 | Test loss: 5.067586971563287e-05\n",
            "Epoch: 18050 | Loss: 4.9667061830405146e-05 | Test loss: 5.067586971563287e-05\n",
            "Epoch: 18060 | Loss: 4.9667061830405146e-05 | Test loss: 5.067586971563287e-05\n",
            "Epoch: 18070 | Loss: 4.9667061830405146e-05 | Test loss: 5.067586971563287e-05\n",
            "Epoch: 18080 | Loss: 4.9667061830405146e-05 | Test loss: 5.067586971563287e-05\n",
            "Epoch: 18090 | Loss: 4.9667061830405146e-05 | Test loss: 5.067586971563287e-05\n",
            "Epoch: 18100 | Loss: 4.9667061830405146e-05 | Test loss: 5.067586971563287e-05\n",
            "Epoch: 18110 | Loss: 4.9667061830405146e-05 | Test loss: 5.067586971563287e-05\n",
            "Epoch: 18120 | Loss: 4.9667061830405146e-05 | Test loss: 5.067586971563287e-05\n",
            "Epoch: 18130 | Loss: 4.9667061830405146e-05 | Test loss: 5.067586971563287e-05\n",
            "Epoch: 18140 | Loss: 4.9667061830405146e-05 | Test loss: 5.067586971563287e-05\n",
            "Epoch: 18150 | Loss: 4.9667061830405146e-05 | Test loss: 5.067586971563287e-05\n",
            "Epoch: 18160 | Loss: 4.9667061830405146e-05 | Test loss: 5.067586971563287e-05\n",
            "Epoch: 18170 | Loss: 4.9667061830405146e-05 | Test loss: 5.067586971563287e-05\n",
            "Epoch: 18180 | Loss: 4.9667061830405146e-05 | Test loss: 5.067586971563287e-05\n",
            "Epoch: 18190 | Loss: 4.9667061830405146e-05 | Test loss: 5.067586971563287e-05\n",
            "Epoch: 18200 | Loss: 4.9667061830405146e-05 | Test loss: 5.067586971563287e-05\n",
            "Epoch: 18210 | Loss: 4.9667061830405146e-05 | Test loss: 5.067586971563287e-05\n",
            "Epoch: 18220 | Loss: 4.9667061830405146e-05 | Test loss: 5.067586971563287e-05\n",
            "Epoch: 18230 | Loss: 4.9667061830405146e-05 | Test loss: 5.067586971563287e-05\n",
            "Epoch: 18240 | Loss: 4.9667061830405146e-05 | Test loss: 5.067586971563287e-05\n",
            "Epoch: 18250 | Loss: 4.9667061830405146e-05 | Test loss: 5.067586971563287e-05\n",
            "Epoch: 18260 | Loss: 4.9667061830405146e-05 | Test loss: 5.067586971563287e-05\n",
            "Epoch: 18270 | Loss: 4.9667061830405146e-05 | Test loss: 5.067586971563287e-05\n",
            "Epoch: 18280 | Loss: 4.9667061830405146e-05 | Test loss: 5.067586971563287e-05\n",
            "Epoch: 18290 | Loss: 4.9667061830405146e-05 | Test loss: 5.067586971563287e-05\n",
            "Epoch: 18300 | Loss: 4.9667061830405146e-05 | Test loss: 5.067586971563287e-05\n",
            "Epoch: 18310 | Loss: 4.9667061830405146e-05 | Test loss: 5.067586971563287e-05\n",
            "Epoch: 18320 | Loss: 4.9667061830405146e-05 | Test loss: 5.067586971563287e-05\n",
            "Epoch: 18330 | Loss: 4.9667061830405146e-05 | Test loss: 5.067586971563287e-05\n",
            "Epoch: 18340 | Loss: 4.9667061830405146e-05 | Test loss: 5.067586971563287e-05\n",
            "Epoch: 18350 | Loss: 4.9667061830405146e-05 | Test loss: 5.067586971563287e-05\n",
            "Epoch: 18360 | Loss: 4.9667061830405146e-05 | Test loss: 5.067586971563287e-05\n",
            "Epoch: 18370 | Loss: 4.9667061830405146e-05 | Test loss: 5.067586971563287e-05\n",
            "Epoch: 18380 | Loss: 4.9667061830405146e-05 | Test loss: 5.067586971563287e-05\n",
            "Epoch: 18390 | Loss: 4.9667061830405146e-05 | Test loss: 5.067586971563287e-05\n",
            "Epoch: 18400 | Loss: 4.9667061830405146e-05 | Test loss: 5.067586971563287e-05\n",
            "Epoch: 18410 | Loss: 4.9667061830405146e-05 | Test loss: 5.067586971563287e-05\n",
            "Epoch: 18420 | Loss: 4.9667061830405146e-05 | Test loss: 5.067586971563287e-05\n",
            "Epoch: 18430 | Loss: 4.9667061830405146e-05 | Test loss: 5.067586971563287e-05\n",
            "Epoch: 18440 | Loss: 4.9667061830405146e-05 | Test loss: 5.067586971563287e-05\n",
            "Epoch: 18450 | Loss: 4.9667061830405146e-05 | Test loss: 5.067586971563287e-05\n",
            "Epoch: 18460 | Loss: 4.9667061830405146e-05 | Test loss: 5.067586971563287e-05\n",
            "Epoch: 18470 | Loss: 4.9667061830405146e-05 | Test loss: 5.067586971563287e-05\n",
            "Epoch: 18480 | Loss: 4.9667061830405146e-05 | Test loss: 5.067586971563287e-05\n",
            "Epoch: 18490 | Loss: 4.9667061830405146e-05 | Test loss: 5.067586971563287e-05\n",
            "Epoch: 18500 | Loss: 4.9667061830405146e-05 | Test loss: 5.067586971563287e-05\n",
            "Epoch: 18510 | Loss: 4.9667061830405146e-05 | Test loss: 5.067586971563287e-05\n",
            "Epoch: 18520 | Loss: 4.9667061830405146e-05 | Test loss: 5.067586971563287e-05\n",
            "Epoch: 18530 | Loss: 4.9667061830405146e-05 | Test loss: 5.067586971563287e-05\n",
            "Epoch: 18540 | Loss: 4.9667061830405146e-05 | Test loss: 5.067586971563287e-05\n",
            "Epoch: 18550 | Loss: 4.9667061830405146e-05 | Test loss: 5.067586971563287e-05\n",
            "Epoch: 18560 | Loss: 4.9667061830405146e-05 | Test loss: 5.067586971563287e-05\n",
            "Epoch: 18570 | Loss: 4.9667061830405146e-05 | Test loss: 5.067586971563287e-05\n",
            "Epoch: 18580 | Loss: 4.9667061830405146e-05 | Test loss: 5.067586971563287e-05\n",
            "Epoch: 18590 | Loss: 4.9667061830405146e-05 | Test loss: 5.067586971563287e-05\n",
            "Epoch: 18600 | Loss: 4.9667061830405146e-05 | Test loss: 5.067586971563287e-05\n",
            "Epoch: 18610 | Loss: 4.9667061830405146e-05 | Test loss: 5.067586971563287e-05\n",
            "Epoch: 18620 | Loss: 4.9667061830405146e-05 | Test loss: 5.067586971563287e-05\n",
            "Epoch: 18630 | Loss: 4.9667061830405146e-05 | Test loss: 5.067586971563287e-05\n",
            "Epoch: 18640 | Loss: 4.9667061830405146e-05 | Test loss: 5.067586971563287e-05\n",
            "Epoch: 18650 | Loss: 4.9667061830405146e-05 | Test loss: 5.067586971563287e-05\n",
            "Epoch: 18660 | Loss: 4.9667061830405146e-05 | Test loss: 5.067586971563287e-05\n",
            "Epoch: 18670 | Loss: 4.9667061830405146e-05 | Test loss: 5.067586971563287e-05\n",
            "Epoch: 18680 | Loss: 4.9667061830405146e-05 | Test loss: 5.067586971563287e-05\n",
            "Epoch: 18690 | Loss: 4.9667061830405146e-05 | Test loss: 5.067586971563287e-05\n",
            "Epoch: 18700 | Loss: 4.9667061830405146e-05 | Test loss: 5.067586971563287e-05\n",
            "Epoch: 18710 | Loss: 4.9667061830405146e-05 | Test loss: 5.067586971563287e-05\n",
            "Epoch: 18720 | Loss: 4.9667061830405146e-05 | Test loss: 5.067586971563287e-05\n",
            "Epoch: 18730 | Loss: 4.9667061830405146e-05 | Test loss: 5.067586971563287e-05\n",
            "Epoch: 18740 | Loss: 4.9667061830405146e-05 | Test loss: 5.067586971563287e-05\n",
            "Epoch: 18750 | Loss: 4.9667061830405146e-05 | Test loss: 5.067586971563287e-05\n",
            "Epoch: 18760 | Loss: 4.9667061830405146e-05 | Test loss: 5.067586971563287e-05\n",
            "Epoch: 18770 | Loss: 4.9667061830405146e-05 | Test loss: 5.067586971563287e-05\n",
            "Epoch: 18780 | Loss: 4.9667061830405146e-05 | Test loss: 5.067586971563287e-05\n",
            "Epoch: 18790 | Loss: 4.9667061830405146e-05 | Test loss: 5.067586971563287e-05\n",
            "Epoch: 18800 | Loss: 4.9667061830405146e-05 | Test loss: 5.067586971563287e-05\n",
            "Epoch: 18810 | Loss: 4.9667061830405146e-05 | Test loss: 5.067586971563287e-05\n",
            "Epoch: 18820 | Loss: 4.9667061830405146e-05 | Test loss: 5.067586971563287e-05\n",
            "Epoch: 18830 | Loss: 4.9667061830405146e-05 | Test loss: 5.067586971563287e-05\n",
            "Epoch: 18840 | Loss: 4.9667061830405146e-05 | Test loss: 5.067586971563287e-05\n",
            "Epoch: 18850 | Loss: 4.9667061830405146e-05 | Test loss: 5.067586971563287e-05\n",
            "Epoch: 18860 | Loss: 4.9667061830405146e-05 | Test loss: 5.067586971563287e-05\n",
            "Epoch: 18870 | Loss: 4.9667061830405146e-05 | Test loss: 5.067586971563287e-05\n",
            "Epoch: 18880 | Loss: 4.9667061830405146e-05 | Test loss: 5.067586971563287e-05\n",
            "Epoch: 18890 | Loss: 4.9667061830405146e-05 | Test loss: 5.067586971563287e-05\n",
            "Epoch: 18900 | Loss: 4.9667061830405146e-05 | Test loss: 5.067586971563287e-05\n",
            "Epoch: 18910 | Loss: 4.9667061830405146e-05 | Test loss: 5.067586971563287e-05\n",
            "Epoch: 18920 | Loss: 4.9667061830405146e-05 | Test loss: 5.067586971563287e-05\n",
            "Epoch: 18930 | Loss: 4.9667061830405146e-05 | Test loss: 5.067586971563287e-05\n",
            "Epoch: 18940 | Loss: 4.9667061830405146e-05 | Test loss: 5.067586971563287e-05\n",
            "Epoch: 18950 | Loss: 4.9667061830405146e-05 | Test loss: 5.067586971563287e-05\n",
            "Epoch: 18960 | Loss: 4.9667061830405146e-05 | Test loss: 5.067586971563287e-05\n",
            "Epoch: 18970 | Loss: 4.9667061830405146e-05 | Test loss: 5.067586971563287e-05\n",
            "Epoch: 18980 | Loss: 4.9667061830405146e-05 | Test loss: 5.067586971563287e-05\n",
            "Epoch: 18990 | Loss: 4.9667061830405146e-05 | Test loss: 5.067586971563287e-05\n",
            "Epoch: 19000 | Loss: 4.9667061830405146e-05 | Test loss: 5.067586971563287e-05\n",
            "Epoch: 19010 | Loss: 4.9667061830405146e-05 | Test loss: 5.067586971563287e-05\n",
            "Epoch: 19020 | Loss: 4.9667061830405146e-05 | Test loss: 5.067586971563287e-05\n",
            "Epoch: 19030 | Loss: 4.9667061830405146e-05 | Test loss: 5.067586971563287e-05\n",
            "Epoch: 19040 | Loss: 4.9667061830405146e-05 | Test loss: 5.067586971563287e-05\n",
            "Epoch: 19050 | Loss: 4.9667061830405146e-05 | Test loss: 5.067586971563287e-05\n",
            "Epoch: 19060 | Loss: 4.9667061830405146e-05 | Test loss: 5.067586971563287e-05\n",
            "Epoch: 19070 | Loss: 4.9667061830405146e-05 | Test loss: 5.067586971563287e-05\n",
            "Epoch: 19080 | Loss: 4.9667061830405146e-05 | Test loss: 5.067586971563287e-05\n",
            "Epoch: 19090 | Loss: 4.9667061830405146e-05 | Test loss: 5.067586971563287e-05\n",
            "Epoch: 19100 | Loss: 4.9667061830405146e-05 | Test loss: 5.067586971563287e-05\n",
            "Epoch: 19110 | Loss: 4.9667061830405146e-05 | Test loss: 5.067586971563287e-05\n",
            "Epoch: 19120 | Loss: 4.9667061830405146e-05 | Test loss: 5.067586971563287e-05\n",
            "Epoch: 19130 | Loss: 4.9667061830405146e-05 | Test loss: 5.067586971563287e-05\n",
            "Epoch: 19140 | Loss: 4.9667061830405146e-05 | Test loss: 5.067586971563287e-05\n",
            "Epoch: 19150 | Loss: 4.9667061830405146e-05 | Test loss: 5.067586971563287e-05\n",
            "Epoch: 19160 | Loss: 4.9667061830405146e-05 | Test loss: 5.067586971563287e-05\n",
            "Epoch: 19170 | Loss: 4.9667061830405146e-05 | Test loss: 5.067586971563287e-05\n",
            "Epoch: 19180 | Loss: 4.9667061830405146e-05 | Test loss: 5.067586971563287e-05\n",
            "Epoch: 19190 | Loss: 4.9667061830405146e-05 | Test loss: 5.067586971563287e-05\n",
            "Epoch: 19200 | Loss: 4.9667061830405146e-05 | Test loss: 5.067586971563287e-05\n",
            "Epoch: 19210 | Loss: 4.9667061830405146e-05 | Test loss: 5.067586971563287e-05\n",
            "Epoch: 19220 | Loss: 4.9667061830405146e-05 | Test loss: 5.067586971563287e-05\n",
            "Epoch: 19230 | Loss: 4.9667061830405146e-05 | Test loss: 5.067586971563287e-05\n",
            "Epoch: 19240 | Loss: 4.9667061830405146e-05 | Test loss: 5.067586971563287e-05\n",
            "Epoch: 19250 | Loss: 4.9667061830405146e-05 | Test loss: 5.067586971563287e-05\n",
            "Epoch: 19260 | Loss: 4.9667061830405146e-05 | Test loss: 5.067586971563287e-05\n",
            "Epoch: 19270 | Loss: 4.9667061830405146e-05 | Test loss: 5.067586971563287e-05\n",
            "Epoch: 19280 | Loss: 4.9667061830405146e-05 | Test loss: 5.067586971563287e-05\n",
            "Epoch: 19290 | Loss: 4.9667061830405146e-05 | Test loss: 5.067586971563287e-05\n",
            "Epoch: 19300 | Loss: 4.9667061830405146e-05 | Test loss: 5.067586971563287e-05\n",
            "Epoch: 19310 | Loss: 4.9667061830405146e-05 | Test loss: 5.067586971563287e-05\n",
            "Epoch: 19320 | Loss: 4.9667061830405146e-05 | Test loss: 5.067586971563287e-05\n",
            "Epoch: 19330 | Loss: 4.9667061830405146e-05 | Test loss: 5.067586971563287e-05\n",
            "Epoch: 19340 | Loss: 4.9667061830405146e-05 | Test loss: 5.067586971563287e-05\n",
            "Epoch: 19350 | Loss: 4.9667061830405146e-05 | Test loss: 5.067586971563287e-05\n",
            "Epoch: 19360 | Loss: 4.9667061830405146e-05 | Test loss: 5.067586971563287e-05\n",
            "Epoch: 19370 | Loss: 4.9667061830405146e-05 | Test loss: 5.067586971563287e-05\n",
            "Epoch: 19380 | Loss: 4.9667061830405146e-05 | Test loss: 5.067586971563287e-05\n",
            "Epoch: 19390 | Loss: 4.9667061830405146e-05 | Test loss: 5.067586971563287e-05\n",
            "Epoch: 19400 | Loss: 4.9667061830405146e-05 | Test loss: 5.067586971563287e-05\n",
            "Epoch: 19410 | Loss: 4.9667061830405146e-05 | Test loss: 5.067586971563287e-05\n",
            "Epoch: 19420 | Loss: 4.9667061830405146e-05 | Test loss: 5.067586971563287e-05\n",
            "Epoch: 19430 | Loss: 4.9667061830405146e-05 | Test loss: 5.067586971563287e-05\n",
            "Epoch: 19440 | Loss: 4.9667061830405146e-05 | Test loss: 5.067586971563287e-05\n",
            "Epoch: 19450 | Loss: 4.9667061830405146e-05 | Test loss: 5.067586971563287e-05\n",
            "Epoch: 19460 | Loss: 4.9667061830405146e-05 | Test loss: 5.067586971563287e-05\n",
            "Epoch: 19470 | Loss: 4.9667061830405146e-05 | Test loss: 5.067586971563287e-05\n",
            "Epoch: 19480 | Loss: 4.9667061830405146e-05 | Test loss: 5.067586971563287e-05\n",
            "Epoch: 19490 | Loss: 4.9667061830405146e-05 | Test loss: 5.067586971563287e-05\n",
            "Epoch: 19500 | Loss: 4.9667061830405146e-05 | Test loss: 5.067586971563287e-05\n",
            "Epoch: 19510 | Loss: 4.9667061830405146e-05 | Test loss: 5.067586971563287e-05\n",
            "Epoch: 19520 | Loss: 4.9667061830405146e-05 | Test loss: 5.067586971563287e-05\n",
            "Epoch: 19530 | Loss: 4.9667061830405146e-05 | Test loss: 5.067586971563287e-05\n",
            "Epoch: 19540 | Loss: 4.9667061830405146e-05 | Test loss: 5.067586971563287e-05\n",
            "Epoch: 19550 | Loss: 4.9667061830405146e-05 | Test loss: 5.067586971563287e-05\n",
            "Epoch: 19560 | Loss: 4.9667061830405146e-05 | Test loss: 5.067586971563287e-05\n",
            "Epoch: 19570 | Loss: 4.9667061830405146e-05 | Test loss: 5.067586971563287e-05\n",
            "Epoch: 19580 | Loss: 4.9667061830405146e-05 | Test loss: 5.067586971563287e-05\n",
            "Epoch: 19590 | Loss: 4.9667061830405146e-05 | Test loss: 5.067586971563287e-05\n",
            "Epoch: 19600 | Loss: 4.9667061830405146e-05 | Test loss: 5.067586971563287e-05\n",
            "Epoch: 19610 | Loss: 4.9667061830405146e-05 | Test loss: 5.067586971563287e-05\n",
            "Epoch: 19620 | Loss: 4.9667061830405146e-05 | Test loss: 5.067586971563287e-05\n",
            "Epoch: 19630 | Loss: 4.9667061830405146e-05 | Test loss: 5.067586971563287e-05\n",
            "Epoch: 19640 | Loss: 4.9667061830405146e-05 | Test loss: 5.067586971563287e-05\n",
            "Epoch: 19650 | Loss: 4.9667061830405146e-05 | Test loss: 5.067586971563287e-05\n",
            "Epoch: 19660 | Loss: 4.9667061830405146e-05 | Test loss: 5.067586971563287e-05\n",
            "Epoch: 19670 | Loss: 4.9667061830405146e-05 | Test loss: 5.067586971563287e-05\n",
            "Epoch: 19680 | Loss: 4.9667061830405146e-05 | Test loss: 5.067586971563287e-05\n",
            "Epoch: 19690 | Loss: 4.9667061830405146e-05 | Test loss: 5.067586971563287e-05\n",
            "Epoch: 19700 | Loss: 4.9667061830405146e-05 | Test loss: 5.067586971563287e-05\n",
            "Epoch: 19710 | Loss: 4.9667061830405146e-05 | Test loss: 5.067586971563287e-05\n",
            "Epoch: 19720 | Loss: 4.9667061830405146e-05 | Test loss: 5.067586971563287e-05\n",
            "Epoch: 19730 | Loss: 4.9667061830405146e-05 | Test loss: 5.067586971563287e-05\n",
            "Epoch: 19740 | Loss: 4.9667061830405146e-05 | Test loss: 5.067586971563287e-05\n",
            "Epoch: 19750 | Loss: 4.9667061830405146e-05 | Test loss: 5.067586971563287e-05\n",
            "Epoch: 19760 | Loss: 4.9667061830405146e-05 | Test loss: 5.067586971563287e-05\n",
            "Epoch: 19770 | Loss: 4.9667061830405146e-05 | Test loss: 5.067586971563287e-05\n",
            "Epoch: 19780 | Loss: 4.9667061830405146e-05 | Test loss: 5.067586971563287e-05\n",
            "Epoch: 19790 | Loss: 4.9667061830405146e-05 | Test loss: 5.067586971563287e-05\n",
            "Epoch: 19800 | Loss: 4.9667061830405146e-05 | Test loss: 5.067586971563287e-05\n",
            "Epoch: 19810 | Loss: 4.9667061830405146e-05 | Test loss: 5.067586971563287e-05\n",
            "Epoch: 19820 | Loss: 4.9667061830405146e-05 | Test loss: 5.067586971563287e-05\n",
            "Epoch: 19830 | Loss: 4.9667061830405146e-05 | Test loss: 5.067586971563287e-05\n",
            "Epoch: 19840 | Loss: 4.9667061830405146e-05 | Test loss: 5.067586971563287e-05\n",
            "Epoch: 19850 | Loss: 4.9667061830405146e-05 | Test loss: 5.067586971563287e-05\n",
            "Epoch: 19860 | Loss: 4.9667061830405146e-05 | Test loss: 5.067586971563287e-05\n",
            "Epoch: 19870 | Loss: 4.9667061830405146e-05 | Test loss: 5.067586971563287e-05\n",
            "Epoch: 19880 | Loss: 4.9667061830405146e-05 | Test loss: 5.067586971563287e-05\n",
            "Epoch: 19890 | Loss: 4.9667061830405146e-05 | Test loss: 5.067586971563287e-05\n",
            "Epoch: 19900 | Loss: 4.9667061830405146e-05 | Test loss: 5.067586971563287e-05\n",
            "Epoch: 19910 | Loss: 4.9667061830405146e-05 | Test loss: 5.067586971563287e-05\n",
            "Epoch: 19920 | Loss: 4.9667061830405146e-05 | Test loss: 5.067586971563287e-05\n",
            "Epoch: 19930 | Loss: 4.9667061830405146e-05 | Test loss: 5.067586971563287e-05\n",
            "Epoch: 19940 | Loss: 4.9667061830405146e-05 | Test loss: 5.067586971563287e-05\n",
            "Epoch: 19950 | Loss: 4.9667061830405146e-05 | Test loss: 5.067586971563287e-05\n",
            "Epoch: 19960 | Loss: 4.9667061830405146e-05 | Test loss: 5.067586971563287e-05\n",
            "Epoch: 19970 | Loss: 4.9667061830405146e-05 | Test loss: 5.067586971563287e-05\n",
            "Epoch: 19980 | Loss: 4.9667061830405146e-05 | Test loss: 5.067586971563287e-05\n",
            "Epoch: 19990 | Loss: 4.9667061830405146e-05 | Test loss: 5.067586971563287e-05\n"
          ]
        }
      ]
    },
    {
      "cell_type": "code",
      "source": [
        "model_1.state_dict()"
      ],
      "metadata": {
        "colab": {
          "base_uri": "https://localhost:8080/"
        },
        "id": "ifnAlQbOeLen",
        "outputId": "3685c812-484d-43ce-bc81-319f67abccd5"
      },
      "execution_count": null,
      "outputs": [
        {
          "output_type": "execute_result",
          "data": {
            "text/plain": [
              "OrderedDict([('linear_layer.weight', tensor([[0.6999]], device='cuda:0')),\n",
              "             ('linear_layer.bias', tensor([0.3000], device='cuda:0'))])"
            ]
          },
          "metadata": {},
          "execution_count": 18
        }
      ]
    },
    {
      "cell_type": "code",
      "source": [
        "weight,bias"
      ],
      "metadata": {
        "colab": {
          "base_uri": "https://localhost:8080/"
        },
        "id": "PwR32g1Fe1vn",
        "outputId": "9e1a44f1-27b3-415d-a358-f356513b5570"
      },
      "execution_count": null,
      "outputs": [
        {
          "output_type": "execute_result",
          "data": {
            "text/plain": [
              "(0.7, 0.3)"
            ]
          },
          "metadata": {},
          "execution_count": 19
        }
      ]
    },
    {
      "cell_type": "markdown",
      "source": [
        "### 6.4 Making and evaluating predictions"
      ],
      "metadata": {
        "id": "-xBbtP3pg31M"
      }
    },
    {
      "cell_type": "code",
      "source": [
        "# Turn model intro evaluation mode\n",
        "model_1.eval()\n",
        "\n",
        "# Make predictions on the test data\n",
        "with torch.inference_mode():\n",
        "  preds = model_1(X_test)\n",
        "\n",
        "plot_predictions(predictions=preds.cpu())"
      ],
      "metadata": {
        "colab": {
          "base_uri": "https://localhost:8080/",
          "height": 599
        },
        "id": "AjheXDUpe4p5",
        "outputId": "1963e674-9d2c-4a3a-a26b-fe0a451f8592"
      },
      "execution_count": null,
      "outputs": [
        {
          "output_type": "display_data",
          "data": {
            "text/plain": [
              "<Figure size 1000x700 with 1 Axes>"
            ],
            "image/png": "[encoded data removed]"
          },
          "metadata": {}
        }
      ]
    },
    {
      "cell_type": "markdown",
      "source": [
        "### 6.5 Saving and loading a trained model"
      ],
      "metadata": {
        "id": "OnzDEeLzfdO8"
      }
    },
    {
      "cell_type": "code",
      "source": [
        "# Saving our PyTorch model\n",
        "from pathlib import Path\n",
        "\n",
        "# 1. Create models directory\n",
        "MODEL_PATH = Path(\"models\")\n",
        "MODEL_PATH.mkdir(parents=True, exist_ok=True)\n",
        "\n",
        "# 2. Create model save path\n",
        "MODEL_NAME = \"01_pytorch_workflow_model_1.pth\"\n",
        "MODEL_SAVE_PATH = MODEL_PATH / MODEL_NAME\n",
        "\n",
        "# 3. Save the model state_dict\n",
        "print(f\"Saving model to: {MODEL_SAVE_PATH}\")\n",
        "torch.save(obj=model_1.state_dict(), f=MODEL_SAVE_PATH)"
      ],
      "metadata": {
        "colab": {
          "base_uri": "https://localhost:8080/"
        },
        "id": "SwCrIpIviLNH",
        "outputId": "a2442d01-4533-4b14-cfd5-e8c924632f90"
      },
      "execution_count": null,
      "outputs": [
        {
          "output_type": "stream",
          "name": "stdout",
          "text": [
            "Saving model to: models/01_pytorch_workflow_model_1.pth\n"
          ]
        }
      ]
    },
    {
      "cell_type": "code",
      "source": [
        "!ls -l models"
      ],
      "metadata": {
        "colab": {
          "base_uri": "https://localhost:8080/"
        },
        "id": "kF31NeWCiaA2",
        "outputId": "c4068513-bc3b-4fda-cc75-04a88fcd8561"
      },
      "execution_count": null,
      "outputs": [
        {
          "output_type": "stream",
          "name": "stdout",
          "text": [
            "total 4\n",
            "-rw-r--r-- 1 root root 1744 Feb 27 22:40 01_pytorch_workflow_model_1.pth\n"
          ]
        }
      ]
    },
    {
      "cell_type": "code",
      "source": [
        "# Load a PyTorch model\n",
        "\n",
        "# Create a new instance of linear regression model V2\n",
        "loaded_model_1 = LinearRegressionModelV2()\n",
        "\n",
        "# Load the saved state_dict of model_1\n",
        "loaded_model_1.load_state_dict(torch.load(f=MODEL_SAVE_PATH))\n",
        "\n",
        "# Put the loaded model to device\n",
        "loaded_model_1.to(device)"
      ],
      "metadata": {
        "colab": {
          "base_uri": "https://localhost:8080/"
        },
        "id": "_JMOlty6idVf",
        "outputId": "17890b6f-83dd-48af-98e7-1343cf85cf26"
      },
      "execution_count": null,
      "outputs": [
        {
          "output_type": "stream",
          "name": "stderr",
          "text": [
            "<ipython-input-54-9145f8a01640>:7: FutureWarning: You are using `torch.load` with `weights_only=False` (the current default value), which uses the default pickle module implicitly. It is possible to construct malicious pickle data which will execute arbitrary code during unpickling (See https://github.com/pytorch/pytorch/blob/main/SECURITY.md#untrusted-models for more details). In a future release, the default value for `weights_only` will be flipped to `True`. This limits the functions that could be executed during unpickling. Arbitrary objects will no longer be allowed to be loaded via this mode unless they are explicitly allowlisted by the user via `torch.serialization.add_safe_globals`. We recommend you start setting `weights_only=True` for any use case where you don't have full control of the loaded file. Please open an issue on GitHub for any issues related to this experimental feature.\n",
            "  loaded_model_1.load_state_dict(torch.load(f=MODEL_SAVE_PATH))\n"
          ]
        },
        {
          "output_type": "execute_result",
          "data": {
            "text/plain": [
              "LinearRegressionModelV2(\n",
              "  (linear_layer): Linear(in_features=1, out_features=1, bias=True)\n",
              ")"
            ]
          },
          "metadata": {},
          "execution_count": 54
        }
      ]
    },
    {
      "cell_type": "code",
      "source": [
        "# Check on what device the loaded model runs\n",
        "next(loaded_model_1.parameters()).device"
      ],
      "metadata": {
        "colab": {
          "base_uri": "https://localhost:8080/"
        },
        "id": "F3CJExh4mTU2",
        "outputId": "44527042-983d-456e-ea27-03f440c11921"
      },
      "execution_count": null,
      "outputs": [
        {
          "output_type": "execute_result",
          "data": {
            "text/plain": [
              "device(type='cuda', index=0)"
            ]
          },
          "metadata": {},
          "execution_count": 55
        }
      ]
    },
    {
      "cell_type": "code",
      "source": [
        "loaded_model_1.state_dict()"
      ],
      "metadata": {
        "colab": {
          "base_uri": "https://localhost:8080/"
        },
        "id": "rtx7Om4OmVxY",
        "outputId": "bda72831-93c6-4154-ccba-ed6ed8511dc9"
      },
      "execution_count": null,
      "outputs": [
        {
          "output_type": "execute_result",
          "data": {
            "text/plain": [
              "OrderedDict([('linear_layer.weight', tensor([[0.6999]], device='cuda:0')),\n",
              "             ('linear_layer.bias', tensor([0.3000], device='cuda:0'))])"
            ]
          },
          "metadata": {},
          "execution_count": 56
        }
      ]
    },
    {
      "cell_type": "code",
      "source": [
        "# Evaluate loaded model\n",
        "loaded_model_1.eval()\n",
        "with torch.inference_mode():\n",
        "  loaded_model_1_preds = loaded_model_1(X_test)\n",
        "\n",
        "plot_predictions(predictions=loaded_model_1_preds.cpu())"
      ],
      "metadata": {
        "colab": {
          "base_uri": "https://localhost:8080/",
          "height": 599
        },
        "id": "YG9O7diPihQN",
        "outputId": "bcbb04a0-bc7c-4616-d997-ead18e81dbe5"
      },
      "execution_count": null,
      "outputs": [
        {
          "output_type": "display_data",
          "data": {
            "text/plain": [
              "<Figure size 1000x700 with 1 Axes>"
            ],
            "image/png": "[encoded data removed]"
          },
          "metadata": {}
        }
      ]
    },
    {
      "cell_type": "code",
      "source": [
        "preds == loaded_model_1_preds"
      ],
      "metadata": {
        "colab": {
          "base_uri": "https://localhost:8080/"
        },
        "id": "rmBEH3WFmvb9",
        "outputId": "91108d17-f3ee-415f-cf86-b24bdb428768"
      },
      "execution_count": null,
      "outputs": [
        {
          "output_type": "execute_result",
          "data": {
            "text/plain": [
              "tensor([[True],\n",
              "        [True],\n",
              "        [True],\n",
              "        [True],\n",
              "        [True],\n",
              "        [True],\n",
              "        [True],\n",
              "        [True],\n",
              "        [True],\n",
              "        [True]], device='cuda:0')"
            ]
          },
          "metadata": {},
          "execution_count": 59
        }
      ]
    },
    {
      "cell_type": "markdown",
      "source": [
        "## Exercises & Extra-curriculum\n",
        "\n",
        "For exercise & extra-curriculum, refer to: https://www.learnpytorch.io/01_pytorch_workflow/#exercises"
      ],
      "metadata": {
        "id": "-WCGwH7WmxuF"
      }
    }
  ]
}